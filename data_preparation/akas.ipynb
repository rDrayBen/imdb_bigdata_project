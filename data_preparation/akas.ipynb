{
 "cells": [
  {
   "metadata": {},
   "cell_type": "raw",
   "source": "First of all, load data through the schema containing all columns and specified types that corespond to title.akas.tsv dataset:",
   "id": "67d4efcd0635706a"
  },
  {
   "metadata": {
    "ExecuteTime": {
     "end_time": "2025-03-19T23:46:16.399232Z",
     "start_time": "2025-03-19T23:46:16.253475Z"
    }
   },
   "cell_type": "code",
   "source": [
    "from pyspark.sql import SparkSession\n",
    "from pyspark.sql.types import StructType, StructField, StringType, IntegerType\n",
    "\n",
    "spark = SparkSession.builder.appName(\"IMDb Dataset Processing\").getOrCreate()\n",
    "spark.sparkContext.setLogLevel(\"ERROR\")\n",
    "\n",
    "schema = StructType([\n",
    "    StructField(\"titleId\", StringType(), True),\n",
    "    StructField(\"ordering\", IntegerType(), True),\n",
    "    StructField(\"title\", StringType(), True),\n",
    "    StructField(\"region\", StringType(), True),\n",
    "    StructField(\"language\", StringType(), True),\n",
    "    StructField(\"types\", StringType(), True),\n",
    "    StructField(\"attributes\", StringType(), True),\n",
    "    StructField(\"isOriginalTitle\", IntegerType(), True),\n",
    "])\n",
    "\n",
    "file_path = \"../data/title.akas.tsv\"\n",
    "df = spark.read.csv(file_path, header=True, schema=schema, sep=\"\\t\")\n",
    "df.printSchema()\n",
    "df.show(10)"
   ],
   "id": "70a3d39476095236",
   "outputs": [
    {
     "name": "stdout",
     "output_type": "stream",
     "text": [
      "root\n",
      " |-- titleId: string (nullable = true)\n",
      " |-- ordering: integer (nullable = true)\n",
      " |-- title: string (nullable = true)\n",
      " |-- region: string (nullable = true)\n",
      " |-- language: string (nullable = true)\n",
      " |-- types: string (nullable = true)\n",
      " |-- attributes: string (nullable = true)\n",
      " |-- isOriginalTitle: integer (nullable = true)\n",
      "\n",
      "+---------+--------+--------------------+------+--------+-----------+-------------+---------------+\n",
      "|  titleId|ordering|               title|region|language|      types|   attributes|isOriginalTitle|\n",
      "+---------+--------+--------------------+------+--------+-----------+-------------+---------------+\n",
      "|tt0000001|       1|          Carmencita|    \\N|      \\N|   original|           \\N|              1|\n",
      "|tt0000001|       2|          Carmencita|    DE|      \\N|         \\N|literal title|              0|\n",
      "|tt0000001|       3|          Carmencita|    US|      \\N|imdbDisplay|           \\N|              0|\n",
      "|tt0000001|       4|Carmencita - span...|    HU|      \\N|imdbDisplay|           \\N|              0|\n",
      "|tt0000001|       5|          Καρμενσίτα|    GR|      \\N|imdbDisplay|           \\N|              0|\n",
      "|tt0000001|       6|          Карменсита|    RU|      \\N|imdbDisplay|           \\N|              0|\n",
      "|tt0000001|       7|          Карменсіта|    UA|      \\N|imdbDisplay|           \\N|              0|\n",
      "|tt0000001|       8|      カルメンチータ|    JP|      ja|imdbDisplay|           \\N|              0|\n",
      "|tt0000002|       1|Le clown et ses c...|    \\N|      \\N|   original|           \\N|              1|\n",
      "|tt0000002|       2|   A bohóc és kutyái|    HU|      \\N|imdbDisplay|           \\N|              0|\n",
      "+---------+--------+--------------------+------+--------+-----------+-------------+---------------+\n",
      "only showing top 10 rows\n",
      "\n"
     ]
    }
   ],
   "execution_count": 120
  },
  {
   "metadata": {
    "ExecuteTime": {
     "end_time": "2025-03-19T23:46:16.414110Z",
     "start_time": "2025-03-19T23:46:16.408991Z"
    }
   },
   "cell_type": "code",
   "source": [
    "string_cols = [field.name for field in df.schema.fields if isinstance(field.dataType, StringType)]\n",
    "print(f\"String columns: {string_cols}\")\n",
    "\n",
    "numeric_cols = [field.name for field in df.schema.fields if isinstance(field.dataType, IntegerType)]\n",
    "print(f\"Numeric columns: {numeric_cols}\")\n"
   ],
   "id": "ca4c601d3529cf2a",
   "outputs": [
    {
     "name": "stdout",
     "output_type": "stream",
     "text": [
      "String columns: ['titleId', 'title', 'region', 'language', 'types', 'attributes']\n",
      "Numeric columns: ['ordering', 'isOriginalTitle']\n"
     ]
    }
   ],
   "execution_count": 121
  },
  {
   "metadata": {
    "ExecuteTime": {
     "end_time": "2025-03-19T21:25:27.143823Z",
     "start_time": "2025-03-19T21:25:23.347123Z"
    }
   },
   "cell_type": "code",
   "source": [
    "row_count = df.count()\n",
    "col_count = len(df.columns)\n",
    "\n",
    "# Print row and column count\n",
    "print(f\"Number of rows: {row_count}\")\n",
    "print(f\"Number of columns: {col_count}\")"
   ],
   "id": "e2c7ec59d818a1df",
   "outputs": [
    {
     "name": "stderr",
     "output_type": "stream",
     "text": [
      "[Stage 582:==============================================>        (17 + 3) / 20]\r"
     ]
    },
    {
     "name": "stdout",
     "output_type": "stream",
     "text": [
      "Number of rows: 51659368\n",
      "Number of columns: 8\n"
     ]
    },
    {
     "name": "stderr",
     "output_type": "stream",
     "text": [
      "                                                                                \r"
     ]
    }
   ],
   "execution_count": 92
  },
  {
   "metadata": {
    "ExecuteTime": {
     "end_time": "2025-03-19T23:46:16.440373Z",
     "start_time": "2025-03-19T23:46:16.427749Z"
    }
   },
   "cell_type": "code",
   "source": "df = df.replace('\\\\N', None)",
   "id": "e3f0f3a6d32c41e8",
   "outputs": [],
   "execution_count": 122
  },
  {
   "metadata": {},
   "cell_type": "markdown",
   "source": "Below we get statistics for the numeric columns 'ordering' and 'isOriginalTitle':",
   "id": "5994b4a3cf4bb4e6"
  },
  {
   "metadata": {
    "ExecuteTime": {
     "end_time": "2025-03-19T22:30:47.892780Z",
     "start_time": "2025-03-19T22:30:29.649606Z"
    }
   },
   "cell_type": "code",
   "source": [
    "# Describe both columns\n",
    "ordering_stats = df.select(\"ordering\").describe()\n",
    "is_original_title_stats = df.select(\"isOriginalTitle\").describe()\n",
    "\n",
    "# Perform a join on the `summary` column\n",
    "merged_stats = ordering_stats.join(\n",
    "    is_original_title_stats,\n",
    "    on=\"summary\",\n",
    "    how=\"inner\"\n",
    ")\n",
    "\n",
    "# Rename columns for clarity\n",
    "merged_stats = merged_stats.withColumnRenamed(\"ordering\", \"ordering_stats\") \\\n",
    "                           .withColumnRenamed(\"isOriginalTitle\", \"is_original_title_stats\")\n",
    "\n",
    "# Show the merged result\n",
    "merged_stats.show(truncate=False)\n"
   ],
   "id": "9d4368eb4713174c",
   "outputs": [
    {
     "name": "stderr",
     "output_type": "stream",
     "text": [
      "[Stage 715:====================================================>  (19 + 1) / 20]\r"
     ]
    },
    {
     "name": "stdout",
     "output_type": "stream",
     "text": [
      "+-------+-----------------+-----------------------+\n",
      "|summary|ordering_stats   |is_original_title_stats|\n",
      "+-------+-----------------+-----------------------+\n",
      "|count  |51659368         |51658538               |\n",
      "|mean   |4.292447712484597|0.22310130031167355    |\n",
      "|stddev |4.019603371089932|0.4163257300073619     |\n",
      "|min    |1                |0                      |\n",
      "|max    |251              |1                      |\n",
      "+-------+-----------------+-----------------------+\n",
      "\n"
     ]
    },
    {
     "name": "stderr",
     "output_type": "stream",
     "text": [
      "                                                                                \r"
     ]
    }
   ],
   "execution_count": 117
  },
  {
   "metadata": {},
   "cell_type": "markdown",
   "source": "Here we see that ordering, which serves as a unique identifier for rows associated with the same titleId has the mean of approximately 4, which indicatees that there are 4 alternative versions of each title on average. The isOriginalTitle column shows that most titles in the dataset are not the original version, with only about 22% being marked as 0 (not original).",
   "id": "6b43594a60d046c9"
  },
  {
   "metadata": {
    "ExecuteTime": {
     "end_time": "2025-03-19T23:50:28.991102Z",
     "start_time": "2025-03-19T23:46:37.045855Z"
    }
   },
   "cell_type": "code",
   "source": [
    "from pyspark.sql.functions import col\n",
    "\n",
    "statistics = []\n",
    "total_rows = df.count()\n",
    "for column in df.columns:\n",
    "    null_count = df.select(col(column)).filter(df[column].isNull()).count()\n",
    "\n",
    "    non_null_count = df.select(col(column)).filter(df[column].isNotNull()).count()\n",
    "\n",
    "    empty_count = 0\n",
    "    if dict(df.dtypes)[column] == 'string':\n",
    "        empty_count = df.filter(col(column) == \"\").count()\n",
    "    null_percentage = (float(null_count) / total_rows) * 100\n",
    "    statistics.append((column, null_count, non_null_count, null_percentage, empty_count))\n",
    "\n",
    "statistics_df = spark.createDataFrame(statistics, [\"Column\", \"Null Count\", \"Non-Null Count\", \"Null Percentage\", \"Empty String Count\"])\n",
    "\n",
    "statistics_df.show(truncate=False)\n"
   ],
   "id": "5fd834beb0c85e5a",
   "outputs": [
    {
     "name": "stderr",
     "output_type": "stream",
     "text": [
      "                                                                                \r"
     ]
    },
    {
     "name": "stdout",
     "output_type": "stream",
     "text": [
      "+---------------+----------+--------------+---------------------+------------------+\n",
      "|Column         |Null Count|Non-Null Count|Null Percentage      |Empty String Count|\n",
      "+---------------+----------+--------------+---------------------+------------------+\n",
      "|titleId        |0         |51659368      |0.0                  |0                 |\n",
      "|ordering       |0         |51659368      |0.0                  |0                 |\n",
      "|title          |0         |51659368      |0.0                  |0                 |\n",
      "|region         |11608301  |40051067      |22.470853689112108   |0                 |\n",
      "|language       |17062624  |34596744      |33.02909938813034    |0                 |\n",
      "|types          |35828205  |15831163      |69.35471026281235    |0                 |\n",
      "|attributes     |51362414  |296954        |99.42516911937443    |0                 |\n",
      "|isOriginalTitle|830       |51658538      |0.0016066785795753444|0                 |\n",
      "+---------------+----------+--------------+---------------------+------------------+\n",
      "\n"
     ]
    }
   ],
   "execution_count": 123
  },
  {
   "metadata": {},
   "cell_type": "markdown",
   "source": "In the above table we can sse that most columns ('titleId', 'ordering', 'title', 'region', 'language') are complete and them reliable for analysis. Columns 'types' and 'attributes' have a high percentage of missing values, so we won't be able to make analysis based on their values and it's better to remove them:",
   "id": "9d462a0542e49af1"
  },
  {
   "metadata": {
    "ExecuteTime": {
     "end_time": "2025-03-19T19:49:35.334207Z",
     "start_time": "2025-03-19T19:49:35.264424Z"
    }
   },
   "cell_type": "code",
   "source": [
    "df = df.drop(\"attributes\", \"types\")\n",
    "df.show(10)"
   ],
   "id": "977b23a463d85f88",
   "outputs": [],
   "execution_count": 58
  },
  {
   "metadata": {
    "ExecuteTime": {
     "end_time": "2025-03-19T23:46:16.154127Z",
     "start_time": "2025-03-19T23:44:56.090667Z"
    }
   },
   "cell_type": "code",
   "source": [
    "original_count = df.count()\n",
    "distinct_count = df.distinct().count()\n",
    "\n",
    "if original_count != distinct_count:\n",
    "    print(f\"There are {original_count - distinct_count} duplicate rows.\")\n",
    "else:\n",
    "    print(\"No duplicates found.\")"
   ],
   "id": "d9089b15b071487",
   "outputs": [
    {
     "name": "stderr",
     "output_type": "stream",
     "text": [
      "[Stage 796:============================================>          (17 + 4) / 21]\r"
     ]
    },
    {
     "name": "stdout",
     "output_type": "stream",
     "text": [
      "No duplicates found.\n"
     ]
    },
    {
     "name": "stderr",
     "output_type": "stream",
     "text": [
      "                                                                                \r"
     ]
    }
   ],
   "execution_count": 119
  },
  {
   "metadata": {
    "ExecuteTime": {
     "end_time": "2025-03-19T23:52:39.453534Z",
     "start_time": "2025-03-19T23:52:29.646129Z"
    }
   },
   "cell_type": "code",
   "source": [
    "null_count = df.filter(col(\"region\").isNull() | col(\"language\").isNull()).count()\n",
    "print(f\"Number of rows with null in either 'region' or 'language': {null_count}\")"
   ],
   "id": "241d2d1a02642d22",
   "outputs": [
    {
     "name": "stderr",
     "output_type": "stream",
     "text": [
      "[Stage 873:==============================================>        (17 + 3) / 20]\r"
     ]
    },
    {
     "name": "stdout",
     "output_type": "stream",
     "text": [
      "Number of rows with null in either 'region' or 'language': 17062624\n"
     ]
    },
    {
     "name": "stderr",
     "output_type": "stream",
     "text": [
      "                                                                                \r"
     ]
    }
   ],
   "execution_count": 124
  },
  {
   "metadata": {
    "ExecuteTime": {
     "end_time": "2025-03-19T23:53:46.029465Z",
     "start_time": "2025-03-19T23:53:42.618385Z"
    }
   },
   "cell_type": "code",
   "source": "print(f\"Percentage of rows with null in either 'region' or 'language': {(float(null_count)/df.count()) * 100}\")",
   "id": "c2df55f59750a268",
   "outputs": [
    {
     "name": "stderr",
     "output_type": "stream",
     "text": [
      "[Stage 876:==============================================>        (17 + 3) / 20]\r"
     ]
    },
    {
     "name": "stdout",
     "output_type": "stream",
     "text": [
      "Percentage of rows with null in either 'region' or 'language': 33.02909938813034\n"
     ]
    },
    {
     "name": "stderr",
     "output_type": "stream",
     "text": [
      "                                                                                \r"
     ]
    }
   ],
   "execution_count": 125
  },
  {
   "metadata": {},
   "cell_type": "markdown",
   "source": "Columns 'region' and 'language' are important for table analysis and have high percentage of null values (each). It's better not to drop the rows, which contain null either in 'region' or in 'language' column as it would lead to loosing  33.02% of all data, but replace nulls with \"Unknown\" placeholder.",
   "id": "909d3c3c32d4de93"
  },
  {
   "metadata": {
    "ExecuteTime": {
     "end_time": "2025-03-19T23:55:29.244567Z",
     "start_time": "2025-03-19T23:55:29.217706Z"
    }
   },
   "cell_type": "code",
   "source": "df= df.fillna({\"region\": \"Unknown\", \"language\": \"Unknown\"})",
   "id": "15d098651337c43c",
   "outputs": [],
   "execution_count": 126
  },
  {
   "metadata": {},
   "cell_type": "markdown",
   "source": "",
   "id": "d5336839d87b977f"
  },
  {
   "metadata": {},
   "cell_type": "markdown",
   "source": "The region column may contain codes that are not immediately recognizable, so it would be helpful to but create a 'country' column with the full name and that would  make the data easier to interpret.",
   "id": "f386b0ff5102ffbf"
  },
  {
   "metadata": {
    "ExecuteTime": {
     "end_time": "2025-03-20T00:02:22.921758Z",
     "start_time": "2025-03-20T00:02:22.497610Z"
    }
   },
   "cell_type": "code",
   "source": [
    "import pycountry\n",
    "from pyspark.sql.functions import udf\n",
    "from pyspark.sql.types import StringType\n",
    "\n",
    "def get_country_name(region_code):\n",
    "    try:\n",
    "        country = pycountry.countries.get(alpha_2=region_code)\n",
    "        if country:\n",
    "            return country.name\n",
    "        else:\n",
    "            return region_code\n",
    "    except Exception as e:\n",
    "        return region_code\n",
    "\n",
    "get_country_name_udf = udf(get_country_name, StringType())\n",
    "\n",
    "df_with_countries = df.withColumn(\"country\", get_country_name_udf(df[\"region\"]))\n",
    "\n",
    "df_with_countries.where((df_with_countries[\"country\"] != \"Unknown\") & (df_with_countries[\"region\"] != \"Unknown\")).select(\"region\", \"country\").show(truncate=False)\n"
   ],
   "id": "90ec60e05c1f287c",
   "outputs": [
    {
     "name": "stdout",
     "output_type": "stream",
     "text": [
      "+------+------------------+\n",
      "|region|country           |\n",
      "+------+------------------+\n",
      "|DE    |Germany           |\n",
      "|US    |United States     |\n",
      "|HU    |Hungary           |\n",
      "|GR    |Greece            |\n",
      "|RU    |Russian Federation|\n",
      "|UA    |Ukraine           |\n",
      "|JP    |Japan             |\n",
      "|HU    |Hungary           |\n",
      "|RO    |Romania           |\n",
      "|DE    |Germany           |\n",
      "|FR    |France            |\n",
      "|US    |United States     |\n",
      "|RU    |Russian Federation|\n",
      "|JP    |Japan             |\n",
      "|JP    |Japan             |\n",
      "|GB    |United Kingdom    |\n",
      "|US    |United States     |\n",
      "|DE    |Germany           |\n",
      "|FR    |France            |\n",
      "|RO    |Romania           |\n",
      "+------+------------------+\n",
      "only showing top 20 rows\n",
      "\n"
     ]
    }
   ],
   "execution_count": 129
  },
  {
   "metadata": {
    "ExecuteTime": {
     "end_time": "2025-03-19T21:48:24.629503Z",
     "start_time": "2025-03-19T21:48:24.352508Z"
    }
   },
   "cell_type": "code",
   "source": "df_with_countries.show(10)",
   "id": "c47c80d27d5cc181",
   "outputs": [
    {
     "name": "stdout",
     "output_type": "stream",
     "text": [
      "+---------+--------+--------------------+-------+--------+-----------+-------------+---------------+------------------+\n",
      "|  titleId|ordering|               title| region|language|      types|   attributes|isOriginalTitle|           country|\n",
      "+---------+--------+--------------------+-------+--------+-----------+-------------+---------------+------------------+\n",
      "|tt0000001|       1|          Carmencita|Unknown| Unknown|   original|         NULL|              1|           Unknown|\n",
      "|tt0000001|       2|          Carmencita|     DE| Unknown|       NULL|literal title|              0|           Germany|\n",
      "|tt0000001|       3|          Carmencita|     US| Unknown|imdbDisplay|         NULL|              0|     United States|\n",
      "|tt0000001|       4|Carmencita - span...|     HU| Unknown|imdbDisplay|         NULL|              0|           Hungary|\n",
      "|tt0000001|       5|          Καρμενσίτα|     GR| Unknown|imdbDisplay|         NULL|              0|            Greece|\n",
      "|tt0000001|       6|          Карменсита|     RU| Unknown|imdbDisplay|         NULL|              0|Russian Federation|\n",
      "|tt0000001|       7|          Карменсіта|     UA| Unknown|imdbDisplay|         NULL|              0|           Ukraine|\n",
      "|tt0000001|       8|      カルメンチータ|     JP|      ja|imdbDisplay|         NULL|              0|             Japan|\n",
      "|tt0000002|       1|Le clown et ses c...|Unknown| Unknown|   original|         NULL|              1|           Unknown|\n",
      "|tt0000002|       2|   A bohóc és kutyái|     HU| Unknown|imdbDisplay|         NULL|              0|           Hungary|\n",
      "+---------+--------+--------------------+-------+--------+-----------+-------------+---------------+------------------+\n",
      "only showing top 10 rows\n",
      "\n"
     ]
    }
   ],
   "execution_count": 102
  },
  {
   "metadata": {
    "ExecuteTime": {
     "end_time": "2025-03-20T00:04:31.679499Z",
     "start_time": "2025-03-20T00:04:31.673749Z"
    }
   },
   "cell_type": "code",
   "source": [
    "import pycountry\n",
    "import matplotlib.pyplot as plt\n",
    "from matplotlib.ticker import FuncFormatter\n",
    "def plot_film_stats_by_country(country_counts, header):\n",
    "    country_counts_filtered = country_counts.filter(~country_counts[\"country\"].isin([\"XWW\", \"XWG\", \"Unknown\"]))\n",
    "    country_counts_filtered = country_counts_filtered.orderBy(country_counts_filtered[\"count\"].desc())\n",
    "    country_counts_list = country_counts_filtered.collect()[:20]\n",
    "    country_names = [row['country'] for row in country_counts_list]\n",
    "    counts = [row['count'] for row in country_counts_list]\n",
    "\n",
    "    plt.figure(figsize=(12, 6))\n",
    "    plt.barh(country_names, counts, color='skyblue')\n",
    "    plt.xlabel(header)\n",
    "    plt.ylabel('Region')\n",
    "    plt.title('Top 20 Regions by Film Count')\n",
    "\n",
    "    formatter = FuncFormatter(lambda x, pos: '{:,.0f}'.format(x))\n",
    "    plt.gca().xaxis.set_major_formatter(formatter)\n",
    "\n",
    "    plt.show()\n"
   ],
   "id": "e0998b6d1365d212",
   "outputs": [],
   "execution_count": 131
  },
  {
   "metadata": {},
   "cell_type": "markdown",
   "source": "Check the total number of occurrences of films for each region:",
   "id": "d9bdb9e179feb95c"
  },
  {
   "metadata": {
    "ExecuteTime": {
     "end_time": "2025-03-19T21:52:54.295571Z",
     "start_time": "2025-03-19T21:51:59.941778Z"
    }
   },
   "cell_type": "code",
   "source": [
    "\n",
    "country_counts = df_with_countries.groupBy(\"country\").count()\n",
    "plot_film_stats_by_country(country_counts, \"Total number of occurrences of films for each region\")"
   ],
   "id": "d1a45751663e7530",
   "outputs": [
    {
     "name": "stderr",
     "output_type": "stream",
     "text": [
      "                                                                                \r"
     ]
    },
    {
     "data": {
      "text/plain": [
       "<Figure size 1200x600 with 1 Axes>"
      ],
      "image/png": "[encoded data removed]"
     },
     "metadata": {},
     "output_type": "display_data"
    }
   ],
   "execution_count": 107
  },
  {
   "metadata": {
    "ExecuteTime": {
     "end_time": "2025-03-20T00:06:03.620588Z",
     "start_time": "2025-03-20T00:04:34.294321Z"
    }
   },
   "cell_type": "code",
   "source": [
    "from pyspark.sql.functions import countDistinct\n",
    "country_counts = df_with_countries.groupBy(\"country\").agg(countDistinct(\"titleId\").alias(\"count\"))\n",
    "plot_film_stats_by_country(country_counts, \"Distinct Film Count by Country\")"
   ],
   "id": "ef4c1d2ec9e1164f",
   "outputs": [
    {
     "name": "stderr",
     "output_type": "stream",
     "text": [
      "                                                                                \r"
     ]
    },
    {
     "data": {
      "text/plain": [
       "<Figure size 1200x600 with 1 Axes>"
      ],
      "image/png": "[encoded data removed]"
     },
     "metadata": {},
     "output_type": "display_data"
    }
   ],
   "execution_count": 132
  },
  {
   "metadata": {},
   "cell_type": "markdown",
   "source": "Check top 5 most frequent titles:",
   "id": "b5be50137ce96dc3"
  },
  {
   "metadata": {
    "ExecuteTime": {
     "end_time": "2025-03-19T21:33:45.562729Z",
     "start_time": "2025-03-19T21:33:22.925897Z"
    }
   },
   "cell_type": "code",
   "source": [
    "top_titles = df.groupBy(\"title\").count().orderBy(\"count\", ascending=False).limit(5)\n",
    "top_titles.show()"
   ],
   "id": "19e8fe60f7e39fb7",
   "outputs": [
    {
     "name": "stderr",
     "output_type": "stream",
     "text": [
      "[Stage 659:===================>                                     (3 + 6) / 9]\r"
     ]
    },
    {
     "name": "stdout",
     "output_type": "stream",
     "text": [
      "+-------------+------+\n",
      "|        title| count|\n",
      "+-------------+------+\n",
      "|Episodio #1.1|108703|\n",
      "|Episodio #1.2| 98364|\n",
      "|Episodio #1.3| 93063|\n",
      "|Episodio #1.4| 86374|\n",
      "|Episodio #1.5| 79252|\n",
      "+-------------+------+\n",
      "\n"
     ]
    },
    {
     "name": "stderr",
     "output_type": "stream",
     "text": [
      "                                                                                \r"
     ]
    }
   ],
   "execution_count": 95
  },
  {
   "metadata": {},
   "cell_type": "markdown",
   "source": "Count the number of films by country and language:",
   "id": "28ebef91083d2b30"
  },
  {
   "metadata": {
    "ExecuteTime": {
     "end_time": "2025-03-19T22:14:10.231550Z",
     "start_time": "2025-03-19T22:13:42.826323Z"
    }
   },
   "cell_type": "code",
   "source": [
    "language_counts_per_region = df_with_countries.filter(col(\"language\") != \"Unknown\").groupBy(\"country\", \"language\").count().orderBy(\"count\", ascending=False)\n",
    "language_counts_per_region.show()"
   ],
   "id": "430ab236c9e23c51",
   "outputs": [
    {
     "name": "stderr",
     "output_type": "stream",
     "text": [
      "[Stage 697:====================================================>  (19 + 1) / 20]\r"
     ]
    },
    {
     "name": "stdout",
     "output_type": "stream",
     "text": [
      "+------------+--------+-------+\n",
      "|     country|language|  count|\n",
      "+------------+--------+-------+\n",
      "|       Japan|      ja|4921082|\n",
      "|       India|      hi|4827985|\n",
      "|      France|      fr|4790058|\n",
      "|       Spain|      es|4790029|\n",
      "|     Germany|      de|4790016|\n",
      "|       Italy|      it|4790009|\n",
      "|    Portugal|      pt|4789959|\n",
      "|         XWW|      en| 196623|\n",
      "|      Canada|      en| 117452|\n",
      "|       India|      en|  73409|\n",
      "|      Canada|      fr|  57952|\n",
      "|     Türkiye|      tr|  39350|\n",
      "|        SUHH|      ru|  38261|\n",
      "|       China|     cmn|  37552|\n",
      "| Philippines|      en|  31563|\n",
      "|   Singapore|      en|  29465|\n",
      "|    Bulgaria|      bg|  27208|\n",
      "|South Africa|      en|  26087|\n",
      "|   Hong Kong|      en|  16793|\n",
      "|   Indonesia|      en|  14304|\n",
      "+------------+--------+-------+\n",
      "only showing top 20 rows\n",
      "\n"
     ]
    },
    {
     "name": "stderr",
     "output_type": "stream",
     "text": [
      "                                                                                \r"
     ]
    }
   ],
   "execution_count": 114
  },
  {
   "metadata": {
    "ExecuteTime": {
     "end_time": "2025-03-20T01:27:14.955665Z",
     "start_time": "2025-03-20T01:27:14.479220Z"
    }
   },
   "cell_type": "code",
   "source": [
    "# df_with_countries = df_with_countries.drop(\"attributes\", \"types\")\n",
    "df_with_countries.show(10)"
   ],
   "id": "1237b955be09c9b6",
   "outputs": [
    {
     "name": "stdout",
     "output_type": "stream",
     "text": [
      "The history saving thread hit an unexpected error (OperationalError('unable to open database file')).History will not be written to the database.\n",
      "+---------+--------+--------------------+-------+--------+---------------+------------------+\n",
      "|  titleId|ordering|               title| region|language|isOriginalTitle|           country|\n",
      "+---------+--------+--------------------+-------+--------+---------------+------------------+\n",
      "|tt0000001|       1|          Carmencita|Unknown| Unknown|              1|           Unknown|\n",
      "|tt0000001|       2|          Carmencita|     DE| Unknown|              0|           Germany|\n",
      "|tt0000001|       3|          Carmencita|     US| Unknown|              0|     United States|\n",
      "|tt0000001|       4|Carmencita - span...|     HU| Unknown|              0|           Hungary|\n",
      "|tt0000001|       5|          Καρμενσίτα|     GR| Unknown|              0|            Greece|\n",
      "|tt0000001|       6|          Карменсита|     RU| Unknown|              0|Russian Federation|\n",
      "|tt0000001|       7|          Карменсіта|     UA| Unknown|              0|           Ukraine|\n",
      "|tt0000001|       8|      カルメンチータ|     JP|      ja|              0|             Japan|\n",
      "|tt0000002|       1|Le clown et ses c...|Unknown| Unknown|              1|           Unknown|\n",
      "|tt0000002|       2|   A bohóc és kutyái|     HU| Unknown|              0|           Hungary|\n",
      "+---------+--------+--------------------+-------+--------+---------------+------------------+\n",
      "only showing top 10 rows\n",
      "\n"
     ]
    },
    {
     "name": "stderr",
     "output_type": "stream",
     "text": [
      "                                                                                \r"
     ]
    }
   ],
   "execution_count": 143
  },
  {
   "metadata": {
    "ExecuteTime": {
     "end_time": "2025-03-20T01:30:29.588491Z",
     "start_time": "2025-03-20T01:28:54.769903Z"
    }
   },
   "cell_type": "code",
   "source": [
    "temp_dir = \"temp/title_akas_cleaned\"\n",
    "df_with_countries.coalesce(1).write.option(\"delimiter\", \"\\t\") \\\n",
    "    .option(\"header\", \"true\") \\\n",
    "    .mode(\"overwrite\") \\\n",
    "    .csv(temp_dir)"
   ],
   "id": "391beb2a0819e283",
   "outputs": [
    {
     "name": "stderr",
     "output_type": "stream",
     "text": [
      "                                                                                \r"
     ]
    }
   ],
   "execution_count": 145
  },
  {
   "metadata": {},
   "cell_type": "markdown",
   "source": [
    "Business questions:\n",
    "1. Which regions have the highest number of original titles (isOriginalTitle = 1) in the last 5 years? (Filter tables 'title.akas' by isOriginalTitle and 'title.basics' by startYear)<br>\n",
    "\n",
    "*updated, relies on startYear in title.basics*<br>\n",
    "**Which regions have the highest number of original titles in the last 5 years, and how do these titles correlate with their average ratings? (can also include the min, max, and standard deviation of ratings)**\n",
    "\n",
    "| region | num_original_titles | avg_rating |\n",
    "|--------|---------------------|------------|\n",
    "| US     | 120                 | 7.3        |\n",
    "| FR     | 90                  | 6.8        |\n",
    "| DE     | 70                  | 7.1        |\n",
    "| ES     | 50                  | 6.5        |\n",
    "\n",
    "Answers like<br>\n",
    "The US leads in the number of original titles, and the titles in the US also have the highest average ratings.<br>\n",
    "Spain has the least number of original titles among the regions listed, with only 50 titles. The average rating of 6.5 is the lowest.<br>\n",
    "The number of original titles in Germany is fewer than in the US and France, but the ratings are still high and similar to those in the US.<br>\n",
    "\n",
    "2. Which languages have the most titles for a specific region and time period? (Filter tables 'title.akas' by region and 'title.basics' specific time frames)\n",
    "\n",
    "*updated, relies on startYear in title.basics*<br>\n",
    "**What are the most successful (highest-rated) titles in the past year created by recently active directors and writers? (title.ratings: tconst, averageRating; title.basics: tconst, primaryTitle, startYear; title.principals: tconst, nconst, category)**<br>\n",
    "\n",
    "| title     | director_name | avg_rating | release_year |\n",
    "|-----------|---------------|------------|--------------|\n",
    "| Movie A   | Director A    | 8.9        | 2024         |\n",
    "| Movie B   | Director B    | 8.5        | 2024         |\n",
    "| Movie C   | Director A    | 8.2        | 2024         |\n",
    "| Movie D   | Director C    | 8.0        | 2024         |\n",
    "\n",
    "Answers like<br>\n",
    "Movie A, directed by Director A, with a high rating of 8.9.<br>\n",
    "Movie B, directed by Director B, with a rating of 8.5.<br>\n",
    "3. **Which actors are most frequently associated with high-rated films across multiple regions, and how do their appearances vary by region? (Join 'title.akas' with 'title.ratings' to get region-specific films, and then join with 'title.principals' to find the actors involved)**<br>\n",
    "\n",
    "| actor_name | region | appearances |\n",
    "|------------|--------|-------------|\n",
    "| Actor A    | US     | 15          |\n",
    "| Actor B    | FR     | 12          |\n",
    "| Actor A    | FR     | 10          |\n",
    "| Actor C    | DE     | 8           |\n",
    "| Actor B    | US     | 7           |\n",
    "| Actor D    | US     | 5           |\n",
    "| Actor A    | DE     | 4           |\n",
    "| Actor E    | FR     | 3           |\n",
    "\n",
    "Answers like<br>\n",
    "Actor A appears the most in high-rated films in multiple regions, with a significant number of appearances in both the US and FR.\n",
    "\n",
    "4. Which regions have the most alternative titles for films? (Group the titles by region and count how many alternative titles exist for each region)<br>\n",
    "5. How has the average rating of films in each region changed over the last 10 years compared to the regional average? (Join the 'title.akas' table with the 'title.ratings' table on titleId to get the ratings of films for each region. The use the window function to partition by region and time to get the regional average rating for each region over time.)<br>\n",
    "\n",
    "*updated, relies on startYear in title.basics*<br>\n",
    "Compare based on languages:<br>\n",
    "**How has the average rating of films in each language (based on original titles) changed over the last 5 years compared to the all-time average rating for that language? (title.basics: tconst, startYear, genres; title.ratings: tconst, averageRating; title.akas: titleId, isOriginalTitle, language)**\n",
    "\n",
    "| Language | Avg Rating (Last 5 Years) | Avg Rating (All Time) | Rating Difference |\n",
    "|----------|---------------------------|-----------------------|-------------------|\n",
    "| English  | 7.5                       | 6.8                   | 0.7               |\n",
    "| Spanish  | 8.1                       | 8.0                   | 0.1               |\n",
    "| French   | 6.4                       | 6.9                   | -0.5              |\n",
    "\n",
    "\n",
    "6. Which film titles have the most changes in regional names? (Group titles by titleId in 'title.akas' and count distinct alternative names by region)<br>\n",
    "\n",
    "*updated*<br>\n",
    "**Is there a pattern between the original language of a movie and its translation count in specific regions? (title.basics: tconst, originalTitle;\n",
    "title.akas: titleId, region, language, isOriginalTitle)**\n",
    "\n",
    "| original_title | region | num_translations | original_language |\n",
    "|----------------|--------|------------------|-------------------|\n",
    "| Movie A        | US     | 10               | English           |\n",
    "| Movie A        | FR     | 7                | English           |\n",
    "| Movie B        | US     | 5                | Spanish           |\n",
    "| Movie B        | DE     | 4                | Spanish           |\n",
    "| Movie C        | FR     | 6                | French            |\n",
    "\n",
    "Answers like\n",
    "Movies in English (e.g., Movie A) tend to have higher translation counts in regions like the US and France.\n",
    "Movies in Spanish (e.g., Movie B) are more regionally specific.\n",
    "Movies in French (e.g., Movie C) are localized more within French-speaking regions (like France), with fewer translations outside of these areas"
   ],
   "id": "94a32b5f7d342757"
  },
  {
   "metadata": {},
   "cell_type": "code",
   "outputs": [],
   "execution_count": null,
   "source": "",
   "id": "d94b9c52ab5cbb39"
  }
 ],
 "metadata": {
  "kernelspec": {
   "display_name": "Python 3",
   "language": "python",
   "name": "python3"
  },
  "language_info": {
   "codemirror_mode": {
    "name": "ipython",
    "version": 2
   },
   "file_extension": ".py",
   "mimetype": "text/x-python",
   "name": "python",
   "nbconvert_exporter": "python",
   "pygments_lexer": "ipython2",
   "version": "2.7.6"
  }
 },
 "nbformat": 4,
 "nbformat_minor": 5
}
