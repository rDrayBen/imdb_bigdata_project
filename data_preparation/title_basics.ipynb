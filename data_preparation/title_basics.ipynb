{
 "cells": [
  {
   "cell_type": "code",
   "execution_count": 1,
   "id": "52c2f312-3f0a-4f26-8339-3fca6f3cae3a",
   "metadata": {},
   "outputs": [],
   "source": [
    "from pyspark.sql import SparkSession\n",
    "from pyspark.sql.functions import col, count, countDistinct, isnan, when\n",
    "import pyspark.sql.types as t \n",
    "from pyspark.sql.functions import desc\n",
    "from pyspark.sql import functions as F\n",
    "\n"
   ]
  },
  {
   "cell_type": "code",
   "execution_count": 2,
   "id": "8caa68cf-a01f-407b-b148-cf2e97292f13",
   "metadata": {},
   "outputs": [],
   "source": [
    "def get_counts_and_distinct_values(df, col_name):\n",
    "    count_df = df.groupBy(col_name).count()\n",
    "    distinct_df = df.select(col_name).distinct().orderBy(F.col(col_name).desc())\n",
    "    result_df = count_df.join(distinct_df, on=col_name, how=\"inner\")\n",
    "    return result_df\n",
    "\n",
    "\n",
    "def filter_df_by_column_values(df, col_name, values, invert_filter=False):\n",
    "    if invert_filter:\n",
    "        condition = ~F.col(col_name).isin(values)\n",
    "    else:\n",
    "        condition = F.col(col_name).isin(values)\n",
    "    \n",
    "    return df.filter(condition)\n",
    "    "
   ]
  },
  {
   "cell_type": "code",
   "execution_count": 3,
   "id": "89fecd36-cff8-48d7-9c4b-9a39df3d71dd",
   "metadata": {},
   "outputs": [
    {
     "name": "stderr",
     "output_type": "stream",
     "text": [
      "Using Spark's default log4j profile: org/apache/spark/log4j-defaults.properties\n",
      "Setting default log level to \"WARN\".\n",
      "To adjust logging level use sc.setLogLevel(newLevel). For SparkR, use setLogLevel(newLevel).\n",
      "25/03/19 22:09:55 WARN NativeCodeLoader: Unable to load native-hadoop library for your platform... using builtin-java classes where applicable\n"
     ]
    }
   ],
   "source": [
    "spark = SparkSession.builder.getOrCreate()"
   ]
  },
  {
   "cell_type": "markdown",
   "id": "762ee57f-88ab-4183-b7df-fcf859159d7a",
   "metadata": {},
   "source": [
    "### **title.basics.tsv**\n",
    "\n",
    "|      Name      |    Type      |   Description   |\n",
    "| -------------  | ------------ | ----------------|\n",
    "| tconst         | string       | alphanumeric unique identifier of the title |\n",
    "| titleType      | string       | the type/format of the title (e.g. movie, short, tvseries, tvepisode, video, etc) |\n",
    "| primaryTitle   | string       | the more popular title / the title used by the filmmakers on promotional materials at the point of release |\n",
    "| originalTitle  | string       | original title, in the original language |\n",
    "| isAdult        | boolean      | 0: non-adult title; 1: adult title |\n",
    "| startYear      | YYYY         | represents the release year of a title. In the case of TV Series, it is the series start year |\n",
    "| endYear        | YYYY         | TV Series end year. ‘\\N’ for all other title types |\n",
    "| runtimeMinutes | integer      | primary runtime of the title, in minutes |\n",
    "| genres         | string array | includes up to three genres associated with the title |"
   ]
  },
  {
   "cell_type": "code",
   "execution_count": 4,
   "id": "f2f9a5cb-3dc4-4e79-ba90-a32047800d52",
   "metadata": {},
   "outputs": [],
   "source": [
    "title_basics_schema = t.StructType([\n",
    "    t.StructField('tconst', t.StringType(), True),\n",
    "    t.StructField('titleType', t.StringType(), True),\n",
    "    t.StructField('primaryTitle', t.StringType(), True),\n",
    "    t.StructField('originalTitle', t.StringType(), True),\n",
    "    t.StructField('isAdult', t.IntegerType(), True),\n",
    "    t.StructField('startYear', t.DateType(), True),\n",
    "    t.StructField('endYear', t.DateType(), True),\n",
    "    t.StructField('runtimeMinutes', t.IntegerType(), True),\n",
    "    t.StructField('genres', t.StringType(), True),\n",
    "])"
   ]
  },
  {
   "cell_type": "code",
   "execution_count": 5,
   "id": "45bef36c-acb9-4f0c-a44f-5b5dfe0ea044",
   "metadata": {},
   "outputs": [
    {
     "name": "stdout",
     "output_type": "stream",
     "text": [
      "+---------+---------+--------------------+--------------------+-------+----------+-------+--------------+--------------------+\n",
      "|   tconst|titleType|        primaryTitle|       originalTitle|isAdult| startYear|endYear|runtimeMinutes|              genres|\n",
      "+---------+---------+--------------------+--------------------+-------+----------+-------+--------------+--------------------+\n",
      "|tt0000001|    short|          Carmencita|          Carmencita|      0|1894-01-01|   null|             1|   Documentary,Short|\n",
      "|tt0000002|    short|Le clown et ses c...|Le clown et ses c...|      0|1892-01-01|   null|             5|     Animation,Short|\n",
      "|tt0000003|    short|        Poor Pierrot|      Pauvre Pierrot|      0|1892-01-01|   null|             5|Animation,Comedy,...|\n",
      "|tt0000004|    short|         Un bon bock|         Un bon bock|      0|1892-01-01|   null|            12|     Animation,Short|\n",
      "|tt0000005|    short|    Blacksmith Scene|    Blacksmith Scene|      0|1893-01-01|   null|             1|               Short|\n",
      "|tt0000006|    short|   Chinese Opium Den|   Chinese Opium Den|      0|1894-01-01|   null|             1|               Short|\n",
      "|tt0000007|    short|Corbett and Court...|Corbett and Court...|      0|1894-01-01|   null|             1|         Short,Sport|\n",
      "|tt0000008|    short|Edison Kinetoscop...|Edison Kinetoscop...|      0|1894-01-01|   null|             1|   Documentary,Short|\n",
      "|tt0000009|    movie|          Miss Jerry|          Miss Jerry|      0|1894-01-01|   null|            45|             Romance|\n",
      "|tt0000010|    short| Leaving the Factory|La sortie de l'us...|      0|1895-01-01|   null|             1|   Documentary,Short|\n",
      "|tt0000011|    short|Akrobatisches Pot...|Akrobatisches Pot...|      0|1895-01-01|   null|             1|   Documentary,Short|\n",
      "|tt0000012|    short|The Arrival of a ...|L'arrivée d'un tr...|      0|1896-01-01|   null|             1|   Documentary,Short|\n",
      "|tt0000013|    short|The Photographica...|Le débarquement d...|      0|1895-01-01|   null|             1|   Documentary,Short|\n",
      "|tt0000014|    short| The Waterer Watered|   L'arroseur arrosé|      0|1895-01-01|   null|             1|        Comedy,Short|\n",
      "|tt0000015|    short|      Around a Cabin| Autour d'une cabine|      0|1894-01-01|   null|             2|Animation,Comedy,...|\n",
      "|tt0000016|    short|Boat Leaving the ...|Barque sortant du...|      0|1895-01-01|   null|             1|   Documentary,Short|\n",
      "|tt0000017|    short|Italienischer Bau...|Italienischer Bau...|      0|1895-01-01|   null|             1|   Documentary,Short|\n",
      "|tt0000018|    short|Das boxende Känguruh|Das boxende Känguruh|      0|1895-01-01|   null|             1|         Short,Sport|\n",
      "|tt0000019|    short|    The Clown Barber|    The Clown Barber|      0|1898-01-01|   null|          null|        Comedy,Short|\n",
      "|tt0000020|    short|      The Derby 1895|      The Derby 1895|      0|1895-01-01|   null|             1|Documentary,Short...|\n",
      "+---------+---------+--------------------+--------------------+-------+----------+-------+--------------+--------------------+\n",
      "only showing top 20 rows\n",
      "\n"
     ]
    },
    {
     "name": "stderr",
     "output_type": "stream",
     "text": [
      "                                                                                "
     ]
    }
   ],
   "source": [
    "df = spark.read.csv(f'../data/title.basics.tsv', \n",
    "                    sep=r'\\t', \n",
    "                    header=True,\n",
    "                    schema=title_basics_schema,\n",
    "                    inferSchema=True)\n",
    "df.show()"
   ]
  },
  {
   "cell_type": "code",
   "execution_count": 6,
   "id": "3a75c98d-1640-4de7-a91e-ada5f992e1f0",
   "metadata": {},
   "outputs": [
    {
     "name": "stderr",
     "output_type": "stream",
     "text": [
      "[Stage 1:=======>                                                   (1 + 7) / 8]"
     ]
    },
    {
     "name": "stdout",
     "output_type": "stream",
     "text": [
      "Total Rows: 11530944\n"
     ]
    },
    {
     "name": "stderr",
     "output_type": "stream",
     "text": [
      "                                                                                "
     ]
    }
   ],
   "source": [
    "row_count = df.count()\n",
    "print(f\"Total Rows: {row_count}\")"
   ]
  },
  {
   "cell_type": "code",
   "execution_count": 6,
   "id": "c642594b-5bd3-49d8-8627-55bde1a6e193",
   "metadata": {},
   "outputs": [],
   "source": [
    "df = df.withColumn('genres', F.when(F.col('genres') == r'\\N', None).otherwise(F.col('genres')))\n",
    "# df = df.withColumn('genres', F.split('genres', ','))\n"
   ]
  },
  {
   "cell_type": "code",
   "execution_count": 7,
   "id": "f94c4609-9143-4c66-9332-263310b3556c",
   "metadata": {},
   "outputs": [
    {
     "name": "stdout",
     "output_type": "stream",
     "text": [
      "NaN Counts per Column:\n"
     ]
    },
    {
     "name": "stderr",
     "output_type": "stream",
     "text": [
      "[Stage 1:===================================================>       (7 + 1) / 8]"
     ]
    },
    {
     "name": "stdout",
     "output_type": "stream",
     "text": [
      "+------+---------+------------+-------------+-------+---------+--------+--------------+------+\n",
      "|tconst|titleType|primaryTitle|originalTitle|isAdult|startYear| endYear|runtimeMinutes|genres|\n",
      "+------+---------+------------+-------------+-------+---------+--------+--------------+------+\n",
      "|     0|        0|           0|            0|      1|  1425470|11393338|       7852394|508808|\n",
      "+------+---------+------------+-------------+-------+---------+--------+--------------+------+\n",
      "\n"
     ]
    },
    {
     "name": "stderr",
     "output_type": "stream",
     "text": [
      "                                                                                "
     ]
    }
   ],
   "source": [
    "df = df.replace(\"\\\\N\", None)\n",
    "\n",
    "nan_counts = df.select([\n",
    "    (\n",
    "        F.count(F.when((F.isnan(c) | F.col(c).isNull()), c)) \n",
    "        if t in (\"float\", \"double\") \n",
    "        else F.count(F.when(F.col(c).isNull(), c))\n",
    "    ).alias(c)\n",
    "    for c, t in df.dtypes if c in df.columns  \n",
    "])\n",
    "\n",
    "print(\"NaN Counts per Column:\")\n",
    "nan_counts.show()\n"
   ]
  },
  {
   "cell_type": "code",
   "execution_count": 8,
   "id": "a583385d-0f81-45fa-b0f8-e308e7b028db",
   "metadata": {},
   "outputs": [
    {
     "name": "stdout",
     "output_type": "stream",
     "text": [
      "Unique Values per Column:\n"
     ]
    },
    {
     "name": "stderr",
     "output_type": "stream",
     "text": [
      "[Stage 7:=============================================>             (7 + 2) / 9]"
     ]
    },
    {
     "name": "stdout",
     "output_type": "stream",
     "text": [
      "+--------+---------+------------+-------------+-------+---------+-------+--------------+------+\n",
      "|  tconst|titleType|primaryTitle|originalTitle|isAdult|startYear|endYear|runtimeMinutes|genres|\n",
      "+--------+---------+------------+-------------+-------+---------+-------+--------------+------+\n",
      "|11530944|       11|     5184830|      5209859|     44|      151|     95|           939|  2384|\n",
      "+--------+---------+------------+-------------+-------+---------+-------+--------------+------+\n",
      "\n"
     ]
    },
    {
     "name": "stderr",
     "output_type": "stream",
     "text": [
      "                                                                                "
     ]
    }
   ],
   "source": [
    "unique_counts = df.select([countDistinct(c).alias(c) for c in df.columns])\n",
    "print(\"Unique Values per Column:\")\n",
    "unique_counts.show()"
   ]
  },
  {
   "cell_type": "markdown",
   "id": "e7393d77-9a2c-4eb9-8ab4-8c94a3059470",
   "metadata": {},
   "source": [
    "## isAdult column"
   ]
  },
  {
   "cell_type": "code",
   "execution_count": 8,
   "id": "12462b80-48eb-4bd7-a43d-5291adcd64fa",
   "metadata": {},
   "outputs": [
    {
     "name": "stderr",
     "output_type": "stream",
     "text": [
      "                                                                                "
     ]
    },
    {
     "name": "stdout",
     "output_type": "stream",
     "text": [
      "+-------+--------+\n",
      "|isAdult|   count|\n",
      "+-------+--------+\n",
      "|      1|  372479|\n",
      "|   2019|       7|\n",
      "|      0|11157630|\n",
      "|   2020|       9|\n",
      "|   1981|      18|\n",
      "|   2017|      17|\n",
      "|   2023|       7|\n",
      "|   2022|       2|\n",
      "|   2011|       1|\n",
      "|   1959|       1|\n",
      "|   1975|      18|\n",
      "|   1977|      20|\n",
      "|   2018|       9|\n",
      "|   1974|      33|\n",
      "|   2015|      28|\n",
      "|   1978|     130|\n",
      "|   2013|       8|\n",
      "|   1988|       5|\n",
      "|   1968|      24|\n",
      "|   2014|       6|\n",
      "+-------+--------+\n",
      "only showing top 20 rows\n",
      "\n"
     ]
    }
   ],
   "source": [
    "distinct_isAdult = get_counts_and_distinct_values(df, \"isAdult\")\n",
    "distinct_isAdult.show()"
   ]
  },
  {
   "cell_type": "code",
   "execution_count": 9,
   "id": "f70fda19-a5c9-433c-83a9-80041f95ee22",
   "metadata": {},
   "outputs": [
    {
     "name": "stderr",
     "output_type": "stream",
     "text": [
      "[Stage 17:>                                                         (0 + 3) / 3]"
     ]
    },
    {
     "name": "stdout",
     "output_type": "stream",
     "text": [
      "+----------+---------+--------------------+-------------+-------+---------+-------+--------------+------+\n",
      "|    tconst|titleType|        primaryTitle|originalTitle|isAdult|startYear|endYear|runtimeMinutes|genres|\n",
      "+----------+---------+--------------------+-------------+-------+---------+-------+--------------+------+\n",
      "|tt32679650|tvEpisode|\"It's pure TRASH!...|            0|   2024|     null|   null|          null|  null|\n",
      "|tt33044617|tvEpisode|\"Superobscuredom ...|            0|   2024|     null|   null|          null|  null|\n",
      "|tt34458820|tvEpisode|\"A Day In The Lif...|            1|   2024|     null|   null|          null|  null|\n",
      "|tt34543329|tvEpisode|\"Men-Oh-Pause\\t\"M...|            0|   2024|     null|   null|          null|  null|\n",
      "+----------+---------+--------------------+-------------+-------+---------+-------+--------------+------+\n",
      "\n"
     ]
    },
    {
     "name": "stderr",
     "output_type": "stream",
     "text": [
      "                                                                                "
     ]
    }
   ],
   "source": [
    "isAdult_ordered = distinct_isAdult.select(\"isAdult\").distinct().orderBy(F.col(\"isAdult\").desc())\n",
    "\n",
    "for value in isAdult_ordered.head(1):  \n",
    "    value = value['isAdult']\n",
    "    df.filter(F.col(\"isAdult\") == value).show()\n"
   ]
  },
  {
   "cell_type": "code",
   "execution_count": 9,
   "id": "6f531217-1565-4648-b1b1-6fda7850a4f5",
   "metadata": {},
   "outputs": [
    {
     "name": "stderr",
     "output_type": "stream",
     "text": [
      "                                                                                "
     ]
    },
    {
     "name": "stdout",
     "output_type": "stream",
     "text": [
      "+-------+--------+\n",
      "|isAdult|   count|\n",
      "+-------+--------+\n",
      "|      1|  372479|\n",
      "|      0|11157630|\n",
      "+-------+--------+\n",
      "\n"
     ]
    }
   ],
   "source": [
    "values_to_filter = [0, 1]\n",
    "df_filtered = filter_df_by_column_values(df, \"isAdult\", values_to_filter)\n",
    "\n",
    "distinct_isAdult = get_counts_and_distinct_values(df_filtered, \"isAdult\")\n",
    "distinct_isAdult.show()\n"
   ]
  },
  {
   "cell_type": "markdown",
   "id": "c7ea09f5-c66e-47ce-8eb1-bbf055362a21",
   "metadata": {},
   "source": [
    "## originalTitle and primaryTitle columns"
   ]
  },
  {
   "cell_type": "code",
   "execution_count": 10,
   "id": "bb4e89f2-019e-465f-9e9c-f16abf427332",
   "metadata": {},
   "outputs": [
    {
     "name": "stdout",
     "output_type": "stream",
     "text": [
      "+---------+---------+--------------------+--------------------+-------+----------+-------+--------------+--------------------+\n",
      "|   tconst|titleType|        primaryTitle|       originalTitle|isAdult| startYear|endYear|runtimeMinutes|              genres|\n",
      "+---------+---------+--------------------+--------------------+-------+----------+-------+--------------+--------------------+\n",
      "|tt0000001|    short|          Carmencita|          Carmencita|      0|1894-01-01|   null|             1|   Documentary,Short|\n",
      "|tt0000002|    short|Le clown et ses c...|Le clown et ses c...|      0|1892-01-01|   null|             5|     Animation,Short|\n",
      "|tt0000003|    short|        Poor Pierrot|      Pauvre Pierrot|      0|1892-01-01|   null|             5|Animation,Comedy,...|\n",
      "|tt0000004|    short|         Un bon bock|         Un bon bock|      0|1892-01-01|   null|            12|     Animation,Short|\n",
      "|tt0000005|    short|    Blacksmith Scene|    Blacksmith Scene|      0|1893-01-01|   null|             1|               Short|\n",
      "|tt0000006|    short|   Chinese Opium Den|   Chinese Opium Den|      0|1894-01-01|   null|             1|               Short|\n",
      "|tt0000007|    short|Corbett and Court...|Corbett and Court...|      0|1894-01-01|   null|             1|         Short,Sport|\n",
      "|tt0000008|    short|Edison Kinetoscop...|Edison Kinetoscop...|      0|1894-01-01|   null|             1|   Documentary,Short|\n",
      "|tt0000009|    movie|          Miss Jerry|          Miss Jerry|      0|1894-01-01|   null|            45|             Romance|\n",
      "|tt0000010|    short| Leaving the Factory|La sortie de l'us...|      0|1895-01-01|   null|             1|   Documentary,Short|\n",
      "|tt0000011|    short|Akrobatisches Pot...|Akrobatisches Pot...|      0|1895-01-01|   null|             1|   Documentary,Short|\n",
      "|tt0000012|    short|The Arrival of a ...|L'arrivée d'un tr...|      0|1896-01-01|   null|             1|   Documentary,Short|\n",
      "|tt0000013|    short|The Photographica...|Le débarquement d...|      0|1895-01-01|   null|             1|   Documentary,Short|\n",
      "|tt0000014|    short| The Waterer Watered|   L'arroseur arrosé|      0|1895-01-01|   null|             1|        Comedy,Short|\n",
      "|tt0000015|    short|      Around a Cabin| Autour d'une cabine|      0|1894-01-01|   null|             2|Animation,Comedy,...|\n",
      "|tt0000016|    short|Boat Leaving the ...|Barque sortant du...|      0|1895-01-01|   null|             1|   Documentary,Short|\n",
      "|tt0000017|    short|Italienischer Bau...|Italienischer Bau...|      0|1895-01-01|   null|             1|   Documentary,Short|\n",
      "|tt0000018|    short|Das boxende Känguruh|Das boxende Känguruh|      0|1895-01-01|   null|             1|         Short,Sport|\n",
      "|tt0000019|    short|    The Clown Barber|    The Clown Barber|      0|1898-01-01|   null|          null|        Comedy,Short|\n",
      "|tt0000020|    short|      The Derby 1895|      The Derby 1895|      0|1895-01-01|   null|             1|Documentary,Short...|\n",
      "+---------+---------+--------------------+--------------------+-------+----------+-------+--------------+--------------------+\n",
      "only showing top 20 rows\n",
      "\n"
     ]
    }
   ],
   "source": [
    "values_to_filter = [0, 1]\n",
    "df_filtered = filter_df_by_column_values(df_filtered, \"originalTitle\", values_to_filter, invert_filter=True)\n",
    "df_filtered = filter_df_by_column_values(df_filtered, \"primaryTitle\", values_to_filter, invert_filter=True)\n",
    "\n",
    "df_filtered.show()"
   ]
  },
  {
   "cell_type": "markdown",
   "id": "ae6a0854-436e-4589-b84d-75915f760aa8",
   "metadata": {},
   "source": [
    "## runtimeMinutes column"
   ]
  },
  {
   "cell_type": "code",
   "execution_count": 21,
   "id": "386f807f-8c12-452f-a3d1-d2b99990f87a",
   "metadata": {},
   "outputs": [
    {
     "name": "stderr",
     "output_type": "stream",
     "text": [
      "[Stage 30:==================================================>       (7 + 1) / 8]"
     ]
    },
    {
     "name": "stdout",
     "output_type": "stream",
     "text": [
      "+------------+------------------+-----------+\n",
      "|   titleType|null_runtime_count|total_count|\n",
      "+------------+------------------+-----------+\n",
      "|    tvSeries|            173981|     278607|\n",
      "|tvMiniSeries|             39629|      60474|\n",
      "|     tvMovie|             47372|     150250|\n",
      "|   tvEpisode|           6783335|    8869402|\n",
      "|       movie|            262614|     709649|\n",
      "|   tvSpecial|             26747|      51665|\n",
      "|       video|             99366|     307759|\n",
      "|   videoGame|             41873|      42319|\n",
      "|     tvShort|              1321|      10591|\n",
      "|       short|            376155|    1050227|\n",
      "|     tvPilot|                 1|          1|\n",
      "+------------+------------------+-----------+\n",
      "\n"
     ]
    },
    {
     "name": "stderr",
     "output_type": "stream",
     "text": [
      "                                                                                "
     ]
    }
   ],
   "source": [
    "count_null_runtime = df.groupBy(\"titleType\").agg(\n",
    "    F.count(F.when(F.col(\"runtimeMinutes\").isNull(), 1)).alias(\"null_runtime_count\"),\n",
    "    F.count(\"*\").alias(\"total_count\")\n",
    ")\n",
    "\n",
    "# Show the result\n",
    "count_null_runtime.show()\n"
   ]
  },
  {
   "cell_type": "markdown",
   "id": "be9cbab5-b130-41a9-9986-a07b1671e7a6",
   "metadata": {},
   "source": [
    "## start and end year columns"
   ]
  },
  {
   "cell_type": "code",
   "execution_count": 22,
   "id": "0ee3a3f1-0183-4e38-82f1-99749233ad66",
   "metadata": {},
   "outputs": [
    {
     "name": "stderr",
     "output_type": "stream",
     "text": [
      "[Stage 33:==================================================>       (7 + 1) / 8]"
     ]
    },
    {
     "name": "stdout",
     "output_type": "stream",
     "text": [
      "+-------------+-------------+-----------+-----------+\n",
      "|min_startYear|max_startYear|min_endYear|max_endYear|\n",
      "+-------------+-------------+-----------+-----------+\n",
      "|   1874-01-01|   2031-01-01| 1928-01-01| 2030-01-01|\n",
      "+-------------+-------------+-----------+-----------+\n",
      "\n"
     ]
    },
    {
     "name": "stderr",
     "output_type": "stream",
     "text": [
      "                                                                                "
     ]
    }
   ],
   "source": [
    "from pyspark.sql import functions as F\n",
    "\n",
    "min_max_years = df.select(\n",
    "    F.min(\"startYear\").alias(\"min_startYear\"),\n",
    "    F.max(\"startYear\").alias(\"max_startYear\"),\n",
    "    F.min(\"endYear\").alias(\"min_endYear\"),\n",
    "    F.max(\"endYear\").alias(\"max_endYear\")\n",
    ")\n",
    "\n",
    "min_max_years.show()\n"
   ]
  },
  {
   "cell_type": "markdown",
   "id": "52db2cff-edb1-4e1e-936f-409dbb8c6045",
   "metadata": {},
   "source": [
    "## genres column"
   ]
  },
  {
   "cell_type": "code",
   "execution_count": 11,
   "id": "ea742eb4-5418-422c-be3b-acee24d42b40",
   "metadata": {},
   "outputs": [
    {
     "name": "stdout",
     "output_type": "stream",
     "text": [
      "+---------+---------+--------------------+--------------------+-------+----------+-------+--------------+------+\n",
      "|   tconst|titleType|        primaryTitle|       originalTitle|isAdult| startYear|endYear|runtimeMinutes|genres|\n",
      "+---------+---------+--------------------+--------------------+-------+----------+-------+--------------+------+\n",
      "|tt0000502|    movie|            Bohemios|            Bohemios|      0|1905-01-01|   null|           100|  null|\n",
      "|tt0000838|    movie|  A Cultura do Cacau|  A Cultura do Cacau|      0|1909-01-01|   null|          null|  null|\n",
      "|tt0000842|    movie|De Garraf a Barce...|De Garraf a Barce...|      0|1909-01-01|   null|          null|  null|\n",
      "|tt0000846|    movie|Un día en Xochimilco|Un día en Xochimilco|      0|1909-01-01|   null|          null|  null|\n",
      "|tt0000850|    movie|    Los dos hermanos|    Los dos hermanos|      0|1909-01-01|   null|          null|  null|\n",
      "|tt0000859|    movie|Fabricación del c...|Fabricación del c...|      0|1909-01-01|   null|          null|  null|\n",
      "|tt0000862|    movie|          Faldgruben|          Faldgruben|      0|1909-01-01|   null|          null|  null|\n",
      "|tt0000867|    movie|     Fiesta de toros|     Fiesta de toros|      0|1909-01-01|   null|          null|  null|\n",
      "|tt0000868|    movie|Fiestas de Santa ...|Fiestas de Santa ...|      0|1909-01-01|   null|          null|  null|\n",
      "|tt0000869|    movie|Fiestas en La Gar...|Fiestas en La Gar...|      0|1909-01-01|   null|          null|  null|\n",
      "|tt0000879|    movie|Gira política de ...|Gira política de ...|      0|1909-01-01|   null|          null|  null|\n",
      "|tt0000947|    movie|        Lægens offer|        Lægens offer|      0|1909-01-01|   null|          null|  null|\n",
      "|tt0000959|    movie| Melilla y el Gurugu| Melilla y el Gurugu|      0|1909-01-01|   null|          null|  null|\n",
      "|tt0000984|    movie| Niños en la alameda| Niños en la alameda|      0|1909-01-01|   null|          null|  null|\n",
      "|tt0001007|    movie|La primera y segu...|La primera y segu...|      0|1909-01-01|   null|          null|  null|\n",
      "|tt0001010|    movie|Protección de un ...|Protección de un ...|      0|1909-01-01|   null|          null|  null|\n",
      "|tt0001038|    movie|  Sherlock Holmes VI|  Sherlock Holmes VI|      0|1910-01-01|   null|          null|  null|\n",
      "|tt0001043|    movie|Smith's Knockabou...|Smith's Knockabou...|      0|1909-01-01|   null|          null|  null|\n",
      "|tt0001051|    movie|  El sueño milagroso|  El sueño milagroso|      0|1909-01-01|   null|          null|  null|\n",
      "|tt0001069|    movie|     Toma del Gurugu|     Toma del Gurugu|      0|1909-01-01|   null|          null|  null|\n",
      "+---------+---------+--------------------+--------------------+-------+----------+-------+--------------+------+\n",
      "only showing top 20 rows\n",
      "\n"
     ]
    }
   ],
   "source": [
    "df_filtered_genres_null = df.filter(F.col(\"genres\").isNull())\n",
    "\n",
    "# Show the result\n",
    "df_filtered_genres_null.show()"
   ]
  },
  {
   "cell_type": "code",
   "execution_count": 13,
   "id": "09440d8b-a8a5-42d0-a775-c18dfb63d583",
   "metadata": {},
   "outputs": [
    {
     "name": "stdout",
     "output_type": "stream",
     "text": [
      "Unique Values per Column:\n"
     ]
    },
    {
     "name": "stderr",
     "output_type": "stream",
     "text": [
      "[Stage 26:================================>                         (5 + 4) / 9]"
     ]
    },
    {
     "name": "stdout",
     "output_type": "stream",
     "text": [
      "+--------+---------+------------+-------------+-------+---------+-------+--------------+------+\n",
      "|  tconst|titleType|primaryTitle|originalTitle|isAdult|startYear|endYear|runtimeMinutes|genres|\n",
      "+--------+---------+------------+-------------+-------+---------+-------+--------------+------+\n",
      "|11529855|       11|     5184136|      5209857|      2|      151|     95|           939|  2384|\n",
      "+--------+---------+------------+-------------+-------+---------+-------+--------------+------+\n",
      "\n"
     ]
    },
    {
     "name": "stderr",
     "output_type": "stream",
     "text": [
      "                                                                                "
     ]
    }
   ],
   "source": [
    "unique_counts = df_filtered.select([countDistinct(c).alias(c) for c in df.columns])\n",
    "print(\"Unique Values per Column:\")\n",
    "unique_counts.show()"
   ]
  }
 ],
 "metadata": {
  "kernelspec": {
   "display_name": "Python 3 (ipykernel)",
   "language": "python",
   "name": "python3"
  },
  "language_info": {
   "codemirror_mode": {
    "name": "ipython",
    "version": 3
   },
   "file_extension": ".py",
   "mimetype": "text/x-python",
   "name": "python",
   "nbconvert_exporter": "python",
   "pygments_lexer": "ipython3",
   "version": "3.10.2"
  }
 },
 "nbformat": 4,
 "nbformat_minor": 5
}
