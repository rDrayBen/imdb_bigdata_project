{
  "nbformat": 4,
  "nbformat_minor": 0,
  "metadata": {
    "colab": {
      "provenance": []
    },
    "kernelspec": {
      "name": "python3",
      "display_name": "Python 3"
    },
    "language_info": {
      "name": "python"
    }
  },
  "cells": [
    {
      "cell_type": "markdown",
      "source": [
        "# Data retrieval"
      ],
      "metadata": {
        "id": "kqsb3wx3COdT"
      }
    },
    {
      "cell_type": "code",
      "execution_count": 1,
      "metadata": {
        "colab": {
          "base_uri": "https://localhost:8080/"
        },
        "id": "sS1ul7UuEj6L",
        "outputId": "651fc5c3-ceba-4896-efb1-c194d2eb5f19"
      },
      "outputs": [
        {
          "output_type": "stream",
          "name": "stdout",
          "text": [
            "--2025-03-24 14:23:32--  https://datasets.imdbws.com/title.episode.tsv.gz\n",
            "Resolving datasets.imdbws.com (datasets.imdbws.com)... 18.238.49.75, 18.238.49.94, 18.238.49.13, ...\n",
            "Connecting to datasets.imdbws.com (datasets.imdbws.com)|18.238.49.75|:443... connected.\n",
            "HTTP request sent, awaiting response... 200 OK\n",
            "Length: 48935156 (47M) [binary/octet-stream]\n",
            "Saving to: ‘title.episode.tsv.gz’\n",
            "\n",
            "title.episode.tsv.g 100%[===================>]  46.67M  96.8MB/s    in 0.5s    \n",
            "\n",
            "2025-03-24 14:23:33 (96.8 MB/s) - ‘title.episode.tsv.gz’ saved [48935156/48935156]\n",
            "\n"
          ]
        }
      ],
      "source": [
        "!wget https://datasets.imdbws.com/title.episode.tsv.gz"
      ]
    },
    {
      "cell_type": "code",
      "source": [
        "!gunzip title.episode.tsv.gz"
      ],
      "metadata": {
        "id": "8M5qt0zcFH2g"
      },
      "execution_count": 2,
      "outputs": []
    },
    {
      "cell_type": "code",
      "source": [
        "from pyspark.sql import SparkSession\n",
        "from pyspark.sql.functions import col, count, countDistinct, isnan, when\n",
        "from pyspark.sql.types import IntegerType, StringType\n",
        "from pyspark.sql.functions import desc\n",
        "import pandas as pd"
      ],
      "metadata": {
        "id": "7xPshbRBFNsF"
      },
      "execution_count": 3,
      "outputs": []
    },
    {
      "cell_type": "code",
      "source": [
        "spark = SparkSession.builder.getOrCreate()"
      ],
      "metadata": {
        "id": "LuocfREmFduj"
      },
      "execution_count": 4,
      "outputs": []
    },
    {
      "cell_type": "code",
      "source": [
        "df = spark.read.csv(\"/content/title.episode.tsv\", sep=\"\\t\", header=True, inferSchema=True)\n",
        "df.show()\n"
      ],
      "metadata": {
        "colab": {
          "base_uri": "https://localhost:8080/"
        },
        "id": "IYUNrkuzFnTX",
        "outputId": "2ca37ded-4efe-4405-be1d-33bc56a6734a"
      },
      "execution_count": 5,
      "outputs": [
        {
          "output_type": "stream",
          "name": "stdout",
          "text": [
            "+---------+------------+------------+-------------+\n",
            "|   tconst|parentTconst|seasonNumber|episodeNumber|\n",
            "+---------+------------+------------+-------------+\n",
            "|tt0031458|  tt32857063|          \\N|           \\N|\n",
            "|tt0041951|   tt0041038|           1|            9|\n",
            "|tt0042816|   tt0989125|           1|           17|\n",
            "|tt0042889|   tt0989125|          \\N|           \\N|\n",
            "|tt0043426|   tt0040051|           3|           42|\n",
            "|tt0043631|   tt0989125|           2|           16|\n",
            "|tt0043693|   tt0989125|           2|            8|\n",
            "|tt0043710|   tt0989125|           3|            3|\n",
            "|tt0044093|   tt0959862|           1|            6|\n",
            "|tt0044668|   tt0044243|           2|           16|\n",
            "|tt0044901|   tt0989125|           3|           46|\n",
            "|tt0045519|   tt0989125|           4|           11|\n",
            "|tt0045960|   tt0044284|           2|            3|\n",
            "|tt0046135|   tt0989125|           4|            5|\n",
            "|tt0046150|   tt0341798|          \\N|           \\N|\n",
            "|tt0046855|   tt0046643|           1|            4|\n",
            "|tt0046864|   tt0989125|           5|           20|\n",
            "|tt0047810|   tt0914702|           3|           36|\n",
            "|tt0047852|   tt0047745|           1|           15|\n",
            "|tt0047858|   tt0046637|           2|            9|\n",
            "+---------+------------+------------+-------------+\n",
            "only showing top 20 rows\n",
            "\n"
          ]
        }
      ]
    },
    {
      "cell_type": "markdown",
      "source": [
        "# Data preliminary analysis"
      ],
      "metadata": {
        "id": "_1sDFBlkCVaR"
      }
    },
    {
      "cell_type": "code",
      "source": [
        "df.dtypes"
      ],
      "metadata": {
        "colab": {
          "base_uri": "https://localhost:8080/"
        },
        "id": "jpZ9mnGoFtsN",
        "outputId": "e90b7f52-b17c-4dbc-c8d7-923a86b5a142"
      },
      "execution_count": 6,
      "outputs": [
        {
          "output_type": "execute_result",
          "data": {
            "text/plain": [
              "[('tconst', 'string'),\n",
              " ('parentTconst', 'string'),\n",
              " ('seasonNumber', 'string'),\n",
              " ('episodeNumber', 'string')]"
            ]
          },
          "metadata": {},
          "execution_count": 6
        }
      ]
    },
    {
      "cell_type": "code",
      "source": [
        "df.describe()"
      ],
      "metadata": {
        "colab": {
          "base_uri": "https://localhost:8080/"
        },
        "id": "Ds7UamFuMF2a",
        "outputId": "d3b9bf8d-d89c-4cde-eaca-085ae0801b7d"
      },
      "execution_count": 7,
      "outputs": [
        {
          "output_type": "execute_result",
          "data": {
            "text/plain": [
              "DataFrame[summary: string, tconst: string, parentTconst: string, seasonNumber: string, episodeNumber: string]"
            ]
          },
          "metadata": {},
          "execution_count": 7
        }
      ]
    },
    {
      "cell_type": "markdown",
      "source": [
        "## Handle null values"
      ],
      "metadata": {
        "id": "dgrouImTCn_2"
      }
    },
    {
      "cell_type": "code",
      "source": [
        "df = df.replace(\"\\\\N\", None)"
      ],
      "metadata": {
        "id": "6pHlbXyVM3r0"
      },
      "execution_count": 8,
      "outputs": []
    },
    {
      "cell_type": "markdown",
      "source": [
        "## Total number of values"
      ],
      "metadata": {
        "id": "FE_KjWnPCvkj"
      }
    },
    {
      "cell_type": "code",
      "source": [
        "from pyspark.sql import functions as F\n",
        "\n",
        "total_rows = df.count()\n",
        "print(\"Total rows in dataset: \", total_rows)"
      ],
      "metadata": {
        "colab": {
          "base_uri": "https://localhost:8080/"
        },
        "id": "aKNsNpjfIq7G",
        "outputId": "d19641ee-1ee1-4105-92e4-4058bee273da"
      },
      "execution_count": 9,
      "outputs": [
        {
          "output_type": "stream",
          "name": "stdout",
          "text": [
            "Total rows in dataset:  8878746\n"
          ]
        }
      ]
    },
    {
      "cell_type": "markdown",
      "source": [
        "## count of null/\"NaN\"/\"\\\\N\" values"
      ],
      "metadata": {
        "id": "5xGGjeOrC12G"
      }
    },
    {
      "cell_type": "code",
      "source": [
        "from pyspark.sql import functions as F\n",
        "\n",
        "# Function to count null, \"\\N\", or \"NaN\" values for each column\n",
        "null_or_N_or_NaN_counts = {\n",
        "    col: df.filter(F.col(col).isNull() |\n",
        "                   (F.col(col) == r\"\\N\") |\n",
        "                   (F.col(col) == \"NaN\")).count()\n",
        "    for col in df.columns\n",
        "}\n",
        "\n",
        "# Print counts of null, \"\\N\", or \"NaN\" values for each column\n",
        "for column, count in null_or_N_or_NaN_counts.items():\n",
        "    print(f\"Column '{column}' has {count} null, '\\\\N', or 'NaN' values.\")\n"
      ],
      "metadata": {
        "colab": {
          "base_uri": "https://localhost:8080/"
        },
        "id": "2k-yvCKqJKKb",
        "outputId": "67a8c5b7-2a23-411f-c537-c843c32be996"
      },
      "execution_count": 10,
      "outputs": [
        {
          "output_type": "stream",
          "name": "stdout",
          "text": [
            "Column 'tconst' has 0 null, '\\N', or 'NaN' values.\n",
            "Column 'parentTconst' has 0 null, '\\N', or 'NaN' values.\n",
            "Column 'seasonNumber' has 1812669 null, '\\N', or 'NaN' values.\n",
            "Column 'episodeNumber' has 1812669 null, '\\N', or 'NaN' values.\n"
          ]
        }
      ]
    },
    {
      "cell_type": "code",
      "source": [
        "for column in df.columns:\n",
        "    unique_count = df.select(column).distinct().count()\n",
        "    print(f\"Column '{column}' has {unique_count} unique values.\")"
      ],
      "metadata": {
        "colab": {
          "base_uri": "https://localhost:8080/"
        },
        "id": "OQ-qdA6fKQ_l",
        "outputId": "cc205315-4dee-4f7a-c14c-413747b78409"
      },
      "execution_count": 11,
      "outputs": [
        {
          "output_type": "stream",
          "name": "stdout",
          "text": [
            "Column 'tconst' has 8878746 unique values.\n",
            "Column 'parentTconst' has 217918 unique values.\n",
            "Column 'seasonNumber' has 320 unique values.\n",
            "Column 'episodeNumber' has 15785 unique values.\n"
          ]
        }
      ]
    },
    {
      "cell_type": "markdown",
      "source": [
        "## Stats of dataframe.\n",
        "### contains:\n",
        "- column name;\n",
        "- number of null values;\n",
        "- number of unique values;\n",
        "- total number of values;\n",
        "- percentage of null values per column;\n",
        "- data type;\n",
        "- example value."
      ],
      "metadata": {
        "id": "7fAArA3WDFI6"
      }
    },
    {
      "cell_type": "code",
      "source": [
        "from pyspark.sql.functions import col, sum, countDistinct, first\n",
        "\n",
        "def data_stats(df):\n",
        "    total_rows = df.count()\n",
        "\n",
        "    # Compute null values count\n",
        "    null_counts = df.select([\n",
        "        sum(col(c).isNull().cast(\"integer\")).alias(c) for c in df.columns\n",
        "    ]).toPandas().T.reset_index()\n",
        "    null_counts.columns = [\"Column\", \"Null Values\"]\n",
        "\n",
        "    # Compute unique values count\n",
        "    unique_counts = df.select([\n",
        "        countDistinct(col(c)).alias(c) for c in df.columns\n",
        "    ]).toPandas().T.reset_index()\n",
        "    unique_counts.columns = [\"Column\", \"Unique Values\"]\n",
        "\n",
        "    # Get data types\n",
        "    data_types = {c: str(df.schema[c].dataType) for c in df.columns}\n",
        "\n",
        "    # Get an example value for each column\n",
        "    example_row = df.select([first(col(c), ignorenulls=True).alias(c) for c in df.columns]).collect()[0]\n",
        "    example_values = {c: example_row[c] if example_row[c] is not None else \"N/A\" for c in df.columns}\n",
        "\n",
        "    # Merge all stats into a DataFrame\n",
        "    stats_df = null_counts.merge(unique_counts, on=\"Column\", how=\"left\")\n",
        "    stats_df[\"Total Values\"] = total_rows\n",
        "    stats_df[\"Null Percentage\"] = (stats_df[\"Null Values\"] / total_rows) * 100\n",
        "    stats_df[\"Data Type\"] = stats_df[\"Column\"].map(data_types)\n",
        "    stats_df[\"Example Value\"] = stats_df[\"Column\"].map(example_values)\n",
        "\n",
        "    return stats_df\n",
        "\n",
        "# Run function and display results\n",
        "stats = data_stats(df)"
      ],
      "metadata": {
        "id": "d_dX3SsIa_1k"
      },
      "execution_count": 12,
      "outputs": []
    },
    {
      "cell_type": "code",
      "source": [
        "stats"
      ],
      "metadata": {
        "colab": {
          "base_uri": "https://localhost:8080/",
          "height": 174
        },
        "id": "GRMSpJgZfX-s",
        "outputId": "d8f2fd53-8cc5-4666-a3e6-4f3740c6f795"
      },
      "execution_count": 13,
      "outputs": [
        {
          "output_type": "execute_result",
          "data": {
            "text/plain": [
              "          Column  Null Values  Unique Values  Total Values  Null Percentage  \\\n",
              "0         tconst            0        8878746       8878746         0.000000   \n",
              "1   parentTconst            0         217918       8878746         0.000000   \n",
              "2   seasonNumber      1812669            319       8878746        20.415822   \n",
              "3  episodeNumber      1812669          15784       8878746        20.415822   \n",
              "\n",
              "      Data Type Example Value  \n",
              "0  StringType()     tt0031458  \n",
              "1  StringType()    tt32857063  \n",
              "2  StringType()             1  \n",
              "3  StringType()             9  "
            ],
            "text/html": [
              "\n",
              "  <div id=\"df-4189c301-a58a-498a-97a0-aa89c9f10603\" class=\"colab-df-container\">\n",
              "    <div>\n",
              "<style scoped>\n",
              "    .dataframe tbody tr th:only-of-type {\n",
              "        vertical-align: middle;\n",
              "    }\n",
              "\n",
              "    .dataframe tbody tr th {\n",
              "        vertical-align: top;\n",
              "    }\n",
              "\n",
              "    .dataframe thead th {\n",
              "        text-align: right;\n",
              "    }\n",
              "</style>\n",
              "<table border=\"1\" class=\"dataframe\">\n",
              "  <thead>\n",
              "    <tr style=\"text-align: right;\">\n",
              "      <th></th>\n",
              "      <th>Column</th>\n",
              "      <th>Null Values</th>\n",
              "      <th>Unique Values</th>\n",
              "      <th>Total Values</th>\n",
              "      <th>Null Percentage</th>\n",
              "      <th>Data Type</th>\n",
              "      <th>Example Value</th>\n",
              "    </tr>\n",
              "  </thead>\n",
              "  <tbody>\n",
              "    <tr>\n",
              "      <th>0</th>\n",
              "      <td>tconst</td>\n",
              "      <td>0</td>\n",
              "      <td>8878746</td>\n",
              "      <td>8878746</td>\n",
              "      <td>0.000000</td>\n",
              "      <td>StringType()</td>\n",
              "      <td>tt0031458</td>\n",
              "    </tr>\n",
              "    <tr>\n",
              "      <th>1</th>\n",
              "      <td>parentTconst</td>\n",
              "      <td>0</td>\n",
              "      <td>217918</td>\n",
              "      <td>8878746</td>\n",
              "      <td>0.000000</td>\n",
              "      <td>StringType()</td>\n",
              "      <td>tt32857063</td>\n",
              "    </tr>\n",
              "    <tr>\n",
              "      <th>2</th>\n",
              "      <td>seasonNumber</td>\n",
              "      <td>1812669</td>\n",
              "      <td>319</td>\n",
              "      <td>8878746</td>\n",
              "      <td>20.415822</td>\n",
              "      <td>StringType()</td>\n",
              "      <td>1</td>\n",
              "    </tr>\n",
              "    <tr>\n",
              "      <th>3</th>\n",
              "      <td>episodeNumber</td>\n",
              "      <td>1812669</td>\n",
              "      <td>15784</td>\n",
              "      <td>8878746</td>\n",
              "      <td>20.415822</td>\n",
              "      <td>StringType()</td>\n",
              "      <td>9</td>\n",
              "    </tr>\n",
              "  </tbody>\n",
              "</table>\n",
              "</div>\n",
              "    <div class=\"colab-df-buttons\">\n",
              "\n",
              "  <div class=\"colab-df-container\">\n",
              "    <button class=\"colab-df-convert\" onclick=\"convertToInteractive('df-4189c301-a58a-498a-97a0-aa89c9f10603')\"\n",
              "            title=\"Convert this dataframe to an interactive table.\"\n",
              "            style=\"display:none;\">\n",
              "\n",
              "  <svg xmlns=\"http://www.w3.org/2000/svg\" height=\"24px\" viewBox=\"0 -960 960 960\">\n",
              "    <path d=\"M120-120v-720h720v720H120Zm60-500h600v-160H180v160Zm220 220h160v-160H400v160Zm0 220h160v-160H400v160ZM180-400h160v-160H180v160Zm440 0h160v-160H620v160ZM180-180h160v-160H180v160Zm440 0h160v-160H620v160Z\"/>\n",
              "  </svg>\n",
              "    </button>\n",
              "\n",
              "  <style>\n",
              "    .colab-df-container {\n",
              "      display:flex;\n",
              "      gap: 12px;\n",
              "    }\n",
              "\n",
              "    .colab-df-convert {\n",
              "      background-color: #E8F0FE;\n",
              "      border: none;\n",
              "      border-radius: 50%;\n",
              "      cursor: pointer;\n",
              "      display: none;\n",
              "      fill: #1967D2;\n",
              "      height: 32px;\n",
              "      padding: 0 0 0 0;\n",
              "      width: 32px;\n",
              "    }\n",
              "\n",
              "    .colab-df-convert:hover {\n",
              "      background-color: #E2EBFA;\n",
              "      box-shadow: 0px 1px 2px rgba(60, 64, 67, 0.3), 0px 1px 3px 1px rgba(60, 64, 67, 0.15);\n",
              "      fill: #174EA6;\n",
              "    }\n",
              "\n",
              "    .colab-df-buttons div {\n",
              "      margin-bottom: 4px;\n",
              "    }\n",
              "\n",
              "    [theme=dark] .colab-df-convert {\n",
              "      background-color: #3B4455;\n",
              "      fill: #D2E3FC;\n",
              "    }\n",
              "\n",
              "    [theme=dark] .colab-df-convert:hover {\n",
              "      background-color: #434B5C;\n",
              "      box-shadow: 0px 1px 3px 1px rgba(0, 0, 0, 0.15);\n",
              "      filter: drop-shadow(0px 1px 2px rgba(0, 0, 0, 0.3));\n",
              "      fill: #FFFFFF;\n",
              "    }\n",
              "  </style>\n",
              "\n",
              "    <script>\n",
              "      const buttonEl =\n",
              "        document.querySelector('#df-4189c301-a58a-498a-97a0-aa89c9f10603 button.colab-df-convert');\n",
              "      buttonEl.style.display =\n",
              "        google.colab.kernel.accessAllowed ? 'block' : 'none';\n",
              "\n",
              "      async function convertToInteractive(key) {\n",
              "        const element = document.querySelector('#df-4189c301-a58a-498a-97a0-aa89c9f10603');\n",
              "        const dataTable =\n",
              "          await google.colab.kernel.invokeFunction('convertToInteractive',\n",
              "                                                    [key], {});\n",
              "        if (!dataTable) return;\n",
              "\n",
              "        const docLinkHtml = 'Like what you see? Visit the ' +\n",
              "          '<a target=\"_blank\" href=https://colab.research.google.com/notebooks/data_table.ipynb>data table notebook</a>'\n",
              "          + ' to learn more about interactive tables.';\n",
              "        element.innerHTML = '';\n",
              "        dataTable['output_type'] = 'display_data';\n",
              "        await google.colab.output.renderOutput(dataTable, element);\n",
              "        const docLink = document.createElement('div');\n",
              "        docLink.innerHTML = docLinkHtml;\n",
              "        element.appendChild(docLink);\n",
              "      }\n",
              "    </script>\n",
              "  </div>\n",
              "\n",
              "\n",
              "<div id=\"df-224c9c80-665a-4de1-9ed5-067cd300cdd7\">\n",
              "  <button class=\"colab-df-quickchart\" onclick=\"quickchart('df-224c9c80-665a-4de1-9ed5-067cd300cdd7')\"\n",
              "            title=\"Suggest charts\"\n",
              "            style=\"display:none;\">\n",
              "\n",
              "<svg xmlns=\"http://www.w3.org/2000/svg\" height=\"24px\"viewBox=\"0 0 24 24\"\n",
              "     width=\"24px\">\n",
              "    <g>\n",
              "        <path d=\"M19 3H5c-1.1 0-2 .9-2 2v14c0 1.1.9 2 2 2h14c1.1 0 2-.9 2-2V5c0-1.1-.9-2-2-2zM9 17H7v-7h2v7zm4 0h-2V7h2v10zm4 0h-2v-4h2v4z\"/>\n",
              "    </g>\n",
              "</svg>\n",
              "  </button>\n",
              "\n",
              "<style>\n",
              "  .colab-df-quickchart {\n",
              "      --bg-color: #E8F0FE;\n",
              "      --fill-color: #1967D2;\n",
              "      --hover-bg-color: #E2EBFA;\n",
              "      --hover-fill-color: #174EA6;\n",
              "      --disabled-fill-color: #AAA;\n",
              "      --disabled-bg-color: #DDD;\n",
              "  }\n",
              "\n",
              "  [theme=dark] .colab-df-quickchart {\n",
              "      --bg-color: #3B4455;\n",
              "      --fill-color: #D2E3FC;\n",
              "      --hover-bg-color: #434B5C;\n",
              "      --hover-fill-color: #FFFFFF;\n",
              "      --disabled-bg-color: #3B4455;\n",
              "      --disabled-fill-color: #666;\n",
              "  }\n",
              "\n",
              "  .colab-df-quickchart {\n",
              "    background-color: var(--bg-color);\n",
              "    border: none;\n",
              "    border-radius: 50%;\n",
              "    cursor: pointer;\n",
              "    display: none;\n",
              "    fill: var(--fill-color);\n",
              "    height: 32px;\n",
              "    padding: 0;\n",
              "    width: 32px;\n",
              "  }\n",
              "\n",
              "  .colab-df-quickchart:hover {\n",
              "    background-color: var(--hover-bg-color);\n",
              "    box-shadow: 0 1px 2px rgba(60, 64, 67, 0.3), 0 1px 3px 1px rgba(60, 64, 67, 0.15);\n",
              "    fill: var(--button-hover-fill-color);\n",
              "  }\n",
              "\n",
              "  .colab-df-quickchart-complete:disabled,\n",
              "  .colab-df-quickchart-complete:disabled:hover {\n",
              "    background-color: var(--disabled-bg-color);\n",
              "    fill: var(--disabled-fill-color);\n",
              "    box-shadow: none;\n",
              "  }\n",
              "\n",
              "  .colab-df-spinner {\n",
              "    border: 2px solid var(--fill-color);\n",
              "    border-color: transparent;\n",
              "    border-bottom-color: var(--fill-color);\n",
              "    animation:\n",
              "      spin 1s steps(1) infinite;\n",
              "  }\n",
              "\n",
              "  @keyframes spin {\n",
              "    0% {\n",
              "      border-color: transparent;\n",
              "      border-bottom-color: var(--fill-color);\n",
              "      border-left-color: var(--fill-color);\n",
              "    }\n",
              "    20% {\n",
              "      border-color: transparent;\n",
              "      border-left-color: var(--fill-color);\n",
              "      border-top-color: var(--fill-color);\n",
              "    }\n",
              "    30% {\n",
              "      border-color: transparent;\n",
              "      border-left-color: var(--fill-color);\n",
              "      border-top-color: var(--fill-color);\n",
              "      border-right-color: var(--fill-color);\n",
              "    }\n",
              "    40% {\n",
              "      border-color: transparent;\n",
              "      border-right-color: var(--fill-color);\n",
              "      border-top-color: var(--fill-color);\n",
              "    }\n",
              "    60% {\n",
              "      border-color: transparent;\n",
              "      border-right-color: var(--fill-color);\n",
              "    }\n",
              "    80% {\n",
              "      border-color: transparent;\n",
              "      border-right-color: var(--fill-color);\n",
              "      border-bottom-color: var(--fill-color);\n",
              "    }\n",
              "    90% {\n",
              "      border-color: transparent;\n",
              "      border-bottom-color: var(--fill-color);\n",
              "    }\n",
              "  }\n",
              "</style>\n",
              "\n",
              "  <script>\n",
              "    async function quickchart(key) {\n",
              "      const quickchartButtonEl =\n",
              "        document.querySelector('#' + key + ' button');\n",
              "      quickchartButtonEl.disabled = true;  // To prevent multiple clicks.\n",
              "      quickchartButtonEl.classList.add('colab-df-spinner');\n",
              "      try {\n",
              "        const charts = await google.colab.kernel.invokeFunction(\n",
              "            'suggestCharts', [key], {});\n",
              "      } catch (error) {\n",
              "        console.error('Error during call to suggestCharts:', error);\n",
              "      }\n",
              "      quickchartButtonEl.classList.remove('colab-df-spinner');\n",
              "      quickchartButtonEl.classList.add('colab-df-quickchart-complete');\n",
              "    }\n",
              "    (() => {\n",
              "      let quickchartButtonEl =\n",
              "        document.querySelector('#df-224c9c80-665a-4de1-9ed5-067cd300cdd7 button');\n",
              "      quickchartButtonEl.style.display =\n",
              "        google.colab.kernel.accessAllowed ? 'block' : 'none';\n",
              "    })();\n",
              "  </script>\n",
              "</div>\n",
              "    </div>\n",
              "  </div>\n"
            ],
            "application/vnd.google.colaboratory.intrinsic+json": {
              "type": "dataframe",
              "variable_name": "stats",
              "summary": "{\n  \"name\": \"stats\",\n  \"rows\": 4,\n  \"fields\": [\n    {\n      \"column\": \"Column\",\n      \"properties\": {\n        \"dtype\": \"string\",\n        \"num_unique_values\": 4,\n        \"samples\": [\n          \"parentTconst\",\n          \"episodeNumber\",\n          \"tconst\"\n        ],\n        \"semantic_type\": \"\",\n        \"description\": \"\"\n      }\n    },\n    {\n      \"column\": \"Null Values\",\n      \"properties\": {\n        \"dtype\": \"number\",\n        \"std\": 1046544,\n        \"min\": 0,\n        \"max\": 1812669,\n        \"num_unique_values\": 2,\n        \"samples\": [\n          1812669,\n          0\n        ],\n        \"semantic_type\": \"\",\n        \"description\": \"\"\n      }\n    },\n    {\n      \"column\": \"Unique Values\",\n      \"properties\": {\n        \"dtype\": \"number\",\n        \"std\": 4401486,\n        \"min\": 319,\n        \"max\": 8878746,\n        \"num_unique_values\": 4,\n        \"samples\": [\n          217918,\n          15784\n        ],\n        \"semantic_type\": \"\",\n        \"description\": \"\"\n      }\n    },\n    {\n      \"column\": \"Total Values\",\n      \"properties\": {\n        \"dtype\": \"number\",\n        \"std\": 0,\n        \"min\": 8878746,\n        \"max\": 8878746,\n        \"num_unique_values\": 1,\n        \"samples\": [\n          8878746\n        ],\n        \"semantic_type\": \"\",\n        \"description\": \"\"\n      }\n    },\n    {\n      \"column\": \"Null Percentage\",\n      \"properties\": {\n        \"dtype\": \"number\",\n        \"std\": 11.787080462733023,\n        \"min\": 0.0,\n        \"max\": 20.415822234356067,\n        \"num_unique_values\": 2,\n        \"samples\": [\n          20.415822234356067\n        ],\n        \"semantic_type\": \"\",\n        \"description\": \"\"\n      }\n    },\n    {\n      \"column\": \"Data Type\",\n      \"properties\": {\n        \"dtype\": \"category\",\n        \"num_unique_values\": 1,\n        \"samples\": [\n          \"StringType()\"\n        ],\n        \"semantic_type\": \"\",\n        \"description\": \"\"\n      }\n    },\n    {\n      \"column\": \"Example Value\",\n      \"properties\": {\n        \"dtype\": \"string\",\n        \"num_unique_values\": 4,\n        \"samples\": [\n          \"tt32857063\"\n        ],\n        \"semantic_type\": \"\",\n        \"description\": \"\"\n      }\n    }\n  ]\n}"
            }
          },
          "metadata": {},
          "execution_count": 13
        }
      ]
    },
    {
      "cell_type": "markdown",
      "source": [
        "## Check for \"NaN\" values"
      ],
      "metadata": {
        "id": "UeAeBkB0wAvK"
      }
    },
    {
      "cell_type": "code",
      "source": [
        "from pyspark.sql.functions import col, sum, isnan\n",
        "\n",
        "def nan_value_stats(df):\n",
        "    nan_counts = df.select([\n",
        "        sum(when(isnan(col(c)), 1).otherwise(0)).alias(c) if dict(df.dtypes)[c] in [\"double\", \"float\", \"int\"]\n",
        "        else sum(when(col(c) == \"NaN\", 1).otherwise(0)).alias(c)\n",
        "        for c in df.columns\n",
        "    ]).toPandas().T.reset_index()\n",
        "\n",
        "    nan_counts.columns = [\"Column\", \"NaN Values\"]\n",
        "    return nan_counts\n",
        "\n",
        "# Run function and display results\n",
        "nan_stats = nan_value_stats(df)\n",
        "print(nan_stats)\n"
      ],
      "metadata": {
        "colab": {
          "base_uri": "https://localhost:8080/"
        },
        "id": "zVB5T-v-rza7",
        "outputId": "bacc6f7a-53e6-4dc0-8f39-97da68b0af39"
      },
      "execution_count": 14,
      "outputs": [
        {
          "output_type": "stream",
          "name": "stdout",
          "text": [
            "          Column  NaN Values\n",
            "0         tconst           0\n",
            "1   parentTconst           0\n",
            "2   seasonNumber           0\n",
            "3  episodeNumber           0\n"
          ]
        }
      ]
    },
    {
      "cell_type": "markdown",
      "source": [
        "## Count of null values per each column"
      ],
      "metadata": {
        "id": "8m6U7sCewESZ"
      }
    },
    {
      "cell_type": "code",
      "source": [
        "from pyspark.sql.functions import col, sum\n",
        "\n",
        "def null_value_stats(df):\n",
        "    null_counts = df.select([\n",
        "        sum(col(c).isNull().cast(\"integer\")).alias(c) for c in df.columns\n",
        "    ]).toPandas().T.reset_index()\n",
        "\n",
        "    null_counts.columns = [\"Column\", \"Null Values\"]\n",
        "    return null_counts\n",
        "\n",
        "\n",
        "null_stats = null_value_stats(df)\n",
        "print(null_stats)\n"
      ],
      "metadata": {
        "colab": {
          "base_uri": "https://localhost:8080/"
        },
        "id": "qID5NdEPsXWL",
        "outputId": "0cd2fab2-f2b8-433a-915e-c22e236b6ed4"
      },
      "execution_count": 15,
      "outputs": [
        {
          "output_type": "stream",
          "name": "stdout",
          "text": [
            "          Column  Null Values\n",
            "0         tconst            0\n",
            "1   parentTconst            0\n",
            "2   seasonNumber      1812669\n",
            "3  episodeNumber      1812669\n"
          ]
        }
      ]
    },
    {
      "cell_type": "markdown",
      "source": [
        "## Cast \"seasonNumber\" and \"episodeNumber\" columns into integer.\n"
      ],
      "metadata": {
        "id": "aBU7Yhx9Dlh9"
      }
    },
    {
      "cell_type": "code",
      "source": [
        "from pyspark.sql import functions as F\n",
        "\n",
        "df = df.withColumn(\"seasonNumber\", df[\"seasonNumber\"].cast(\"int\"))\n",
        "df = df.withColumn(\"episodeNumber\", df[\"episodeNumber\"].cast(\"int\"))"
      ],
      "metadata": {
        "id": "4_XvFUy79_oT"
      },
      "execution_count": 16,
      "outputs": []
    },
    {
      "cell_type": "code",
      "source": [
        "df.dtypes"
      ],
      "metadata": {
        "colab": {
          "base_uri": "https://localhost:8080/"
        },
        "id": "wmZKK3j3LB0M",
        "outputId": "3c6d3d96-c075-4a33-b708-cda99085a0de"
      },
      "execution_count": 17,
      "outputs": [
        {
          "output_type": "execute_result",
          "data": {
            "text/plain": [
              "[('tconst', 'string'),\n",
              " ('parentTconst', 'string'),\n",
              " ('seasonNumber', 'int'),\n",
              " ('episodeNumber', 'int')]"
            ]
          },
          "metadata": {},
          "execution_count": 17
        }
      ]
    },
    {
      "cell_type": "markdown",
      "source": [
        "# Check for duplicates in data:"
      ],
      "metadata": {
        "id": "oyHEpMs7LY0S"
      }
    },
    {
      "cell_type": "code",
      "source": [
        "total_rows = df.count()\n",
        "unique_rows = df.dropDuplicates().count()\n",
        "duplicates_count = total_rows - unique_rows\n",
        "\n",
        "print(f\"Number of duplicate rows: {duplicates_count}\")\n"
      ],
      "metadata": {
        "colab": {
          "base_uri": "https://localhost:8080/"
        },
        "id": "CUrO7pQSLDFp",
        "outputId": "b4b5087a-a3f7-4e60-9e94-a371e73fbb06"
      },
      "execution_count": 18,
      "outputs": [
        {
          "output_type": "stream",
          "name": "stdout",
          "text": [
            "Number of duplicate rows: 0\n"
          ]
        }
      ]
    },
    {
      "cell_type": "markdown",
      "source": [
        " # Check for null values.\n",
        "\n",
        " (There is a suspicion, that if there is a null value in a <code>seasonNumber</code> column, then the value in <code>episodeNumber</code> is also null; <br>\n",
        " If true, than such rows can be dropped.)"
      ],
      "metadata": {
        "id": "bcjnwoYKRQOU"
      }
    },
    {
      "cell_type": "code",
      "source": [
        "df.filter((F.col(\"seasonNumber\").isNull()) & (F.col(\"episodeNumber\").isNotNull())).show()"
      ],
      "metadata": {
        "colab": {
          "base_uri": "https://localhost:8080/"
        },
        "id": "cFGRsoXJRsX4",
        "outputId": "0ac93d51-89a3-4fc0-baea-b851ef9b18ca"
      },
      "execution_count": 19,
      "outputs": [
        {
          "output_type": "stream",
          "name": "stdout",
          "text": [
            "+------+------------+------------+-------------+\n",
            "|tconst|parentTconst|seasonNumber|episodeNumber|\n",
            "+------+------------+------------+-------------+\n",
            "+------+------------+------------+-------------+\n",
            "\n"
          ]
        }
      ]
    },
    {
      "cell_type": "code",
      "source": [
        "df.filter((F.col(\"episodeNumber\").isNull()) & (F.col(\"seasonNumber\").isNotNull())).show()"
      ],
      "metadata": {
        "colab": {
          "base_uri": "https://localhost:8080/"
        },
        "id": "urH0PHzKSP-Z",
        "outputId": "7c6161c5-98cc-4310-a7f6-0636f10ffdc1"
      },
      "execution_count": 20,
      "outputs": [
        {
          "output_type": "stream",
          "name": "stdout",
          "text": [
            "+------+------------+------------+-------------+\n",
            "|tconst|parentTconst|seasonNumber|episodeNumber|\n",
            "+------+------------+------------+-------------+\n",
            "+------+------------+------------+-------------+\n",
            "\n"
          ]
        }
      ]
    },
    {
      "cell_type": "code",
      "source": [
        "df = df.dropna()"
      ],
      "metadata": {
        "id": "yCKXTx7aSZVU"
      },
      "execution_count": 21,
      "outputs": []
    },
    {
      "cell_type": "markdown",
      "source": [
        "## Stats after data cleaning"
      ],
      "metadata": {
        "id": "xsbsqoDtRLTI"
      }
    },
    {
      "cell_type": "code",
      "source": [
        "stats = data_stats(df)\n",
        "stats"
      ],
      "metadata": {
        "colab": {
          "base_uri": "https://localhost:8080/",
          "height": 174
        },
        "id": "8_MVQ7XWLfFv",
        "outputId": "808503bb-5ea2-4ca7-e7b4-ad5d85c9e6d7"
      },
      "execution_count": 22,
      "outputs": [
        {
          "output_type": "execute_result",
          "data": {
            "text/plain": [
              "          Column  Null Values  Unique Values  Total Values  Null Percentage  \\\n",
              "0         tconst            0        7066077       7066077              0.0   \n",
              "1   parentTconst            0         194032       7066077              0.0   \n",
              "2   seasonNumber            0            319       7066077              0.0   \n",
              "3  episodeNumber            0          15784       7066077              0.0   \n",
              "\n",
              "       Data Type Example Value  \n",
              "0   StringType()     tt0041951  \n",
              "1   StringType()     tt0041038  \n",
              "2  IntegerType()             1  \n",
              "3  IntegerType()             9  "
            ],
            "text/html": [
              "\n",
              "  <div id=\"df-b17a5c2c-7169-448a-b70b-dfebd7aa46e4\" class=\"colab-df-container\">\n",
              "    <div>\n",
              "<style scoped>\n",
              "    .dataframe tbody tr th:only-of-type {\n",
              "        vertical-align: middle;\n",
              "    }\n",
              "\n",
              "    .dataframe tbody tr th {\n",
              "        vertical-align: top;\n",
              "    }\n",
              "\n",
              "    .dataframe thead th {\n",
              "        text-align: right;\n",
              "    }\n",
              "</style>\n",
              "<table border=\"1\" class=\"dataframe\">\n",
              "  <thead>\n",
              "    <tr style=\"text-align: right;\">\n",
              "      <th></th>\n",
              "      <th>Column</th>\n",
              "      <th>Null Values</th>\n",
              "      <th>Unique Values</th>\n",
              "      <th>Total Values</th>\n",
              "      <th>Null Percentage</th>\n",
              "      <th>Data Type</th>\n",
              "      <th>Example Value</th>\n",
              "    </tr>\n",
              "  </thead>\n",
              "  <tbody>\n",
              "    <tr>\n",
              "      <th>0</th>\n",
              "      <td>tconst</td>\n",
              "      <td>0</td>\n",
              "      <td>7066077</td>\n",
              "      <td>7066077</td>\n",
              "      <td>0.0</td>\n",
              "      <td>StringType()</td>\n",
              "      <td>tt0041951</td>\n",
              "    </tr>\n",
              "    <tr>\n",
              "      <th>1</th>\n",
              "      <td>parentTconst</td>\n",
              "      <td>0</td>\n",
              "      <td>194032</td>\n",
              "      <td>7066077</td>\n",
              "      <td>0.0</td>\n",
              "      <td>StringType()</td>\n",
              "      <td>tt0041038</td>\n",
              "    </tr>\n",
              "    <tr>\n",
              "      <th>2</th>\n",
              "      <td>seasonNumber</td>\n",
              "      <td>0</td>\n",
              "      <td>319</td>\n",
              "      <td>7066077</td>\n",
              "      <td>0.0</td>\n",
              "      <td>IntegerType()</td>\n",
              "      <td>1</td>\n",
              "    </tr>\n",
              "    <tr>\n",
              "      <th>3</th>\n",
              "      <td>episodeNumber</td>\n",
              "      <td>0</td>\n",
              "      <td>15784</td>\n",
              "      <td>7066077</td>\n",
              "      <td>0.0</td>\n",
              "      <td>IntegerType()</td>\n",
              "      <td>9</td>\n",
              "    </tr>\n",
              "  </tbody>\n",
              "</table>\n",
              "</div>\n",
              "    <div class=\"colab-df-buttons\">\n",
              "\n",
              "  <div class=\"colab-df-container\">\n",
              "    <button class=\"colab-df-convert\" onclick=\"convertToInteractive('df-b17a5c2c-7169-448a-b70b-dfebd7aa46e4')\"\n",
              "            title=\"Convert this dataframe to an interactive table.\"\n",
              "            style=\"display:none;\">\n",
              "\n",
              "  <svg xmlns=\"http://www.w3.org/2000/svg\" height=\"24px\" viewBox=\"0 -960 960 960\">\n",
              "    <path d=\"M120-120v-720h720v720H120Zm60-500h600v-160H180v160Zm220 220h160v-160H400v160Zm0 220h160v-160H400v160ZM180-400h160v-160H180v160Zm440 0h160v-160H620v160ZM180-180h160v-160H180v160Zm440 0h160v-160H620v160Z\"/>\n",
              "  </svg>\n",
              "    </button>\n",
              "\n",
              "  <style>\n",
              "    .colab-df-container {\n",
              "      display:flex;\n",
              "      gap: 12px;\n",
              "    }\n",
              "\n",
              "    .colab-df-convert {\n",
              "      background-color: #E8F0FE;\n",
              "      border: none;\n",
              "      border-radius: 50%;\n",
              "      cursor: pointer;\n",
              "      display: none;\n",
              "      fill: #1967D2;\n",
              "      height: 32px;\n",
              "      padding: 0 0 0 0;\n",
              "      width: 32px;\n",
              "    }\n",
              "\n",
              "    .colab-df-convert:hover {\n",
              "      background-color: #E2EBFA;\n",
              "      box-shadow: 0px 1px 2px rgba(60, 64, 67, 0.3), 0px 1px 3px 1px rgba(60, 64, 67, 0.15);\n",
              "      fill: #174EA6;\n",
              "    }\n",
              "\n",
              "    .colab-df-buttons div {\n",
              "      margin-bottom: 4px;\n",
              "    }\n",
              "\n",
              "    [theme=dark] .colab-df-convert {\n",
              "      background-color: #3B4455;\n",
              "      fill: #D2E3FC;\n",
              "    }\n",
              "\n",
              "    [theme=dark] .colab-df-convert:hover {\n",
              "      background-color: #434B5C;\n",
              "      box-shadow: 0px 1px 3px 1px rgba(0, 0, 0, 0.15);\n",
              "      filter: drop-shadow(0px 1px 2px rgba(0, 0, 0, 0.3));\n",
              "      fill: #FFFFFF;\n",
              "    }\n",
              "  </style>\n",
              "\n",
              "    <script>\n",
              "      const buttonEl =\n",
              "        document.querySelector('#df-b17a5c2c-7169-448a-b70b-dfebd7aa46e4 button.colab-df-convert');\n",
              "      buttonEl.style.display =\n",
              "        google.colab.kernel.accessAllowed ? 'block' : 'none';\n",
              "\n",
              "      async function convertToInteractive(key) {\n",
              "        const element = document.querySelector('#df-b17a5c2c-7169-448a-b70b-dfebd7aa46e4');\n",
              "        const dataTable =\n",
              "          await google.colab.kernel.invokeFunction('convertToInteractive',\n",
              "                                                    [key], {});\n",
              "        if (!dataTable) return;\n",
              "\n",
              "        const docLinkHtml = 'Like what you see? Visit the ' +\n",
              "          '<a target=\"_blank\" href=https://colab.research.google.com/notebooks/data_table.ipynb>data table notebook</a>'\n",
              "          + ' to learn more about interactive tables.';\n",
              "        element.innerHTML = '';\n",
              "        dataTable['output_type'] = 'display_data';\n",
              "        await google.colab.output.renderOutput(dataTable, element);\n",
              "        const docLink = document.createElement('div');\n",
              "        docLink.innerHTML = docLinkHtml;\n",
              "        element.appendChild(docLink);\n",
              "      }\n",
              "    </script>\n",
              "  </div>\n",
              "\n",
              "\n",
              "<div id=\"df-e0611b7b-0166-459b-91be-43b83febb1d2\">\n",
              "  <button class=\"colab-df-quickchart\" onclick=\"quickchart('df-e0611b7b-0166-459b-91be-43b83febb1d2')\"\n",
              "            title=\"Suggest charts\"\n",
              "            style=\"display:none;\">\n",
              "\n",
              "<svg xmlns=\"http://www.w3.org/2000/svg\" height=\"24px\"viewBox=\"0 0 24 24\"\n",
              "     width=\"24px\">\n",
              "    <g>\n",
              "        <path d=\"M19 3H5c-1.1 0-2 .9-2 2v14c0 1.1.9 2 2 2h14c1.1 0 2-.9 2-2V5c0-1.1-.9-2-2-2zM9 17H7v-7h2v7zm4 0h-2V7h2v10zm4 0h-2v-4h2v4z\"/>\n",
              "    </g>\n",
              "</svg>\n",
              "  </button>\n",
              "\n",
              "<style>\n",
              "  .colab-df-quickchart {\n",
              "      --bg-color: #E8F0FE;\n",
              "      --fill-color: #1967D2;\n",
              "      --hover-bg-color: #E2EBFA;\n",
              "      --hover-fill-color: #174EA6;\n",
              "      --disabled-fill-color: #AAA;\n",
              "      --disabled-bg-color: #DDD;\n",
              "  }\n",
              "\n",
              "  [theme=dark] .colab-df-quickchart {\n",
              "      --bg-color: #3B4455;\n",
              "      --fill-color: #D2E3FC;\n",
              "      --hover-bg-color: #434B5C;\n",
              "      --hover-fill-color: #FFFFFF;\n",
              "      --disabled-bg-color: #3B4455;\n",
              "      --disabled-fill-color: #666;\n",
              "  }\n",
              "\n",
              "  .colab-df-quickchart {\n",
              "    background-color: var(--bg-color);\n",
              "    border: none;\n",
              "    border-radius: 50%;\n",
              "    cursor: pointer;\n",
              "    display: none;\n",
              "    fill: var(--fill-color);\n",
              "    height: 32px;\n",
              "    padding: 0;\n",
              "    width: 32px;\n",
              "  }\n",
              "\n",
              "  .colab-df-quickchart:hover {\n",
              "    background-color: var(--hover-bg-color);\n",
              "    box-shadow: 0 1px 2px rgba(60, 64, 67, 0.3), 0 1px 3px 1px rgba(60, 64, 67, 0.15);\n",
              "    fill: var(--button-hover-fill-color);\n",
              "  }\n",
              "\n",
              "  .colab-df-quickchart-complete:disabled,\n",
              "  .colab-df-quickchart-complete:disabled:hover {\n",
              "    background-color: var(--disabled-bg-color);\n",
              "    fill: var(--disabled-fill-color);\n",
              "    box-shadow: none;\n",
              "  }\n",
              "\n",
              "  .colab-df-spinner {\n",
              "    border: 2px solid var(--fill-color);\n",
              "    border-color: transparent;\n",
              "    border-bottom-color: var(--fill-color);\n",
              "    animation:\n",
              "      spin 1s steps(1) infinite;\n",
              "  }\n",
              "\n",
              "  @keyframes spin {\n",
              "    0% {\n",
              "      border-color: transparent;\n",
              "      border-bottom-color: var(--fill-color);\n",
              "      border-left-color: var(--fill-color);\n",
              "    }\n",
              "    20% {\n",
              "      border-color: transparent;\n",
              "      border-left-color: var(--fill-color);\n",
              "      border-top-color: var(--fill-color);\n",
              "    }\n",
              "    30% {\n",
              "      border-color: transparent;\n",
              "      border-left-color: var(--fill-color);\n",
              "      border-top-color: var(--fill-color);\n",
              "      border-right-color: var(--fill-color);\n",
              "    }\n",
              "    40% {\n",
              "      border-color: transparent;\n",
              "      border-right-color: var(--fill-color);\n",
              "      border-top-color: var(--fill-color);\n",
              "    }\n",
              "    60% {\n",
              "      border-color: transparent;\n",
              "      border-right-color: var(--fill-color);\n",
              "    }\n",
              "    80% {\n",
              "      border-color: transparent;\n",
              "      border-right-color: var(--fill-color);\n",
              "      border-bottom-color: var(--fill-color);\n",
              "    }\n",
              "    90% {\n",
              "      border-color: transparent;\n",
              "      border-bottom-color: var(--fill-color);\n",
              "    }\n",
              "  }\n",
              "</style>\n",
              "\n",
              "  <script>\n",
              "    async function quickchart(key) {\n",
              "      const quickchartButtonEl =\n",
              "        document.querySelector('#' + key + ' button');\n",
              "      quickchartButtonEl.disabled = true;  // To prevent multiple clicks.\n",
              "      quickchartButtonEl.classList.add('colab-df-spinner');\n",
              "      try {\n",
              "        const charts = await google.colab.kernel.invokeFunction(\n",
              "            'suggestCharts', [key], {});\n",
              "      } catch (error) {\n",
              "        console.error('Error during call to suggestCharts:', error);\n",
              "      }\n",
              "      quickchartButtonEl.classList.remove('colab-df-spinner');\n",
              "      quickchartButtonEl.classList.add('colab-df-quickchart-complete');\n",
              "    }\n",
              "    (() => {\n",
              "      let quickchartButtonEl =\n",
              "        document.querySelector('#df-e0611b7b-0166-459b-91be-43b83febb1d2 button');\n",
              "      quickchartButtonEl.style.display =\n",
              "        google.colab.kernel.accessAllowed ? 'block' : 'none';\n",
              "    })();\n",
              "  </script>\n",
              "</div>\n",
              "    </div>\n",
              "  </div>\n"
            ],
            "application/vnd.google.colaboratory.intrinsic+json": {
              "type": "dataframe",
              "variable_name": "stats",
              "summary": "{\n  \"name\": \"stats\",\n  \"rows\": 4,\n  \"fields\": [\n    {\n      \"column\": \"Column\",\n      \"properties\": {\n        \"dtype\": \"string\",\n        \"num_unique_values\": 4,\n        \"samples\": [\n          \"parentTconst\",\n          \"episodeNumber\",\n          \"tconst\"\n        ],\n        \"semantic_type\": \"\",\n        \"description\": \"\"\n      }\n    },\n    {\n      \"column\": \"Null Values\",\n      \"properties\": {\n        \"dtype\": \"number\",\n        \"std\": 0,\n        \"min\": 0,\n        \"max\": 0,\n        \"num_unique_values\": 1,\n        \"samples\": [\n          0\n        ],\n        \"semantic_type\": \"\",\n        \"description\": \"\"\n      }\n    },\n    {\n      \"column\": \"Unique Values\",\n      \"properties\": {\n        \"dtype\": \"number\",\n        \"std\": 3499120,\n        \"min\": 319,\n        \"max\": 7066077,\n        \"num_unique_values\": 4,\n        \"samples\": [\n          194032\n        ],\n        \"semantic_type\": \"\",\n        \"description\": \"\"\n      }\n    },\n    {\n      \"column\": \"Total Values\",\n      \"properties\": {\n        \"dtype\": \"number\",\n        \"std\": 0,\n        \"min\": 7066077,\n        \"max\": 7066077,\n        \"num_unique_values\": 1,\n        \"samples\": [\n          7066077\n        ],\n        \"semantic_type\": \"\",\n        \"description\": \"\"\n      }\n    },\n    {\n      \"column\": \"Null Percentage\",\n      \"properties\": {\n        \"dtype\": \"number\",\n        \"std\": 0.0,\n        \"min\": 0.0,\n        \"max\": 0.0,\n        \"num_unique_values\": 1,\n        \"samples\": [\n          0.0\n        ],\n        \"semantic_type\": \"\",\n        \"description\": \"\"\n      }\n    },\n    {\n      \"column\": \"Data Type\",\n      \"properties\": {\n        \"dtype\": \"string\",\n        \"num_unique_values\": 2,\n        \"samples\": [\n          \"IntegerType()\"\n        ],\n        \"semantic_type\": \"\",\n        \"description\": \"\"\n      }\n    },\n    {\n      \"column\": \"Example Value\",\n      \"properties\": {\n        \"dtype\": \"string\",\n        \"num_unique_values\": 4,\n        \"samples\": [\n          \"tt0041038\"\n        ],\n        \"semantic_type\": \"\",\n        \"description\": \"\"\n      }\n    }\n  ]\n}"
            }
          },
          "metadata": {},
          "execution_count": 22
        }
      ]
    },
    {
      "cell_type": "code",
      "source": [
        "df.show()"
      ],
      "metadata": {
        "id": "nzLhghvIMp8H",
        "colab": {
          "base_uri": "https://localhost:8080/"
        },
        "outputId": "54b5728e-b0bd-4a56-98ce-87c2f5d00781"
      },
      "execution_count": 23,
      "outputs": [
        {
          "output_type": "stream",
          "name": "stdout",
          "text": [
            "+---------+------------+------------+-------------+\n",
            "|   tconst|parentTconst|seasonNumber|episodeNumber|\n",
            "+---------+------------+------------+-------------+\n",
            "|tt0041951|   tt0041038|           1|            9|\n",
            "|tt0042816|   tt0989125|           1|           17|\n",
            "|tt0043426|   tt0040051|           3|           42|\n",
            "|tt0043631|   tt0989125|           2|           16|\n",
            "|tt0043693|   tt0989125|           2|            8|\n",
            "|tt0043710|   tt0989125|           3|            3|\n",
            "|tt0044093|   tt0959862|           1|            6|\n",
            "|tt0044668|   tt0044243|           2|           16|\n",
            "|tt0044901|   tt0989125|           3|           46|\n",
            "|tt0045519|   tt0989125|           4|           11|\n",
            "|tt0045960|   tt0044284|           2|            3|\n",
            "|tt0046135|   tt0989125|           4|            5|\n",
            "|tt0046855|   tt0046643|           1|            4|\n",
            "|tt0046864|   tt0989125|           5|           20|\n",
            "|tt0047810|   tt0914702|           3|           36|\n",
            "|tt0047852|   tt0047745|           1|           15|\n",
            "|tt0047858|   tt0046637|           2|            9|\n",
            "|tt0047961|   tt0989125|           6|            5|\n",
            "|tt0048067|   tt0046587|           2|           20|\n",
            "|tt0048302|   tt0047768|           1|            6|\n",
            "+---------+------------+------------+-------------+\n",
            "only showing top 20 rows\n",
            "\n"
          ]
        }
      ]
    },
    {
      "cell_type": "markdown",
      "source": [
        "## Data integrity check"
      ],
      "metadata": {
        "id": "qC92GnlYc1VL"
      }
    },
    {
      "cell_type": "markdown",
      "source": [
        "Number of distinct values in column <code>seasonNumber</code> seems too high."
      ],
      "metadata": {
        "id": "zhN_IkbudCuh"
      }
    },
    {
      "cell_type": "markdown",
      "source": [
        "### Insight of <code>seasonNumber</code>."
      ],
      "metadata": {
        "id": "vj-GaS86edm2"
      }
    },
    {
      "cell_type": "code",
      "source": [
        "df.filter(df['seasonNumber'] == 250).show()"
      ],
      "metadata": {
        "id": "OwxJQcX2SLBA",
        "colab": {
          "base_uri": "https://localhost:8080/"
        },
        "outputId": "a6fa41cb-d081-4da1-df13-4445d91b2bed"
      },
      "execution_count": 24,
      "outputs": [
        {
          "output_type": "stream",
          "name": "stdout",
          "text": [
            "+----------+------------+------------+-------------+\n",
            "|    tconst|parentTconst|seasonNumber|episodeNumber|\n",
            "+----------+------------+------------+-------------+\n",
            "|tt32489279|   tt0369117|         250|            1|\n",
            "|tt32489303|   tt0369117|         250|            2|\n",
            "|tt32524518|   tt0369117|         250|            3|\n",
            "|tt32524530|   tt0369117|         250|           13|\n",
            "|tt32590572|   tt0369117|         250|            4|\n",
            "|tt32591613|   tt0369117|         250|            6|\n",
            "|tt32592444|   tt0369117|         250|            9|\n",
            "|tt32641480|   tt0369117|         250|           10|\n",
            "|tt32758250|   tt0369117|         250|           12|\n",
            "|tt32758277|   tt0369117|         250|            8|\n",
            "|tt32809579|   tt0369117|         250|            5|\n",
            "|tt32809583|   tt0369117|         250|           11|\n",
            "|tt32868281|   tt0369117|         250|            7|\n",
            "+----------+------------+------------+-------------+\n",
            "\n"
          ]
        }
      ]
    },
    {
      "cell_type": "code",
      "source": [
        "df.select(\"seasonNumber\").distinct().orderBy(\"seasonNumber\", ascending=True).show(320)"
      ],
      "metadata": {
        "colab": {
          "base_uri": "https://localhost:8080/"
        },
        "id": "e0RMqm3bzg_C",
        "outputId": "adba8026-9f1d-4b19-c56f-9f8dc3a504d0"
      },
      "execution_count": 25,
      "outputs": [
        {
          "output_type": "stream",
          "name": "stdout",
          "text": [
            "+------------+\n",
            "|seasonNumber|\n",
            "+------------+\n",
            "|           1|\n",
            "|           2|\n",
            "|           3|\n",
            "|           4|\n",
            "|           5|\n",
            "|           6|\n",
            "|           7|\n",
            "|           8|\n",
            "|           9|\n",
            "|          10|\n",
            "|          11|\n",
            "|          12|\n",
            "|          13|\n",
            "|          14|\n",
            "|          15|\n",
            "|          16|\n",
            "|          17|\n",
            "|          18|\n",
            "|          19|\n",
            "|          20|\n",
            "|          21|\n",
            "|          22|\n",
            "|          23|\n",
            "|          24|\n",
            "|          25|\n",
            "|          26|\n",
            "|          27|\n",
            "|          28|\n",
            "|          29|\n",
            "|          30|\n",
            "|          31|\n",
            "|          32|\n",
            "|          33|\n",
            "|          34|\n",
            "|          35|\n",
            "|          36|\n",
            "|          37|\n",
            "|          38|\n",
            "|          39|\n",
            "|          40|\n",
            "|          41|\n",
            "|          42|\n",
            "|          43|\n",
            "|          44|\n",
            "|          45|\n",
            "|          46|\n",
            "|          47|\n",
            "|          48|\n",
            "|          49|\n",
            "|          50|\n",
            "|          51|\n",
            "|          52|\n",
            "|          53|\n",
            "|          54|\n",
            "|          55|\n",
            "|          56|\n",
            "|          57|\n",
            "|          58|\n",
            "|          59|\n",
            "|          60|\n",
            "|          61|\n",
            "|          62|\n",
            "|          63|\n",
            "|          64|\n",
            "|          65|\n",
            "|          66|\n",
            "|          67|\n",
            "|          68|\n",
            "|          69|\n",
            "|          70|\n",
            "|          71|\n",
            "|          72|\n",
            "|          73|\n",
            "|          74|\n",
            "|          75|\n",
            "|          76|\n",
            "|          77|\n",
            "|          78|\n",
            "|          79|\n",
            "|          80|\n",
            "|          81|\n",
            "|          82|\n",
            "|          83|\n",
            "|          84|\n",
            "|          85|\n",
            "|          86|\n",
            "|          87|\n",
            "|          88|\n",
            "|          89|\n",
            "|          90|\n",
            "|          91|\n",
            "|          92|\n",
            "|          93|\n",
            "|          94|\n",
            "|          95|\n",
            "|          96|\n",
            "|          97|\n",
            "|          98|\n",
            "|          99|\n",
            "|         100|\n",
            "|         101|\n",
            "|         102|\n",
            "|         103|\n",
            "|         104|\n",
            "|         105|\n",
            "|         106|\n",
            "|         107|\n",
            "|         108|\n",
            "|         109|\n",
            "|         110|\n",
            "|         111|\n",
            "|         112|\n",
            "|         113|\n",
            "|         114|\n",
            "|         115|\n",
            "|         116|\n",
            "|         117|\n",
            "|         118|\n",
            "|         119|\n",
            "|         120|\n",
            "|         121|\n",
            "|         122|\n",
            "|         123|\n",
            "|         124|\n",
            "|         125|\n",
            "|         126|\n",
            "|         127|\n",
            "|         128|\n",
            "|         129|\n",
            "|         130|\n",
            "|         131|\n",
            "|         132|\n",
            "|         133|\n",
            "|         134|\n",
            "|         135|\n",
            "|         136|\n",
            "|         137|\n",
            "|         138|\n",
            "|         139|\n",
            "|         140|\n",
            "|         141|\n",
            "|         142|\n",
            "|         143|\n",
            "|         144|\n",
            "|         145|\n",
            "|         146|\n",
            "|         147|\n",
            "|         148|\n",
            "|         149|\n",
            "|         150|\n",
            "|         151|\n",
            "|         152|\n",
            "|         153|\n",
            "|         154|\n",
            "|         155|\n",
            "|         156|\n",
            "|         157|\n",
            "|         158|\n",
            "|         159|\n",
            "|         160|\n",
            "|         161|\n",
            "|         162|\n",
            "|         163|\n",
            "|         164|\n",
            "|         165|\n",
            "|         166|\n",
            "|         167|\n",
            "|         168|\n",
            "|         169|\n",
            "|         170|\n",
            "|         171|\n",
            "|         172|\n",
            "|         173|\n",
            "|         174|\n",
            "|         175|\n",
            "|         176|\n",
            "|         177|\n",
            "|         178|\n",
            "|         179|\n",
            "|         180|\n",
            "|         181|\n",
            "|         182|\n",
            "|         183|\n",
            "|         184|\n",
            "|         185|\n",
            "|         186|\n",
            "|         187|\n",
            "|         188|\n",
            "|         189|\n",
            "|         190|\n",
            "|         191|\n",
            "|         192|\n",
            "|         193|\n",
            "|         194|\n",
            "|         195|\n",
            "|         196|\n",
            "|         197|\n",
            "|         198|\n",
            "|         199|\n",
            "|         200|\n",
            "|         201|\n",
            "|         202|\n",
            "|         203|\n",
            "|         204|\n",
            "|         205|\n",
            "|         206|\n",
            "|         207|\n",
            "|         208|\n",
            "|         209|\n",
            "|         210|\n",
            "|         211|\n",
            "|         212|\n",
            "|         213|\n",
            "|         214|\n",
            "|         215|\n",
            "|         216|\n",
            "|         217|\n",
            "|         218|\n",
            "|         219|\n",
            "|         220|\n",
            "|         221|\n",
            "|         222|\n",
            "|         223|\n",
            "|         224|\n",
            "|         225|\n",
            "|         226|\n",
            "|         227|\n",
            "|         228|\n",
            "|         229|\n",
            "|         230|\n",
            "|         231|\n",
            "|         232|\n",
            "|         233|\n",
            "|         234|\n",
            "|         235|\n",
            "|         236|\n",
            "|         237|\n",
            "|         238|\n",
            "|         239|\n",
            "|         240|\n",
            "|         241|\n",
            "|         242|\n",
            "|         243|\n",
            "|         244|\n",
            "|         245|\n",
            "|         246|\n",
            "|         247|\n",
            "|         248|\n",
            "|         249|\n",
            "|         250|\n",
            "|         251|\n",
            "|         252|\n",
            "|         253|\n",
            "|         254|\n",
            "|         255|\n",
            "|         256|\n",
            "|         257|\n",
            "|         258|\n",
            "|         259|\n",
            "|         262|\n",
            "|         947|\n",
            "|        1965|\n",
            "|        1966|\n",
            "|        1967|\n",
            "|        1968|\n",
            "|        1969|\n",
            "|        1970|\n",
            "|        1971|\n",
            "|        1972|\n",
            "|        1973|\n",
            "|        1974|\n",
            "|        1975|\n",
            "|        1976|\n",
            "|        1977|\n",
            "|        1978|\n",
            "|        1979|\n",
            "|        1980|\n",
            "|        1981|\n",
            "|        1982|\n",
            "|        1983|\n",
            "|        1984|\n",
            "|        1985|\n",
            "|        1986|\n",
            "|        1987|\n",
            "|        1988|\n",
            "|        1989|\n",
            "|        1990|\n",
            "|        1991|\n",
            "|        1992|\n",
            "|        1993|\n",
            "|        1994|\n",
            "|        1995|\n",
            "|        1996|\n",
            "|        1997|\n",
            "|        1998|\n",
            "|        1999|\n",
            "|        2000|\n",
            "|        2002|\n",
            "|        2003|\n",
            "|        2004|\n",
            "|        2005|\n",
            "|        2006|\n",
            "|        2007|\n",
            "|        2008|\n",
            "|        2009|\n",
            "|        2010|\n",
            "|        2011|\n",
            "|        2012|\n",
            "|        2013|\n",
            "|        2014|\n",
            "|        2015|\n",
            "|        2016|\n",
            "|        2017|\n",
            "|        2018|\n",
            "|        2019|\n",
            "|        2020|\n",
            "|        2021|\n",
            "|        2023|\n",
            "|        2024|\n",
            "+------------+\n",
            "\n"
          ]
        }
      ]
    },
    {
      "cell_type": "markdown",
      "source": [
        "We can see that in ascending order, there are values like <code>1965, 1966</code>, etc., that look like invalid. The largest value that goes correctly in ascending order is 259.\n",
        "(This looks like it is correct: according to the internet resources there is such TV series called <code>House Hunters</code>, that has 262 seasons.)"
      ],
      "metadata": {
        "id": "8U6cbnFMdTpn"
      }
    },
    {
      "cell_type": "markdown",
      "source": [
        "### Insight of <code>episodeNumber</code>"
      ],
      "metadata": {
        "id": "FdtesacmeTiW"
      }
    },
    {
      "cell_type": "code",
      "source": [
        "df.select(\"episodeNumber\").distinct().orderBy(\"episodeNumber\", ascending=False).show(320)"
      ],
      "metadata": {
        "colab": {
          "base_uri": "https://localhost:8080/"
        },
        "id": "YfqBVd-rVWUq",
        "outputId": "11d00d2e-74ab-4a1c-b637-a9f131931e9f"
      },
      "execution_count": 26,
      "outputs": [
        {
          "output_type": "stream",
          "name": "stdout",
          "text": [
            "+-------------+\n",
            "|episodeNumber|\n",
            "+-------------+\n",
            "|        91334|\n",
            "|        80207|\n",
            "|        79800|\n",
            "|        77305|\n",
            "|        72615|\n",
            "|        48505|\n",
            "|        48504|\n",
            "|        48503|\n",
            "|        48502|\n",
            "|        48501|\n",
            "|        46002|\n",
            "|        40000|\n",
            "|        28422|\n",
            "|        25000|\n",
            "|        21907|\n",
            "|        20910|\n",
            "|        20008|\n",
            "|        19805|\n",
            "|        18402|\n",
            "|        18081|\n",
            "|        18000|\n",
            "|        15762|\n",
            "|        15761|\n",
            "|        15760|\n",
            "|        15759|\n",
            "|        15758|\n",
            "|        15757|\n",
            "|        15756|\n",
            "|        15755|\n",
            "|        15754|\n",
            "|        15753|\n",
            "|        15752|\n",
            "|        15751|\n",
            "|        15750|\n",
            "|        15749|\n",
            "|        15748|\n",
            "|        15747|\n",
            "|        15746|\n",
            "|        15745|\n",
            "|        15744|\n",
            "|        15743|\n",
            "|        15742|\n",
            "|        15741|\n",
            "|        15740|\n",
            "|        15739|\n",
            "|        15738|\n",
            "|        15737|\n",
            "|        15736|\n",
            "|        15735|\n",
            "|        15734|\n",
            "|        15733|\n",
            "|        15732|\n",
            "|        15731|\n",
            "|        15730|\n",
            "|        15729|\n",
            "|        15728|\n",
            "|        15727|\n",
            "|        15726|\n",
            "|        15725|\n",
            "|        15724|\n",
            "|        15723|\n",
            "|        15722|\n",
            "|        15721|\n",
            "|        15720|\n",
            "|        15719|\n",
            "|        15718|\n",
            "|        15717|\n",
            "|        15716|\n",
            "|        15715|\n",
            "|        15714|\n",
            "|        15713|\n",
            "|        15712|\n",
            "|        15711|\n",
            "|        15710|\n",
            "|        15709|\n",
            "|        15708|\n",
            "|        15707|\n",
            "|        15706|\n",
            "|        15705|\n",
            "|        15704|\n",
            "|        15703|\n",
            "|        15702|\n",
            "|        15701|\n",
            "|        15700|\n",
            "|        15699|\n",
            "|        15698|\n",
            "|        15697|\n",
            "|        15696|\n",
            "|        15695|\n",
            "|        15694|\n",
            "|        15693|\n",
            "|        15692|\n",
            "|        15691|\n",
            "|        15690|\n",
            "|        15689|\n",
            "|        15688|\n",
            "|        15687|\n",
            "|        15686|\n",
            "|        15685|\n",
            "|        15684|\n",
            "|        15683|\n",
            "|        15682|\n",
            "|        15681|\n",
            "|        15680|\n",
            "|        15679|\n",
            "|        15678|\n",
            "|        15677|\n",
            "|        15676|\n",
            "|        15675|\n",
            "|        15674|\n",
            "|        15673|\n",
            "|        15672|\n",
            "|        15671|\n",
            "|        15670|\n",
            "|        15669|\n",
            "|        15668|\n",
            "|        15667|\n",
            "|        15666|\n",
            "|        15665|\n",
            "|        15664|\n",
            "|        15663|\n",
            "|        15662|\n",
            "|        15661|\n",
            "|        15660|\n",
            "|        15659|\n",
            "|        15658|\n",
            "|        15657|\n",
            "|        15656|\n",
            "|        15655|\n",
            "|        15654|\n",
            "|        15653|\n",
            "|        15652|\n",
            "|        15651|\n",
            "|        15650|\n",
            "|        15649|\n",
            "|        15648|\n",
            "|        15647|\n",
            "|        15646|\n",
            "|        15645|\n",
            "|        15644|\n",
            "|        15643|\n",
            "|        15642|\n",
            "|        15641|\n",
            "|        15640|\n",
            "|        15639|\n",
            "|        15638|\n",
            "|        15637|\n",
            "|        15636|\n",
            "|        15635|\n",
            "|        15634|\n",
            "|        15633|\n",
            "|        15632|\n",
            "|        15631|\n",
            "|        15630|\n",
            "|        15629|\n",
            "|        15628|\n",
            "|        15627|\n",
            "|        15626|\n",
            "|        15625|\n",
            "|        15624|\n",
            "|        15623|\n",
            "|        15622|\n",
            "|        15621|\n",
            "|        15620|\n",
            "|        15619|\n",
            "|        15618|\n",
            "|        15617|\n",
            "|        15616|\n",
            "|        15615|\n",
            "|        15614|\n",
            "|        15613|\n",
            "|        15612|\n",
            "|        15611|\n",
            "|        15610|\n",
            "|        15609|\n",
            "|        15608|\n",
            "|        15607|\n",
            "|        15606|\n",
            "|        15605|\n",
            "|        15604|\n",
            "|        15603|\n",
            "|        15602|\n",
            "|        15601|\n",
            "|        15600|\n",
            "|        15599|\n",
            "|        15598|\n",
            "|        15597|\n",
            "|        15596|\n",
            "|        15595|\n",
            "|        15594|\n",
            "|        15593|\n",
            "|        15592|\n",
            "|        15591|\n",
            "|        15590|\n",
            "|        15589|\n",
            "|        15588|\n",
            "|        15587|\n",
            "|        15586|\n",
            "|        15585|\n",
            "|        15584|\n",
            "|        15583|\n",
            "|        15582|\n",
            "|        15581|\n",
            "|        15580|\n",
            "|        15579|\n",
            "|        15578|\n",
            "|        15577|\n",
            "|        15576|\n",
            "|        15575|\n",
            "|        15574|\n",
            "|        15573|\n",
            "|        15572|\n",
            "|        15571|\n",
            "|        15570|\n",
            "|        15569|\n",
            "|        15568|\n",
            "|        15567|\n",
            "|        15566|\n",
            "|        15565|\n",
            "|        15564|\n",
            "|        15563|\n",
            "|        15562|\n",
            "|        15561|\n",
            "|        15560|\n",
            "|        15559|\n",
            "|        15558|\n",
            "|        15557|\n",
            "|        15556|\n",
            "|        15555|\n",
            "|        15554|\n",
            "|        15553|\n",
            "|        15552|\n",
            "|        15551|\n",
            "|        15550|\n",
            "|        15549|\n",
            "|        15548|\n",
            "|        15547|\n",
            "|        15546|\n",
            "|        15545|\n",
            "|        15544|\n",
            "|        15543|\n",
            "|        15542|\n",
            "|        15541|\n",
            "|        15540|\n",
            "|        15539|\n",
            "|        15538|\n",
            "|        15537|\n",
            "|        15536|\n",
            "|        15535|\n",
            "|        15534|\n",
            "|        15533|\n",
            "|        15532|\n",
            "|        15531|\n",
            "|        15530|\n",
            "|        15529|\n",
            "|        15528|\n",
            "|        15527|\n",
            "|        15526|\n",
            "|        15525|\n",
            "|        15524|\n",
            "|        15523|\n",
            "|        15522|\n",
            "|        15521|\n",
            "|        15520|\n",
            "|        15519|\n",
            "|        15518|\n",
            "|        15517|\n",
            "|        15516|\n",
            "|        15515|\n",
            "|        15514|\n",
            "|        15513|\n",
            "|        15512|\n",
            "|        15511|\n",
            "|        15510|\n",
            "|        15509|\n",
            "|        15508|\n",
            "|        15507|\n",
            "|        15506|\n",
            "|        15505|\n",
            "|        15504|\n",
            "|        15503|\n",
            "|        15502|\n",
            "|        15501|\n",
            "|        15500|\n",
            "|        15499|\n",
            "|        15498|\n",
            "|        15497|\n",
            "|        15496|\n",
            "|        15495|\n",
            "|        15494|\n",
            "|        15493|\n",
            "|        15492|\n",
            "|        15491|\n",
            "|        15490|\n",
            "|        15489|\n",
            "|        15488|\n",
            "|        15487|\n",
            "|        15486|\n",
            "|        15485|\n",
            "|        15484|\n",
            "|        15483|\n",
            "|        15482|\n",
            "|        15481|\n",
            "|        15480|\n",
            "|        15479|\n",
            "|        15478|\n",
            "|        15477|\n",
            "|        15476|\n",
            "|        15475|\n",
            "|        15474|\n",
            "|        15473|\n",
            "|        15472|\n",
            "|        15471|\n",
            "|        15470|\n",
            "|        15469|\n",
            "|        15468|\n",
            "|        15467|\n",
            "|        15466|\n",
            "|        15465|\n",
            "|        15464|\n",
            "+-------------+\n",
            "only showing top 320 rows\n",
            "\n"
          ]
        }
      ]
    },
    {
      "cell_type": "markdown",
      "source": [
        "Same as with seasons, we can see that in ascending order, there are values like <code>91334</code>, etc., that look like invalid. The largest value that goes correctly in ascending order is 15 762. </br>\n",
        "(This looks like it is correct: according to the internet resources there is such TV series called <code>Days of our lives</code>, that has 15005 episodes as of November 29, 2024.)"
      ],
      "metadata": {
        "id": "L8j7SIiXe-02"
      }
    },
    {
      "cell_type": "markdown",
      "source": [
        "### Queries that return episodes / seasons, that doesn't go in ascending order.\n",
        "\n",
        "(Meaning previous or next season /episode is missing)."
      ],
      "metadata": {
        "id": "Ab62tQaTeqxv"
      }
    },
    {
      "cell_type": "code",
      "source": [
        "from pyspark.sql.window import Window\n",
        "from pyspark.sql import functions as F\n",
        "\n",
        "# Define a window ordered by seasonNumber\n",
        "window_spec = Window.orderBy(\"seasonNumber\")\n",
        "\n",
        "# Create a temporary DataFrame with previous and next season numbers\n",
        "df_temp = df.withColumn(\"prev_season\", F.lag(\"seasonNumber\").over(window_spec)) \\\n",
        "            .withColumn(\"next_season\", F.lead(\"seasonNumber\").over(window_spec))\n",
        "\n",
        "# Apply the filter condition\n",
        "df_filtered = df_temp.filter(\n",
        "    (F.abs(F.col(\"seasonNumber\") - F.col(\"prev_season\")) > 2) |\n",
        "    (F.abs(F.col(\"seasonNumber\") - F.col(\"next_season\")) > 2)\n",
        ")\n",
        "\n",
        "# Select only seasonNumber column\n",
        "df_filtered.select(\"seasonNumber\").show()\n"
      ],
      "metadata": {
        "colab": {
          "base_uri": "https://localhost:8080/"
        },
        "id": "HY2uhsHHi249",
        "outputId": "628d5cf3-8c35-43f3-a84f-1568ac273f4c"
      },
      "execution_count": 28,
      "outputs": [
        {
          "output_type": "stream",
          "name": "stdout",
          "text": [
            "+------------+\n",
            "|seasonNumber|\n",
            "+------------+\n",
            "|         259|\n",
            "|         262|\n",
            "|         262|\n",
            "|         947|\n",
            "|        1965|\n",
            "+------------+\n",
            "\n"
          ]
        }
      ]
    },
    {
      "cell_type": "code",
      "source": [
        "from pyspark.sql.window import Window\n",
        "from pyspark.sql import functions as F\n",
        "\n",
        "\n",
        "window_spec = Window.orderBy(\"episodeNumber\")\n",
        "\n",
        "df_temp = df.withColumn(\"prev_episode\", F.lag(\"episodeNumber\").over(window_spec)) \\\n",
        "            .withColumn(\"next_episode\", F.lead(\"episodeNumber\").over(window_spec))\n",
        "\n",
        "df_filtered = df_temp.filter(\n",
        "    (F.abs(F.col(\"episodeNumber\") - F.col(\"prev_episode\")) > 2) |\n",
        "    (F.abs(F.col(\"episodeNumber\") - F.col(\"next_episode\")) > 2)\n",
        ")\n",
        "\n",
        "df_filtered.select(\"episodeNumber\").show()\n"
      ],
      "metadata": {
        "colab": {
          "base_uri": "https://localhost:8080/"
        },
        "id": "eOghVaJblFyB",
        "outputId": "f5f14ed6-6637-4539-b5bd-963c1d88a5d5"
      },
      "execution_count": 29,
      "outputs": [
        {
          "output_type": "stream",
          "name": "stdout",
          "text": [
            "+-------------+\n",
            "|episodeNumber|\n",
            "+-------------+\n",
            "|        15762|\n",
            "|        18000|\n",
            "|        18081|\n",
            "|        18402|\n",
            "|        19805|\n",
            "|        20008|\n",
            "|        20910|\n",
            "|        21907|\n",
            "|        25000|\n",
            "|        28422|\n",
            "|        40000|\n",
            "|        46002|\n",
            "|        48501|\n",
            "|        48505|\n",
            "|        72615|\n",
            "|        77305|\n",
            "|        79800|\n",
            "|        80207|\n",
            "|        91334|\n",
            "+-------------+\n",
            "\n"
          ]
        }
      ]
    },
    {
      "cell_type": "markdown",
      "source": [
        "# Clean df from inappropriate rows"
      ],
      "metadata": {
        "id": "uBTD7vAlYsG2"
      }
    },
    {
      "cell_type": "code",
      "source": [
        "df_condition_met = df.filter((F.col(\"seasonNumber\") > 259) | (F.col(\"episodeNumber\") > 15762))\n",
        "df_condition_met.count()"
      ],
      "metadata": {
        "colab": {
          "base_uri": "https://localhost:8080/"
        },
        "id": "__kv6oI2YV7K",
        "outputId": "b47ef875-e3f6-4a8b-dc99-6e8f48c77236"
      },
      "execution_count": 54,
      "outputs": [
        {
          "output_type": "execute_result",
          "data": {
            "text/plain": [
              "939"
            ]
          },
          "metadata": {},
          "execution_count": 54
        }
      ]
    },
    {
      "cell_type": "code",
      "source": [
        "df_cleaned = df.filter(~((F.col(\"seasonNumber\") > 259) | (F.col(\"episodeNumber\") > 15762)))"
      ],
      "metadata": {
        "id": "sS6cyL1mnjKx"
      },
      "execution_count": 55,
      "outputs": []
    },
    {
      "cell_type": "code",
      "source": [
        "stats_cleaned = data_stats(df_cleaned)\n",
        "stats_cleaned"
      ],
      "metadata": {
        "colab": {
          "base_uri": "https://localhost:8080/",
          "height": 174
        },
        "id": "M_c0vyfhY6PS",
        "outputId": "a325e478-d068-42a0-e2ba-98326d98551d"
      },
      "execution_count": 56,
      "outputs": [
        {
          "output_type": "execute_result",
          "data": {
            "text/plain": [
              "          Column  Null Values  Unique Values  Total Values  Null Percentage  \\\n",
              "0         tconst            0        7065138       7065138              0.0   \n",
              "1   parentTconst            0         194010       7065138              0.0   \n",
              "2   seasonNumber            0            259       7065138              0.0   \n",
              "3  episodeNumber            0          15763       7065138              0.0   \n",
              "\n",
              "       Data Type Example Value  \n",
              "0   StringType()     tt0041951  \n",
              "1   StringType()     tt0041038  \n",
              "2  IntegerType()             1  \n",
              "3  IntegerType()             9  "
            ],
            "text/html": [
              "\n",
              "  <div id=\"df-949ddc59-9a54-4c4e-9f00-8c75bafc929c\" class=\"colab-df-container\">\n",
              "    <div>\n",
              "<style scoped>\n",
              "    .dataframe tbody tr th:only-of-type {\n",
              "        vertical-align: middle;\n",
              "    }\n",
              "\n",
              "    .dataframe tbody tr th {\n",
              "        vertical-align: top;\n",
              "    }\n",
              "\n",
              "    .dataframe thead th {\n",
              "        text-align: right;\n",
              "    }\n",
              "</style>\n",
              "<table border=\"1\" class=\"dataframe\">\n",
              "  <thead>\n",
              "    <tr style=\"text-align: right;\">\n",
              "      <th></th>\n",
              "      <th>Column</th>\n",
              "      <th>Null Values</th>\n",
              "      <th>Unique Values</th>\n",
              "      <th>Total Values</th>\n",
              "      <th>Null Percentage</th>\n",
              "      <th>Data Type</th>\n",
              "      <th>Example Value</th>\n",
              "    </tr>\n",
              "  </thead>\n",
              "  <tbody>\n",
              "    <tr>\n",
              "      <th>0</th>\n",
              "      <td>tconst</td>\n",
              "      <td>0</td>\n",
              "      <td>7065138</td>\n",
              "      <td>7065138</td>\n",
              "      <td>0.0</td>\n",
              "      <td>StringType()</td>\n",
              "      <td>tt0041951</td>\n",
              "    </tr>\n",
              "    <tr>\n",
              "      <th>1</th>\n",
              "      <td>parentTconst</td>\n",
              "      <td>0</td>\n",
              "      <td>194010</td>\n",
              "      <td>7065138</td>\n",
              "      <td>0.0</td>\n",
              "      <td>StringType()</td>\n",
              "      <td>tt0041038</td>\n",
              "    </tr>\n",
              "    <tr>\n",
              "      <th>2</th>\n",
              "      <td>seasonNumber</td>\n",
              "      <td>0</td>\n",
              "      <td>259</td>\n",
              "      <td>7065138</td>\n",
              "      <td>0.0</td>\n",
              "      <td>IntegerType()</td>\n",
              "      <td>1</td>\n",
              "    </tr>\n",
              "    <tr>\n",
              "      <th>3</th>\n",
              "      <td>episodeNumber</td>\n",
              "      <td>0</td>\n",
              "      <td>15763</td>\n",
              "      <td>7065138</td>\n",
              "      <td>0.0</td>\n",
              "      <td>IntegerType()</td>\n",
              "      <td>9</td>\n",
              "    </tr>\n",
              "  </tbody>\n",
              "</table>\n",
              "</div>\n",
              "    <div class=\"colab-df-buttons\">\n",
              "\n",
              "  <div class=\"colab-df-container\">\n",
              "    <button class=\"colab-df-convert\" onclick=\"convertToInteractive('df-949ddc59-9a54-4c4e-9f00-8c75bafc929c')\"\n",
              "            title=\"Convert this dataframe to an interactive table.\"\n",
              "            style=\"display:none;\">\n",
              "\n",
              "  <svg xmlns=\"http://www.w3.org/2000/svg\" height=\"24px\" viewBox=\"0 -960 960 960\">\n",
              "    <path d=\"M120-120v-720h720v720H120Zm60-500h600v-160H180v160Zm220 220h160v-160H400v160Zm0 220h160v-160H400v160ZM180-400h160v-160H180v160Zm440 0h160v-160H620v160ZM180-180h160v-160H180v160Zm440 0h160v-160H620v160Z\"/>\n",
              "  </svg>\n",
              "    </button>\n",
              "\n",
              "  <style>\n",
              "    .colab-df-container {\n",
              "      display:flex;\n",
              "      gap: 12px;\n",
              "    }\n",
              "\n",
              "    .colab-df-convert {\n",
              "      background-color: #E8F0FE;\n",
              "      border: none;\n",
              "      border-radius: 50%;\n",
              "      cursor: pointer;\n",
              "      display: none;\n",
              "      fill: #1967D2;\n",
              "      height: 32px;\n",
              "      padding: 0 0 0 0;\n",
              "      width: 32px;\n",
              "    }\n",
              "\n",
              "    .colab-df-convert:hover {\n",
              "      background-color: #E2EBFA;\n",
              "      box-shadow: 0px 1px 2px rgba(60, 64, 67, 0.3), 0px 1px 3px 1px rgba(60, 64, 67, 0.15);\n",
              "      fill: #174EA6;\n",
              "    }\n",
              "\n",
              "    .colab-df-buttons div {\n",
              "      margin-bottom: 4px;\n",
              "    }\n",
              "\n",
              "    [theme=dark] .colab-df-convert {\n",
              "      background-color: #3B4455;\n",
              "      fill: #D2E3FC;\n",
              "    }\n",
              "\n",
              "    [theme=dark] .colab-df-convert:hover {\n",
              "      background-color: #434B5C;\n",
              "      box-shadow: 0px 1px 3px 1px rgba(0, 0, 0, 0.15);\n",
              "      filter: drop-shadow(0px 1px 2px rgba(0, 0, 0, 0.3));\n",
              "      fill: #FFFFFF;\n",
              "    }\n",
              "  </style>\n",
              "\n",
              "    <script>\n",
              "      const buttonEl =\n",
              "        document.querySelector('#df-949ddc59-9a54-4c4e-9f00-8c75bafc929c button.colab-df-convert');\n",
              "      buttonEl.style.display =\n",
              "        google.colab.kernel.accessAllowed ? 'block' : 'none';\n",
              "\n",
              "      async function convertToInteractive(key) {\n",
              "        const element = document.querySelector('#df-949ddc59-9a54-4c4e-9f00-8c75bafc929c');\n",
              "        const dataTable =\n",
              "          await google.colab.kernel.invokeFunction('convertToInteractive',\n",
              "                                                    [key], {});\n",
              "        if (!dataTable) return;\n",
              "\n",
              "        const docLinkHtml = 'Like what you see? Visit the ' +\n",
              "          '<a target=\"_blank\" href=https://colab.research.google.com/notebooks/data_table.ipynb>data table notebook</a>'\n",
              "          + ' to learn more about interactive tables.';\n",
              "        element.innerHTML = '';\n",
              "        dataTable['output_type'] = 'display_data';\n",
              "        await google.colab.output.renderOutput(dataTable, element);\n",
              "        const docLink = document.createElement('div');\n",
              "        docLink.innerHTML = docLinkHtml;\n",
              "        element.appendChild(docLink);\n",
              "      }\n",
              "    </script>\n",
              "  </div>\n",
              "\n",
              "\n",
              "<div id=\"df-f793a80e-f9ac-4d9a-af5e-f7d9b30fe8dc\">\n",
              "  <button class=\"colab-df-quickchart\" onclick=\"quickchart('df-f793a80e-f9ac-4d9a-af5e-f7d9b30fe8dc')\"\n",
              "            title=\"Suggest charts\"\n",
              "            style=\"display:none;\">\n",
              "\n",
              "<svg xmlns=\"http://www.w3.org/2000/svg\" height=\"24px\"viewBox=\"0 0 24 24\"\n",
              "     width=\"24px\">\n",
              "    <g>\n",
              "        <path d=\"M19 3H5c-1.1 0-2 .9-2 2v14c0 1.1.9 2 2 2h14c1.1 0 2-.9 2-2V5c0-1.1-.9-2-2-2zM9 17H7v-7h2v7zm4 0h-2V7h2v10zm4 0h-2v-4h2v4z\"/>\n",
              "    </g>\n",
              "</svg>\n",
              "  </button>\n",
              "\n",
              "<style>\n",
              "  .colab-df-quickchart {\n",
              "      --bg-color: #E8F0FE;\n",
              "      --fill-color: #1967D2;\n",
              "      --hover-bg-color: #E2EBFA;\n",
              "      --hover-fill-color: #174EA6;\n",
              "      --disabled-fill-color: #AAA;\n",
              "      --disabled-bg-color: #DDD;\n",
              "  }\n",
              "\n",
              "  [theme=dark] .colab-df-quickchart {\n",
              "      --bg-color: #3B4455;\n",
              "      --fill-color: #D2E3FC;\n",
              "      --hover-bg-color: #434B5C;\n",
              "      --hover-fill-color: #FFFFFF;\n",
              "      --disabled-bg-color: #3B4455;\n",
              "      --disabled-fill-color: #666;\n",
              "  }\n",
              "\n",
              "  .colab-df-quickchart {\n",
              "    background-color: var(--bg-color);\n",
              "    border: none;\n",
              "    border-radius: 50%;\n",
              "    cursor: pointer;\n",
              "    display: none;\n",
              "    fill: var(--fill-color);\n",
              "    height: 32px;\n",
              "    padding: 0;\n",
              "    width: 32px;\n",
              "  }\n",
              "\n",
              "  .colab-df-quickchart:hover {\n",
              "    background-color: var(--hover-bg-color);\n",
              "    box-shadow: 0 1px 2px rgba(60, 64, 67, 0.3), 0 1px 3px 1px rgba(60, 64, 67, 0.15);\n",
              "    fill: var(--button-hover-fill-color);\n",
              "  }\n",
              "\n",
              "  .colab-df-quickchart-complete:disabled,\n",
              "  .colab-df-quickchart-complete:disabled:hover {\n",
              "    background-color: var(--disabled-bg-color);\n",
              "    fill: var(--disabled-fill-color);\n",
              "    box-shadow: none;\n",
              "  }\n",
              "\n",
              "  .colab-df-spinner {\n",
              "    border: 2px solid var(--fill-color);\n",
              "    border-color: transparent;\n",
              "    border-bottom-color: var(--fill-color);\n",
              "    animation:\n",
              "      spin 1s steps(1) infinite;\n",
              "  }\n",
              "\n",
              "  @keyframes spin {\n",
              "    0% {\n",
              "      border-color: transparent;\n",
              "      border-bottom-color: var(--fill-color);\n",
              "      border-left-color: var(--fill-color);\n",
              "    }\n",
              "    20% {\n",
              "      border-color: transparent;\n",
              "      border-left-color: var(--fill-color);\n",
              "      border-top-color: var(--fill-color);\n",
              "    }\n",
              "    30% {\n",
              "      border-color: transparent;\n",
              "      border-left-color: var(--fill-color);\n",
              "      border-top-color: var(--fill-color);\n",
              "      border-right-color: var(--fill-color);\n",
              "    }\n",
              "    40% {\n",
              "      border-color: transparent;\n",
              "      border-right-color: var(--fill-color);\n",
              "      border-top-color: var(--fill-color);\n",
              "    }\n",
              "    60% {\n",
              "      border-color: transparent;\n",
              "      border-right-color: var(--fill-color);\n",
              "    }\n",
              "    80% {\n",
              "      border-color: transparent;\n",
              "      border-right-color: var(--fill-color);\n",
              "      border-bottom-color: var(--fill-color);\n",
              "    }\n",
              "    90% {\n",
              "      border-color: transparent;\n",
              "      border-bottom-color: var(--fill-color);\n",
              "    }\n",
              "  }\n",
              "</style>\n",
              "\n",
              "  <script>\n",
              "    async function quickchart(key) {\n",
              "      const quickchartButtonEl =\n",
              "        document.querySelector('#' + key + ' button');\n",
              "      quickchartButtonEl.disabled = true;  // To prevent multiple clicks.\n",
              "      quickchartButtonEl.classList.add('colab-df-spinner');\n",
              "      try {\n",
              "        const charts = await google.colab.kernel.invokeFunction(\n",
              "            'suggestCharts', [key], {});\n",
              "      } catch (error) {\n",
              "        console.error('Error during call to suggestCharts:', error);\n",
              "      }\n",
              "      quickchartButtonEl.classList.remove('colab-df-spinner');\n",
              "      quickchartButtonEl.classList.add('colab-df-quickchart-complete');\n",
              "    }\n",
              "    (() => {\n",
              "      let quickchartButtonEl =\n",
              "        document.querySelector('#df-f793a80e-f9ac-4d9a-af5e-f7d9b30fe8dc button');\n",
              "      quickchartButtonEl.style.display =\n",
              "        google.colab.kernel.accessAllowed ? 'block' : 'none';\n",
              "    })();\n",
              "  </script>\n",
              "</div>\n",
              "    </div>\n",
              "  </div>\n"
            ],
            "application/vnd.google.colaboratory.intrinsic+json": {
              "type": "dataframe",
              "variable_name": "stats_cleaned",
              "summary": "{\n  \"name\": \"stats_cleaned\",\n  \"rows\": 4,\n  \"fields\": [\n    {\n      \"column\": \"Column\",\n      \"properties\": {\n        \"dtype\": \"string\",\n        \"num_unique_values\": 4,\n        \"samples\": [\n          \"parentTconst\",\n          \"episodeNumber\",\n          \"tconst\"\n        ],\n        \"semantic_type\": \"\",\n        \"description\": \"\"\n      }\n    },\n    {\n      \"column\": \"Null Values\",\n      \"properties\": {\n        \"dtype\": \"number\",\n        \"std\": 0,\n        \"min\": 0,\n        \"max\": 0,\n        \"num_unique_values\": 1,\n        \"samples\": [\n          0\n        ],\n        \"semantic_type\": \"\",\n        \"description\": \"\"\n      }\n    },\n    {\n      \"column\": \"Unique Values\",\n      \"properties\": {\n        \"dtype\": \"number\",\n        \"std\": 3498668,\n        \"min\": 259,\n        \"max\": 7065138,\n        \"num_unique_values\": 4,\n        \"samples\": [\n          194010\n        ],\n        \"semantic_type\": \"\",\n        \"description\": \"\"\n      }\n    },\n    {\n      \"column\": \"Total Values\",\n      \"properties\": {\n        \"dtype\": \"number\",\n        \"std\": 0,\n        \"min\": 7065138,\n        \"max\": 7065138,\n        \"num_unique_values\": 1,\n        \"samples\": [\n          7065138\n        ],\n        \"semantic_type\": \"\",\n        \"description\": \"\"\n      }\n    },\n    {\n      \"column\": \"Null Percentage\",\n      \"properties\": {\n        \"dtype\": \"number\",\n        \"std\": 0.0,\n        \"min\": 0.0,\n        \"max\": 0.0,\n        \"num_unique_values\": 1,\n        \"samples\": [\n          0.0\n        ],\n        \"semantic_type\": \"\",\n        \"description\": \"\"\n      }\n    },\n    {\n      \"column\": \"Data Type\",\n      \"properties\": {\n        \"dtype\": \"string\",\n        \"num_unique_values\": 2,\n        \"samples\": [\n          \"IntegerType()\"\n        ],\n        \"semantic_type\": \"\",\n        \"description\": \"\"\n      }\n    },\n    {\n      \"column\": \"Example Value\",\n      \"properties\": {\n        \"dtype\": \"string\",\n        \"num_unique_values\": 4,\n        \"samples\": [\n          \"tt0041038\"\n        ],\n        \"semantic_type\": \"\",\n        \"description\": \"\"\n      }\n    }\n  ]\n}"
            }
          },
          "metadata": {},
          "execution_count": 56
        }
      ]
    },
    {
      "cell_type": "markdown",
      "source": [
        "# statistical analysis of numeric  columns."
      ],
      "metadata": {
        "id": "TGwfFZdQqZsl"
      }
    },
    {
      "cell_type": "code",
      "source": [
        "# Get basic statistics for seasonNumber and episodeNumber\n",
        "df_cleaned.select(\"seasonNumber\", \"episodeNumber\").describe().show()"
      ],
      "metadata": {
        "id": "q_8DK2rN7o2j",
        "colab": {
          "base_uri": "https://localhost:8080/"
        },
        "outputId": "908e4965-1b43-4c8a-bb6f-07811eb3416c"
      },
      "execution_count": 57,
      "outputs": [
        {
          "output_type": "stream",
          "name": "stdout",
          "text": [
            "+-------+------------------+------------------+\n",
            "|summary|      seasonNumber|     episodeNumber|\n",
            "+-------+------------------+------------------+\n",
            "|  count|           7065138|           7065138|\n",
            "|   mean|3.5584016901014532| 420.3656602319728|\n",
            "| stddev| 7.506115762738099|1329.0953540007997|\n",
            "|    min|                 1|                 0|\n",
            "|    max|               259|             15762|\n",
            "+-------+------------------+------------------+\n",
            "\n"
          ]
        }
      ]
    },
    {
      "cell_type": "code",
      "source": [
        "import matplotlib.pyplot as plt\n",
        "\n",
        "season_data = df_cleaned.select(\"seasonNumber\").toPandas()\n",
        "episode_data = df_cleaned.select(\"episodeNumber\").toPandas()\n",
        "\n",
        "plt.figure(figsize=(12, 6))\n",
        "\n",
        "# Plotting seasonNumber\n",
        "plt.subplot(1, 2, 1)\n",
        "plt.hist(season_data[\"seasonNumber\"], bins=50, color='blue', alpha=0.7)\n",
        "plt.title(\"Season Number Distribution\")\n",
        "plt.xlabel(\"Season Number\")\n",
        "plt.ylabel(\"Frequency\")\n",
        "\n",
        "# Plotting episodeNumber\n",
        "plt.subplot(1, 2, 2)\n",
        "plt.hist(episode_data[\"episodeNumber\"], bins=50, color='green', alpha=0.7)\n",
        "plt.title(\"Episode Number Distribution\")\n",
        "plt.xlabel(\"Episode Number\")\n",
        "plt.ylabel(\"Frequency\")\n",
        "\n",
        "plt.tight_layout()\n",
        "plt.show()\n"
      ],
      "metadata": {
        "colab": {
          "base_uri": "https://localhost:8080/",
          "height": 530
        },
        "id": "SOCEiuKVqfM1",
        "outputId": "2ea2e4ba-cb4f-4358-e2db-72f53c624a98"
      },
      "execution_count": 58,
      "outputs": [
        {
          "output_type": "display_data",
          "data": {
            "text/plain": [
              "<Figure size 1200x600 with 2 Axes>"
            ],
            "image/png": "[encoded data removed]"
          },
          "metadata": {}
        }
      ]
    },
    {
      "cell_type": "code",
      "source": [
        "df_cleaned.coalesce(1).write \\\n",
        "    .option(\"delimiter\", \"\\t\") \\\n",
        "    .option(\"header\", \"true\") \\\n",
        "    .csv(\"title.episode_cleaned.tsv\")"
      ],
      "metadata": {
        "id": "UN-HwBKQtyMF"
      },
      "execution_count": 63,
      "outputs": []
    },
    {
      "cell_type": "code",
      "source": [
        "testttttt = spark.read.csv(\"/content/title.episode_cleaned.tsv\", sep=\"\\t\", header=True, inferSchema=True)\n",
        "testttttt.show()\n"
      ],
      "metadata": {
        "colab": {
          "base_uri": "https://localhost:8080/"
        },
        "id": "36x83nYbvuSv",
        "outputId": "c5a9b5bd-985b-4b27-f13f-a2ca194cb6c1"
      },
      "execution_count": 64,
      "outputs": [
        {
          "output_type": "stream",
          "name": "stdout",
          "text": [
            "+---------+------------+------------+-------------+\n",
            "|   tconst|parentTconst|seasonNumber|episodeNumber|\n",
            "+---------+------------+------------+-------------+\n",
            "|tt0041951|   tt0041038|           1|            9|\n",
            "|tt0042816|   tt0989125|           1|           17|\n",
            "|tt0043426|   tt0040051|           3|           42|\n",
            "|tt0043631|   tt0989125|           2|           16|\n",
            "|tt0043693|   tt0989125|           2|            8|\n",
            "|tt0043710|   tt0989125|           3|            3|\n",
            "|tt0044093|   tt0959862|           1|            6|\n",
            "|tt0044668|   tt0044243|           2|           16|\n",
            "|tt0044901|   tt0989125|           3|           46|\n",
            "|tt0045519|   tt0989125|           4|           11|\n",
            "|tt0045960|   tt0044284|           2|            3|\n",
            "|tt0046135|   tt0989125|           4|            5|\n",
            "|tt0046855|   tt0046643|           1|            4|\n",
            "|tt0046864|   tt0989125|           5|           20|\n",
            "|tt0047810|   tt0914702|           3|           36|\n",
            "|tt0047852|   tt0047745|           1|           15|\n",
            "|tt0047858|   tt0046637|           2|            9|\n",
            "|tt0047961|   tt0989125|           6|            5|\n",
            "|tt0048067|   tt0046587|           2|           20|\n",
            "|tt0048302|   tt0047768|           1|            6|\n",
            "+---------+------------+------------+-------------+\n",
            "only showing top 20 rows\n",
            "\n"
          ]
        }
      ]
    },
    {
      "cell_type": "code",
      "source": [],
      "metadata": {
        "id": "Xm2dhx8xwNFi"
      },
      "execution_count": null,
      "outputs": []
    }
  ]
}