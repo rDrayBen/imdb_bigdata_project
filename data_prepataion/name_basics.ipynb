{
 "cells": [
  {
   "cell_type": "code",
   "execution_count": 36,
   "id": "d09cb5f8-48f2-44ef-8568-c70f0fe87527",
   "metadata": {},
   "outputs": [],
   "source": [
    "from pyspark.sql import SparkSession\n",
    "from pyspark.sql.functions import col, count, countDistinct, isnan, when, split, size\n",
    "from pyspark.sql.types import IntegerType, StringType\n",
    "from pyspark.sql.functions import desc"
   ]
  },
  {
   "cell_type": "code",
   "execution_count": 2,
   "id": "4df40ce0-de27-4116-a73c-900ed4db2f84",
   "metadata": {},
   "outputs": [
    {
     "name": "stderr",
     "output_type": "stream",
     "text": [
      "Using Spark's default log4j profile: org/apache/spark/log4j-defaults.properties\n",
      "Setting default log level to \"WARN\".\n",
      "To adjust logging level use sc.setLogLevel(newLevel). For SparkR, use setLogLevel(newLevel).\n",
      "25/03/19 19:01:34 WARN NativeCodeLoader: Unable to load native-hadoop library for your platform... using builtin-java classes where applicable\n"
     ]
    }
   ],
   "source": [
    "spark = SparkSession.builder.getOrCreate()"
   ]
  },
  {
   "cell_type": "code",
   "execution_count": 3,
   "id": "a7b129c5-c4d1-4d12-a5ff-f7baa91608c3",
   "metadata": {},
   "outputs": [
    {
     "name": "stderr",
     "output_type": "stream",
     "text": [
      "[Stage 1:=======================================>                 (11 + 5) / 16]"
     ]
    },
    {
     "name": "stdout",
     "output_type": "stream",
     "text": [
      "+---------+-------------------+---------+---------+--------------------+--------------------+\n",
      "|   nconst|        primaryName|birthYear|deathYear|   primaryProfession|      knownForTitles|\n",
      "+---------+-------------------+---------+---------+--------------------+--------------------+\n",
      "|nm0000001|       Fred Astaire|     1899|     1987|actor,miscellaneo...|tt0072308,tt00504...|\n",
      "|nm0000002|      Lauren Bacall|     1924|     2014|actress,soundtrac...|tt0037382,tt00752...|\n",
      "|nm0000003|    Brigitte Bardot|     1934|       \\N|actress,music_dep...|tt0057345,tt00491...|\n",
      "|nm0000004|       John Belushi|     1949|     1982|actor,writer,musi...|tt0072562,tt00779...|\n",
      "|nm0000005|     Ingmar Bergman|     1918|     2007|writer,director,a...|tt0050986,tt00694...|\n",
      "|nm0000006|     Ingrid Bergman|     1915|     1982|actress,producer,...|tt0034583,tt00381...|\n",
      "|nm0000007|    Humphrey Bogart|     1899|     1957|actor,producer,mi...|tt0034583,tt00432...|\n",
      "|nm0000008|      Marlon Brando|     1924|     2004|actor,director,wr...|tt0078788,tt00686...|\n",
      "|nm0000009|     Richard Burton|     1925|     1984|actor,producer,di...|tt0061184,tt00878...|\n",
      "|nm0000010|       James Cagney|     1899|     1986|actor,director,pr...|tt0029870,tt00318...|\n",
      "|nm0000011|        Gary Cooper|     1901|     1961|actor,stunts,prod...|tt0044706,tt00341...|\n",
      "|nm0000012|        Bette Davis|     1908|     1989|actress,make_up_d...|tt0042192,tt00566...|\n",
      "|nm0000013|          Doris Day|     1922|     2019|actress,producer,...|tt0048317,tt00455...|\n",
      "|nm0000014|Olivia de Havilland|     1916|     2020|actress,soundtrac...|tt0031381,tt00414...|\n",
      "|nm0000015|         James Dean|     1931|     1955|actor,miscellaneo...|tt0048028,tt00485...|\n",
      "|nm0000016|    Georges Delerue|     1925|     1992|composer,music_de...|tt0091763,tt00963...|\n",
      "|nm0000017|   Marlene Dietrich|     1901|     1992|actress,music_dep...|tt0051201,tt00211...|\n",
      "|nm0000018|       Kirk Douglas|     1916|     2020|actor,producer,di...|tt0043338,tt00807...|\n",
      "|nm0000019|   Federico Fellini|     1920|     1993|writer,director,a...|tt0056801,tt00507...|\n",
      "|nm0000020|        Henry Fonda|     1905|     1982|actor,producer,mi...|tt0050083,tt00828...|\n",
      "+---------+-------------------+---------+---------+--------------------+--------------------+\n",
      "only showing top 20 rows\n",
      "\n"
     ]
    },
    {
     "name": "stderr",
     "output_type": "stream",
     "text": [
      "                                                                                "
     ]
    }
   ],
   "source": [
    "df = spark.read.csv(\"../name.basics.tsv\", sep=\"\\t\", header=True, inferSchema=True)\n",
    "df.show()"
   ]
  },
  {
   "cell_type": "code",
   "execution_count": 33,
   "id": "a179bbe1-6b7e-4c91-93a1-3e86541fbf66",
   "metadata": {},
   "outputs": [
    {
     "name": "stderr",
     "output_type": "stream",
     "text": [
      "                                                                                "
     ]
    },
    {
     "data": {
      "text/plain": [
       "DataFrame[summary: string, nconst: string, primaryName: string, primaryProfession: string, knownForTitles: string]"
      ]
     },
     "execution_count": 33,
     "metadata": {},
     "output_type": "execute_result"
    }
   ],
   "source": [
    "df.describe()"
   ]
  },
  {
   "cell_type": "code",
   "execution_count": 25,
   "id": "de098969-2846-4f12-b1a7-cdd609c6c50d",
   "metadata": {},
   "outputs": [
    {
     "name": "stderr",
     "output_type": "stream",
     "text": [
      "                                                                                "
     ]
    },
    {
     "data": {
      "text/plain": [
       "14267475"
      ]
     },
     "execution_count": 25,
     "metadata": {},
     "output_type": "execute_result"
    }
   ],
   "source": [
    "df.count()"
   ]
  },
  {
   "cell_type": "code",
   "execution_count": 4,
   "id": "e68c6cbe-0259-4fbe-a089-9162efcf03f7",
   "metadata": {},
   "outputs": [
    {
     "name": "stdout",
     "output_type": "stream",
     "text": [
      "NaN Counts per Column:\n"
     ]
    },
    {
     "name": "stderr",
     "output_type": "stream",
     "text": [
      "[Stage 3:=====================================================>   (15 + 1) / 16]"
     ]
    },
    {
     "name": "stdout",
     "output_type": "stream",
     "text": [
      "+------+-----------+---------+---------+-----------------+--------------+\n",
      "|nconst|primaryName|birthYear|deathYear|primaryProfession|knownForTitles|\n",
      "+------+-----------+---------+---------+-----------------+--------------+\n",
      "|     0|         63| 13626211| 14026006|          2795186|       1629078|\n",
      "+------+-----------+---------+---------+-----------------+--------------+\n",
      "\n"
     ]
    },
    {
     "name": "stderr",
     "output_type": "stream",
     "text": [
      "                                                                                "
     ]
    }
   ],
   "source": [
    "df = df.replace(\"\\\\N\", None)\n",
    "nan_counts = df.select([count(when(col(c).isNull() | isnan(col(c)), c)).alias(c) for c in df.columns])\n",
    "print(\"NaN Counts per Column:\")\n",
    "nan_counts.show()"
   ]
  },
  {
   "cell_type": "code",
   "execution_count": 26,
   "id": "c2eb41f8-e3ed-4aa2-8e18-28af1e67300d",
   "metadata": {
    "scrolled": true
   },
   "outputs": [
    {
     "name": "stderr",
     "output_type": "stream",
     "text": [
      "[Stage 29:>                                                       (0 + 11) / 11]"
     ]
    },
    {
     "name": "stdout",
     "output_type": "stream",
     "text": [
      "+----------+-----------+---------+---------+-----------------+--------------+\n",
      "|nconst    |primaryName|birthYear|deathYear|primaryProfession|knownForTitles|\n",
      "+----------+-----------+---------+---------+-----------------+--------------+\n",
      "|nm10019610|null       |null     |null     |null             |null          |\n",
      "|nm10040984|null       |null     |null     |null             |null          |\n",
      "|nm10405838|null       |null     |null     |null             |null          |\n",
      "|nm10730114|null       |null     |null     |null             |null          |\n",
      "|nm10747123|null       |null     |null     |null             |null          |\n",
      "|nm12177858|null       |null     |null     |null             |null          |\n",
      "|nm12294468|null       |null     |null     |null             |null          |\n",
      "|nm12364432|null       |null     |null     |null             |null          |\n",
      "|nm12427523|null       |null     |null     |null             |null          |\n",
      "|nm12428300|null       |null     |null     |null             |null          |\n",
      "|nm12433723|null       |null     |null     |null             |null          |\n",
      "|nm12478256|null       |null     |null     |null             |null          |\n",
      "|nm12481257|null       |null     |null     |null             |null          |\n",
      "|nm12641157|null       |null     |null     |null             |null          |\n",
      "|nm12761182|null       |null     |null     |null             |null          |\n",
      "|nm12910234|null       |null     |null     |null             |null          |\n",
      "|nm13220364|null       |null     |null     |null             |null          |\n",
      "|nm13295246|null       |null     |null     |null             |null          |\n",
      "|nm13330335|null       |null     |null     |null             |null          |\n",
      "|nm13607814|null       |null     |null     |null             |null          |\n",
      "|nm13880622|null       |null     |null     |null             |null          |\n",
      "|nm14074784|null       |null     |null     |null             |null          |\n",
      "|nm14075045|null       |null     |null     |null             |null          |\n",
      "|nm14138205|null       |null     |null     |null             |null          |\n",
      "|nm14350898|null       |null     |null     |null             |null          |\n",
      "|nm14427629|null       |null     |null     |null             |null          |\n",
      "|nm14430933|null       |null     |null     |null             |null          |\n",
      "|nm14535494|null       |null     |null     |null             |null          |\n",
      "|nm14738702|null       |null     |null     |null             |null          |\n",
      "|nm14829384|null       |null     |null     |null             |null          |\n",
      "|nm14936186|null       |null     |null     |null             |null          |\n",
      "|nm15100546|null       |null     |null     |null             |null          |\n",
      "|nm15116716|null       |null     |null     |null             |null          |\n",
      "|nm15153570|null       |null     |null     |null             |null          |\n",
      "|nm15245498|null       |null     |null     |null             |null          |\n",
      "|nm15278415|null       |null     |null     |null             |null          |\n",
      "|nm15367808|null       |null     |null     |null             |null          |\n",
      "|nm15383502|null       |null     |null     |null             |null          |\n",
      "|nm15416513|null       |null     |null     |null             |null          |\n",
      "|nm15837028|null       |null     |null     |null             |null          |\n",
      "|nm16273519|null       |null     |null     |null             |null          |\n",
      "|nm2505107 |null       |null     |null     |null             |null          |\n",
      "|nm6961017 |null       |null     |null     |null             |null          |\n",
      "|nm7331406 |null       |null     |null     |null             |null          |\n",
      "|nm8394043 |null       |null     |null     |null             |null          |\n",
      "|nm8824183 |null       |null     |null     |null             |null          |\n",
      "|nm8971975 |null       |null     |null     |null             |null          |\n",
      "|nm9282666 |null       |null     |null     |null             |null          |\n",
      "|nm9912361 |null       |null     |null     |null             |null          |\n",
      "|nm9912913 |null       |null     |null     |null             |null          |\n",
      "|nm9922243 |null       |null     |null     |null             |null          |\n",
      "+----------+-----------+---------+---------+-----------------+--------------+\n",
      "\n"
     ]
    },
    {
     "name": "stderr",
     "output_type": "stream",
     "text": [
      "                                                                                "
     ]
    }
   ],
   "source": [
    "missing_primary_name = df.filter(col(\"primaryName\").isNull())\n",
    "missing_primary_name.show(n=df.count(), truncate=False)"
   ]
  },
  {
   "cell_type": "code",
   "execution_count": 29,
   "id": "d852301e-9738-4b47-bba3-dbbe634c80fe",
   "metadata": {},
   "outputs": [],
   "source": [
    "df = df.dropna(subset=[\"primaryName\"])\n",
    "df = df.drop(\"birthYear\", \"deathYear\")"
   ]
  },
  {
   "cell_type": "code",
   "execution_count": 30,
   "id": "308bcbb9-620e-4981-8416-d4c4fa7eef68",
   "metadata": {},
   "outputs": [
    {
     "name": "stderr",
     "output_type": "stream",
     "text": [
      "                                                                                "
     ]
    },
    {
     "data": {
      "text/plain": [
       "14267424"
      ]
     },
     "execution_count": 30,
     "metadata": {},
     "output_type": "execute_result"
    }
   ],
   "source": [
    "df.count()"
   ]
  },
  {
   "cell_type": "code",
   "execution_count": 31,
   "id": "15d9237a-618d-4ed0-9f55-838a158fceb1",
   "metadata": {},
   "outputs": [
    {
     "name": "stdout",
     "output_type": "stream",
     "text": [
      "+---------+-------------------+--------------------+--------------------+\n",
      "|   nconst|        primaryName|   primaryProfession|      knownForTitles|\n",
      "+---------+-------------------+--------------------+--------------------+\n",
      "|nm0000001|       Fred Astaire|actor,miscellaneo...|tt0072308,tt00504...|\n",
      "|nm0000002|      Lauren Bacall|actress,soundtrac...|tt0037382,tt00752...|\n",
      "|nm0000003|    Brigitte Bardot|actress,music_dep...|tt0057345,tt00491...|\n",
      "|nm0000004|       John Belushi|actor,writer,musi...|tt0072562,tt00779...|\n",
      "|nm0000005|     Ingmar Bergman|writer,director,a...|tt0050986,tt00694...|\n",
      "|nm0000006|     Ingrid Bergman|actress,producer,...|tt0034583,tt00381...|\n",
      "|nm0000007|    Humphrey Bogart|actor,producer,mi...|tt0034583,tt00432...|\n",
      "|nm0000008|      Marlon Brando|actor,director,wr...|tt0078788,tt00686...|\n",
      "|nm0000009|     Richard Burton|actor,producer,di...|tt0061184,tt00878...|\n",
      "|nm0000010|       James Cagney|actor,director,pr...|tt0029870,tt00318...|\n",
      "|nm0000011|        Gary Cooper|actor,stunts,prod...|tt0044706,tt00341...|\n",
      "|nm0000012|        Bette Davis|actress,make_up_d...|tt0042192,tt00566...|\n",
      "|nm0000013|          Doris Day|actress,producer,...|tt0048317,tt00455...|\n",
      "|nm0000014|Olivia de Havilland|actress,soundtrac...|tt0031381,tt00414...|\n",
      "|nm0000015|         James Dean|actor,miscellaneo...|tt0048028,tt00485...|\n",
      "|nm0000016|    Georges Delerue|composer,music_de...|tt0091763,tt00963...|\n",
      "|nm0000017|   Marlene Dietrich|actress,music_dep...|tt0051201,tt00211...|\n",
      "|nm0000018|       Kirk Douglas|actor,producer,di...|tt0043338,tt00807...|\n",
      "|nm0000019|   Federico Fellini|writer,director,a...|tt0056801,tt00507...|\n",
      "|nm0000020|        Henry Fonda|actor,producer,mi...|tt0050083,tt00828...|\n",
      "+---------+-------------------+--------------------+--------------------+\n",
      "only showing top 20 rows\n",
      "\n"
     ]
    }
   ],
   "source": [
    "df.show()"
   ]
  },
  {
   "cell_type": "code",
   "execution_count": 43,
   "id": "5e09af55-0fa5-469c-bbf9-71d863bf8d58",
   "metadata": {},
   "outputs": [],
   "source": [
    "df_split_proffesion = df.withColumn(\"profession_count\", size(split(col(\"primaryProfession\"), \",\")))\n",
    "df_single_profession = df_split_proffesion.filter(col(\"profession_count\") == 1).drop(\"profession_count\")"
   ]
  },
  {
   "cell_type": "code",
   "execution_count": 40,
   "id": "eea0e564-ba2c-4afd-827c-573141e32b48",
   "metadata": {},
   "outputs": [
    {
     "name": "stdout",
     "output_type": "stream",
     "text": [
      "+---------+-------------------+--------------------+--------------------+----------------+\n",
      "|   nconst|        primaryName|   primaryProfession|      knownForTitles|profession_count|\n",
      "+---------+-------------------+--------------------+--------------------+----------------+\n",
      "|nm0000001|       Fred Astaire|actor,miscellaneo...|tt0072308,tt00504...|               3|\n",
      "|nm0000002|      Lauren Bacall|actress,soundtrac...|tt0037382,tt00752...|               3|\n",
      "|nm0000003|    Brigitte Bardot|actress,music_dep...|tt0057345,tt00491...|               3|\n",
      "|nm0000004|       John Belushi|actor,writer,musi...|tt0072562,tt00779...|               3|\n",
      "|nm0000005|     Ingmar Bergman|writer,director,a...|tt0050986,tt00694...|               3|\n",
      "|nm0000006|     Ingrid Bergman|actress,producer,...|tt0034583,tt00381...|               3|\n",
      "|nm0000007|    Humphrey Bogart|actor,producer,mi...|tt0034583,tt00432...|               3|\n",
      "|nm0000008|      Marlon Brando|actor,director,wr...|tt0078788,tt00686...|               3|\n",
      "|nm0000009|     Richard Burton|actor,producer,di...|tt0061184,tt00878...|               3|\n",
      "|nm0000010|       James Cagney|actor,director,pr...|tt0029870,tt00318...|               3|\n",
      "|nm0000011|        Gary Cooper|actor,stunts,prod...|tt0044706,tt00341...|               3|\n",
      "|nm0000012|        Bette Davis|actress,make_up_d...|tt0042192,tt00566...|               3|\n",
      "|nm0000013|          Doris Day|actress,producer,...|tt0048317,tt00455...|               3|\n",
      "|nm0000014|Olivia de Havilland|actress,soundtrac...|tt0031381,tt00414...|               3|\n",
      "|nm0000015|         James Dean|actor,miscellaneo...|tt0048028,tt00485...|               3|\n",
      "|nm0000016|    Georges Delerue|composer,music_de...|tt0091763,tt00963...|               3|\n",
      "|nm0000017|   Marlene Dietrich|actress,music_dep...|tt0051201,tt00211...|               3|\n",
      "|nm0000018|       Kirk Douglas|actor,producer,di...|tt0043338,tt00807...|               3|\n",
      "|nm0000019|   Federico Fellini|writer,director,a...|tt0056801,tt00507...|               3|\n",
      "|nm0000020|        Henry Fonda|actor,producer,mi...|tt0050083,tt00828...|               3|\n",
      "+---------+-------------------+--------------------+--------------------+----------------+\n",
      "only showing top 20 rows\n",
      "\n"
     ]
    }
   ],
   "source": [
    "df_split_proffesion.show()"
   ]
  },
  {
   "cell_type": "code",
   "execution_count": 44,
   "id": "a1ec44d7-1c71-4720-8683-d92933673579",
   "metadata": {},
   "outputs": [
    {
     "name": "stdout",
     "output_type": "stream",
     "text": [
      "+---------+-------------------+--------------------+--------------------+\n",
      "|   nconst|        primaryName|   primaryProfession|      knownForTitles|\n",
      "+---------+-------------------+--------------------+--------------------+\n",
      "|nm0000089|       Richard Paul|    actor,soundtrack|tt0117318,tt00754...|\n",
      "|nm0000109|     Yasmine Bleeth|actress,archive_f...|tt0131857,tt03378...|\n",
      "|nm0000143|      Erika Eleniak|actress,archive_f...|tt0105690,tt00838...|\n",
      "|nm0000253|       Robert Ellis|art_director,misc...|tt0010965,tt00140...|\n",
      "|nm0000282|     Scott Bairstow|actor,archive_foo...|tt0119925,tt02830...|\n",
      "|nm0000283|       Brenda Bakke|actress,archive_f...|tt0119488,tt01071...|\n",
      "|nm0000314|    Charles Bronson|actor,archive_foo...|tt0071402,tt00641...|\n",
      "|nm0000315|      Louise Brooks|actress,archive_f...|tt0018737,tt00173...|\n",
      "|nm0000319|       Yancy Butler|    actress,producer|tt1650554,tt01070...|\n",
      "|nm0000357|  Lolita Davidovich|actress,archive_f...|tt0329717,tt00969...|\n",
      "|nm0000383|      Jennifer Ehle|actress,archive_f...|tt1790885,tt23928...|\n",
      "|nm0000423|      Serena Grandi|actress,archive_f...|tt2358891,tt00895...|\n",
      "|nm0000444|      Glenne Headly|actress,archive_f...|tt0095031,tt22294...|\n",
      "|nm0000477|       Mia Kirshner|actress,archive_f...|tt0277371,tt03878...|\n",
      "|nm0000494|Robert Sean Leonard|    actor,soundtrack|tt0097165,tt04121...|\n",
      "|nm0000503|        Emily Lloyd|actress,archive_f...|tt0094331,tt01052...|\n",
      "|nm0000504|         Amy Locane|  actress,soundtrack|tt0099329,tt01053...|\n",
      "|nm0000508|       Carey Lowell|actress,archive_f...|tt0097742,tt01081...|\n",
      "|nm0000522|     Vanessa Marcil|actress,archive_f...|tt0117500,tt00567...|\n",
      "|nm0000565|          Lena Olin|actress,archive_f...|tt0096332,tt02853...|\n",
      "+---------+-------------------+--------------------+--------------------+\n",
      "only showing top 20 rows\n",
      "\n"
     ]
    }
   ],
   "source": [
    "df_single_profession.show()"
   ]
  },
  {
   "cell_type": "code",
   "execution_count": 45,
   "id": "d3172244-e861-4c72-8230-ddde03ae3ed7",
   "metadata": {},
   "outputs": [
    {
     "name": "stdout",
     "output_type": "stream",
     "text": [
      "+---------+--------------------+--------------------+--------------+\n",
      "|   nconst|         primaryName|   primaryProfession|knownForTitles|\n",
      "+---------+--------------------+--------------------+--------------+\n",
      "|nm0003936|Eivind Fredagsvik...|                null|          null|\n",
      "|nm0006629| Christian Daugherty|camera_department...|          null|\n",
      "|nm0007270|           James 52X|     archive_footage|          null|\n",
      "|nm0007315|        Linus Aaberg|        art_director|          null|\n",
      "|nm0007316|        Linus Aaberg|     special_effects|          null|\n",
      "|nm0007356|        John Aalberg|sound_department,...|          null|\n",
      "|nm0007364|      Joan Aalestrup|  make_up_department|          null|\n",
      "|nm0007447|       Charles Aaron|               actor|          null|\n",
      "|nm0007470|         Lindy Aaron|             actress|          null|\n",
      "|nm0007474|     Nancy-Rae Aaron|             actress|          null|\n",
      "|nm0007560|        Major Aaxton|              editor|          null|\n",
      "|nm0007570|         Elena Ababy|                null|          null|\n",
      "|nm0007755|       Loraine Abate|             actress|          null|\n",
      "|nm0007756|         Marie Abate|                null|          null|\n",
      "|nm0007880|           Leo Abbey|               actor|          null|\n",
      "|nm0007936|        Billy Abbott|   camera_department|          null|\n",
      "|nm0007981|      Imogene Abbott|  make_up_department|          null|\n",
      "|nm0008058|      Stephen Abbott|               actor|          null|\n",
      "|nm0008062|       Sylvia Abbott|             actress|          null|\n",
      "|nm0008070|        Wendu Abbott|                null|          null|\n",
      "+---------+--------------------+--------------------+--------------+\n",
      "only showing top 20 rows\n",
      "\n"
     ]
    }
   ],
   "source": [
    "missing_primary_name = df.filter(col(\"knownForTitles\").isNull())\n",
    "missing_primary_name.show()"
   ]
  },
  {
   "cell_type": "code",
   "execution_count": 46,
   "id": "3bc00624-5928-4ea0-be58-f5d5bf372dc7",
   "metadata": {},
   "outputs": [
    {
     "name": "stderr",
     "output_type": "stream",
     "text": [
      "                                                                                "
     ]
    },
    {
     "data": {
      "text/plain": [
       "1214003"
      ]
     },
     "execution_count": 46,
     "metadata": {},
     "output_type": "execute_result"
    }
   ],
   "source": [
    "df.filter(col(\"primaryProfession\").isNull() & col(\"knownForTitles\").isNull()).count()"
   ]
  },
  {
   "cell_type": "code",
   "execution_count": 47,
   "id": "07d119a1-2a59-48cb-b0a8-096ad1210e97",
   "metadata": {},
   "outputs": [],
   "source": [
    "df = df.dropna(subset=[\"primaryProfession\", \"knownForTitles\"], how=\"all\")"
   ]
  },
  {
   "cell_type": "code",
   "execution_count": 48,
   "id": "2c45c013-6236-4d1d-8a19-72815d6e72e1",
   "metadata": {},
   "outputs": [
    {
     "name": "stderr",
     "output_type": "stream",
     "text": [
      "                                                                                "
     ]
    },
    {
     "data": {
      "text/plain": [
       "0"
      ]
     },
     "execution_count": 48,
     "metadata": {},
     "output_type": "execute_result"
    }
   ],
   "source": [
    "df.filter(col(\"primaryProfession\").isNull() & col(\"knownForTitles\").isNull()).count()"
   ]
  },
  {
   "cell_type": "code",
   "execution_count": 49,
   "id": "1aa55dab-4d38-46c3-8ce7-362a2d7a2d08",
   "metadata": {},
   "outputs": [
    {
     "name": "stderr",
     "output_type": "stream",
     "text": [
      "                                                                                "
     ]
    },
    {
     "data": {
      "text/plain": [
       "13053421"
      ]
     },
     "execution_count": 49,
     "metadata": {},
     "output_type": "execute_result"
    }
   ],
   "source": [
    "df.count()"
   ]
  },
  {
   "cell_type": "code",
   "execution_count": 50,
   "id": "9f859de5-e167-40d9-8fca-356056e46185",
   "metadata": {},
   "outputs": [
    {
     "name": "stdout",
     "output_type": "stream",
     "text": [
      "+---------+-------------------+--------------------+--------------------+\n",
      "|   nconst|        primaryName|   primaryProfession|      knownForTitles|\n",
      "+---------+-------------------+--------------------+--------------------+\n",
      "|nm0000001|       Fred Astaire|actor,miscellaneo...|tt0072308,tt00504...|\n",
      "|nm0000002|      Lauren Bacall|actress,soundtrac...|tt0037382,tt00752...|\n",
      "|nm0000003|    Brigitte Bardot|actress,music_dep...|tt0057345,tt00491...|\n",
      "|nm0000004|       John Belushi|actor,writer,musi...|tt0072562,tt00779...|\n",
      "|nm0000005|     Ingmar Bergman|writer,director,a...|tt0050986,tt00694...|\n",
      "|nm0000006|     Ingrid Bergman|actress,producer,...|tt0034583,tt00381...|\n",
      "|nm0000007|    Humphrey Bogart|actor,producer,mi...|tt0034583,tt00432...|\n",
      "|nm0000008|      Marlon Brando|actor,director,wr...|tt0078788,tt00686...|\n",
      "|nm0000009|     Richard Burton|actor,producer,di...|tt0061184,tt00878...|\n",
      "|nm0000010|       James Cagney|actor,director,pr...|tt0029870,tt00318...|\n",
      "|nm0000011|        Gary Cooper|actor,stunts,prod...|tt0044706,tt00341...|\n",
      "|nm0000012|        Bette Davis|actress,make_up_d...|tt0042192,tt00566...|\n",
      "|nm0000013|          Doris Day|actress,producer,...|tt0048317,tt00455...|\n",
      "|nm0000014|Olivia de Havilland|actress,soundtrac...|tt0031381,tt00414...|\n",
      "|nm0000015|         James Dean|actor,miscellaneo...|tt0048028,tt00485...|\n",
      "|nm0000016|    Georges Delerue|composer,music_de...|tt0091763,tt00963...|\n",
      "|nm0000017|   Marlene Dietrich|actress,music_dep...|tt0051201,tt00211...|\n",
      "|nm0000018|       Kirk Douglas|actor,producer,di...|tt0043338,tt00807...|\n",
      "|nm0000019|   Federico Fellini|writer,director,a...|tt0056801,tt00507...|\n",
      "|nm0000020|        Henry Fonda|actor,producer,mi...|tt0050083,tt00828...|\n",
      "+---------+-------------------+--------------------+--------------------+\n",
      "only showing top 20 rows\n",
      "\n"
     ]
    }
   ],
   "source": [
    "df.show()"
   ]
  },
  {
   "cell_type": "code",
   "execution_count": null,
   "id": "292a565c-a23f-46c4-9078-78a77f9a38d8",
   "metadata": {},
   "outputs": [],
   "source": [
    "import os\n",
    "import shutil\n",
    "\n",
    "output_path = \"../output_folder\"\n",
    "output_file = \"../name.basics_cleaned.tsv\"\n",
    "\n",
    "df.coalesce(1).write.option(\"header\", True).option(\"sep\", \"\\t\").mode(\"overwrite\").csv(output_path)"
   ]
  },
  {
   "cell_type": "code",
   "execution_count": 58,
   "id": "cc7c8155-fe71-49e8-b832-dccc736b5199",
   "metadata": {},
   "outputs": [
    {
     "name": "stdout",
     "output_type": "stream",
     "text": [
      ".part-00000-cb169563-d1d4-44b6-942a-b5aed19b62bd-c000.csv.crc\n",
      "._SUCCESS.crc\n",
      "_SUCCESS\n"
     ]
    }
   ],
   "source": [
    "for file in os.listdir(output_path):\n",
    "    print(file)\n",
    "    if file.startswith(\"part-\") and file.endswith(\".csv\"):\n",
    "        shutil.move(os.path.join(output_path, file), output_file)\n",
    "        break\n",
    "\n",
    "shutil.rmtree(output_path)"
   ]
  },
  {
   "cell_type": "code",
   "execution_count": null,
   "id": "38169811-d4f4-4a4f-bf47-233bd616108d",
   "metadata": {},
   "outputs": [],
   "source": []
  }
 ],
 "metadata": {
  "kernelspec": {
   "display_name": "Python 3 (ipykernel)",
   "language": "python",
   "name": "python3"
  },
  "language_info": {
   "codemirror_mode": {
    "name": "ipython",
    "version": 3
   },
   "file_extension": ".py",
   "mimetype": "text/x-python",
   "name": "python",
   "nbconvert_exporter": "python",
   "pygments_lexer": "ipython3",
   "version": "3.10.2"
  }
 },
 "nbformat": 4,
 "nbformat_minor": 5
}
