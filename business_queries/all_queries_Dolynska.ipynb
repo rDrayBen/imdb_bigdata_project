{
 "cells": [
  {
   "cell_type": "markdown",
   "id": "c7b6464d-65fa-4916-b6f8-a243149087d7",
   "metadata": {},
   "source": [
    "Overall functions count:\n",
    "- filter: 3 -> 5\n",
    "- join: 2 -> 6\n",
    "- group by: 2 -> 5\n",
    "- order by: _ -> 6\n",
    "- window function: 2 -> 3"
   ]
  },
  {
   "cell_type": "code",
   "execution_count": 1,
   "id": "884fe8e2-4877-46af-9c34-ed0bc4a611c8",
   "metadata": {},
   "outputs": [
    {
     "name": "stderr",
     "output_type": "stream",
     "text": [
      "Using Spark's default log4j profile: org/apache/spark/log4j-defaults.properties\n",
      "Setting default log level to \"WARN\".\n",
      "To adjust logging level use sc.setLogLevel(newLevel). For SparkR, use setLogLevel(newLevel).\n",
      "25/04/14 13:06:56 WARN NativeCodeLoader: Unable to load native-hadoop library for your platform... using builtin-java classes where applicable\n"
     ]
    }
   ],
   "source": [
    "from pyspark.sql import SparkSession\n",
    "\n",
    "# spark = SparkSession.builder.appName(\"IMDB Queries\").getOrCreate()\n",
    "spark = (SparkSession.builder.appName(\"IMDB Queries\")\n",
    "         .config(\"spark.executor.memory\", \"4g\")\n",
    "         .config(\"spark.driver.memory\", \"4g\")\n",
    "         .getOrCreate())\n",
    "spark.sparkContext.setLogLevel(\"ERROR\")"
   ]
  },
  {
   "cell_type": "code",
   "execution_count": 3,
   "id": "bbfda1b1-0d79-47aa-962c-6725d09d16f3",
   "metadata": {},
   "outputs": [],
   "source": [
    "import os"
   ]
  },
  {
   "cell_type": "code",
   "execution_count": 173,
   "id": "9f29d537-b963-4009-b2b6-89c5f6245cea",
   "metadata": {},
   "outputs": [],
   "source": [
    "data_dir = \"../data\"\n",
    "title_basics_path = os.path.abspath(f\"{data_dir}/title.basics.cleaned.tsv\")\n",
    "title_ratings_path = os.path.abspath(f\"{data_dir}/title.ratings.cleaned.tsv\")\n",
    "title_akas_path = os.path.abspath(f\"{data_dir}/title.akas.cleaned.tsv\")\n",
    "title_crew_path = os.path.abspath(f\"{data_dir}/title.crew.cleaned.tsv\")\n",
    "title_crew_path = os.path.abspath(f\"{data_dir}/title.crew.cleaned.tsv\")\n",
    "name_basics_path = os.path.abspath(f\"{data_dir}/name.basics.cleaned.tsv\")\n",
    "title_principals_path = os.path.abspath(f\"{data_dir}/title.principals.cleaned.tsv\")\n",
    "\n",
    "title_crew = spark.read.csv(title_crew_path, header=True, sep=\"\\t\")\n",
    "title_basics = spark.read.csv(title_basics_path, header=True, sep=\"\\t\")\n",
    "title_ratings = spark.read.csv(title_ratings_path, header=True, sep=\"\\t\")\n",
    "title_akas = spark.read.csv(title_akas_path, header=True, sep=\"\\t\")\n",
    "name_basics = spark.read.csv(name_basics_path, header=True, sep=\"\\t\")\n",
    "title_principals = spark.read.csv(title_principals_path, header=True, sep=\"\\t\")"
   ]
  },
  {
   "cell_type": "markdown",
   "id": "55a1978d-7774-4a63-9138-f94aac6bca85",
   "metadata": {
    "jp-MarkdownHeadingCollapsed": true
   },
   "source": [
    "### Query 1: Визначити топ-N країн, фільми яких мають найвищу середню оцінку? (+ відфільтрувати за мінімальною кількістю голосів)"
   ]
  },
  {
   "cell_type": "markdown",
   "id": "dd49a9c8-8ea7-4fe2-b899-271fed0c5c23",
   "metadata": {},
   "source": [
    "Визначити топ-N країн, фільми яких мають найвищу середню оцінку?\n",
    "   (можна ще відфільтрувати за мінімальною кількістю голосів)\n",
    "   - Таблиці: title.basics, title.ratings, title.akas\n",
    "   - Операції: join, group by, filter, order by"
   ]
  },
  {
   "cell_type": "code",
   "execution_count": 5,
   "id": "5083c261-a76a-4000-aaa8-d3b5852864f7",
   "metadata": {},
   "outputs": [],
   "source": [
    "import os\n",
    "from pyspark.sql.functions import avg, desc\n",
    "from pyspark.sql.functions import split, explode, col, avg, desc"
   ]
  },
  {
   "cell_type": "code",
   "execution_count": 8,
   "id": "85e92ca5-f954-4540-9e74-397732922d21",
   "metadata": {},
   "outputs": [
    {
     "name": "stderr",
     "output_type": "stream",
     "text": [
      "                                                                                "
     ]
    }
   ],
   "source": [
    "# data_dir = \"../data\"\n",
    "# title_basics_path = os.path.abspath(f\"{data_dir}/title.basics.cleaned.tsv\")\n",
    "# title_ratings_path = os.path.abspath(f\"{data_dir}/title.ratings.cleaned.tsv\")\n",
    "# title_akas_path = os.path.abspath(f\"{data_dir}/title.akas.cleaned.tsv\")\n",
    "\n",
    "# title_basics = spark.read.csv(title_basics_path, header=True, sep=\"\\t\")\n",
    "# title_ratings = spark.read.csv(title_ratings_path, header=True, sep=\"\\t\")\n",
    "# title_akas = spark.read.csv(title_akas_path, header=True, sep=\"\\t\")"
   ]
  },
  {
   "cell_type": "code",
   "execution_count": 6,
   "id": "f9bb7865-2539-49c1-991c-bb1020e5da23",
   "metadata": {},
   "outputs": [
    {
     "name": "stdout",
     "output_type": "stream",
     "text": [
      "+---------+---------+--------------------+--------------------+-------+----------+-------+--------------+--------------------+\n",
      "|   tconst|titleType|        primaryTitle|       originalTitle|isAdult| startYear|endYear|runtimeMinutes|              genres|\n",
      "+---------+---------+--------------------+--------------------+-------+----------+-------+--------------+--------------------+\n",
      "|tt0000009|    movie|          Miss Jerry|          Miss Jerry|      0|1894-01-01|   null|            45|             Romance|\n",
      "|tt0000147|    movie|The Corbett-Fitzs...|The Corbett-Fitzs...|      0|1897-01-01|   null|           100|Documentary,News,...|\n",
      "|tt0000574|    movie|The Story of the ...|The Story of the ...|      0|1906-01-01|   null|            70|Action,Adventure,...|\n",
      "+---------+---------+--------------------+--------------------+-------+----------+-------+--------------+--------------------+\n",
      "only showing top 3 rows\n",
      "\n"
     ]
    }
   ],
   "source": [
    "movies = title_basics.filter(col(\"titleType\") == \"movie\")\n",
    "movies.show(3)"
   ]
  },
  {
   "cell_type": "code",
   "execution_count": 7,
   "id": "0e090daf-a491-4902-9924-060a0631469c",
   "metadata": {},
   "outputs": [],
   "source": [
    "movies_with_region = movies.join(title_akas.select(\"titleId\", \"region\"), \n",
    "                                 movies[\"tconst\"] == title_akas[\"titleId\"], \n",
    "                                 how=\"inner\").drop(title_akas[\"titleId\"])\n",
    "\n",
    "movies_with_ratings = movies_with_region.join(title_ratings, on=\"tconst\", how=\"inner\") \\\n",
    "    .withColumn(\"averageRating\", col(\"averageRating\").cast(\"double\")) \\\n",
    "    .withColumn(\"numVotes\", col(\"numVotes\").cast(\"int\"))"
   ]
  },
  {
   "cell_type": "code",
   "execution_count": 9,
   "id": "5f4a4600-6859-4e42-b19e-d8b6c36f6a00",
   "metadata": {},
   "outputs": [
    {
     "name": "stderr",
     "output_type": "stream",
     "text": [
      "[Stage 13:>                                                         (0 + 1) / 1]"
     ]
    },
    {
     "name": "stdout",
     "output_type": "stream",
     "text": [
      "+---------+---------+------------+--------------+-------+----------+-------+--------------+--------------------+-------+-------------+--------+\n",
      "|   tconst|titleType|primaryTitle| originalTitle|isAdult| startYear|endYear|runtimeMinutes|              genres| region|averageRating|numVotes|\n",
      "+---------+---------+------------+--------------+-------+----------+-------+--------------+--------------------+-------+-------------+--------+\n",
      "|tt0002423|    movie|     Passion|Madame DuBarry|      0|1919-01-01|   null|           113|Biography,Drama,R...|Unknown|          6.6|    1063|\n",
      "|tt0002423|    movie|     Passion|Madame DuBarry|      0|1919-01-01|   null|           113|Biography,Drama,R...|     US|          6.6|    1063|\n",
      "|tt0002423|    movie|     Passion|Madame DuBarry|      0|1919-01-01|   null|           113|Biography,Drama,R...|     SE|          6.6|    1063|\n",
      "+---------+---------+------------+--------------+-------+----------+-------+--------------+--------------------+-------+-------------+--------+\n",
      "only showing top 3 rows\n",
      "\n"
     ]
    },
    {
     "name": "stderr",
     "output_type": "stream",
     "text": [
      "                                                                                "
     ]
    }
   ],
   "source": [
    "min_votes = 1000\n",
    "filtered = movies_with_ratings.filter(col(\"numVotes\") >= min_votes)\n",
    "filtered.show(3)"
   ]
  },
  {
   "cell_type": "code",
   "execution_count": 10,
   "id": "aec14dbe-2c76-4c19-a005-c450f64b6b2f",
   "metadata": {},
   "outputs": [],
   "source": [
    "avg_ratings_by_country = filtered.groupBy(\"region\").agg(\n",
    "    avg(\"averageRating\").alias(\"avg_rating\")\n",
    ").orderBy(desc(\"avg_rating\"))\n",
    "\n",
    "N = 10\n",
    "top_n_countries = avg_ratings_by_country.limit(N)"
   ]
  },
  {
   "cell_type": "code",
   "execution_count": 11,
   "id": "719630b0-5aaf-4811-8e2a-660ae3ee58ed",
   "metadata": {},
   "outputs": [
    {
     "name": "stderr",
     "output_type": "stream",
     "text": [
      "[Stage 21:====================================================>   (16 + 1) / 17]"
     ]
    },
    {
     "name": "stdout",
     "output_type": "stream",
     "text": [
      "+------+------------------+\n",
      "|region|avg_rating        |\n",
      "+------+------------------+\n",
      "|LY    |8.399999999999999 |\n",
      "|JO    |7.8               |\n",
      "|UG    |7.55              |\n",
      "|MM    |7.5               |\n",
      "|NP    |7.451515151515151 |\n",
      "|SD    |7.449999999999999 |\n",
      "|CSXX  |7.35              |\n",
      "|PS    |7.290909090909091 |\n",
      "|DDDE  |7.1808219178082195|\n",
      "|BT    |7.1571428571428575|\n",
      "+------+------------------+\n",
      "\n"
     ]
    },
    {
     "name": "stderr",
     "output_type": "stream",
     "text": [
      "                                                                                "
     ]
    }
   ],
   "source": [
    "top_n_countries.show(N, truncate=False)"
   ]
  },
  {
   "cell_type": "code",
   "execution_count": 12,
   "id": "88d9c647-6cd2-40e6-bce5-6ce8988ab8e7",
   "metadata": {},
   "outputs": [],
   "source": [
    "region_mapping = {\n",
    "    \"LY\": \"Libya\",\n",
    "    \"JO\": \"Jordan\",\n",
    "    \"UG\": \"Uganda\",\n",
    "    \"MM\": \"Myanmar\",\n",
    "    \"NP\": \"Nepal\",\n",
    "    \"SD\": \"Sudan\",\n",
    "    \"CSXX\": \"Czech Republic\",\n",
    "    \"PS\": \"Palestine\",\n",
    "    \"DDDE\": \"Germany\",\n",
    "    \"BT\": \"Bhutan\"\n",
    "}\n",
    "\n",
    "broadcast_region_mapping = spark.sparkContext.broadcast(region_mapping)"
   ]
  },
  {
   "cell_type": "code",
   "execution_count": 13,
   "id": "6d373db3-8b55-4347-b7a6-6ef6b0ce3284",
   "metadata": {},
   "outputs": [],
   "source": [
    "from pyspark.sql.functions import udf\n",
    "from pyspark.sql.types import StringType\n",
    "\n",
    "def get_country_name(region_code):\n",
    "    return broadcast_region_mapping.value.get(region_code, \"Unknown\")\n",
    "\n",
    "get_country_name_udf = udf(get_country_name, StringType())\n",
    "expanded_regions = top_n_countries.withColumn(\"country\", get_country_name_udf(col(\"region\")))"
   ]
  },
  {
   "cell_type": "code",
   "execution_count": 14,
   "id": "7a124e99-4379-4abf-83d5-792421ba030f",
   "metadata": {},
   "outputs": [
    {
     "name": "stderr",
     "output_type": "stream",
     "text": [
      "[Stage 33:====================================================>   (16 + 1) / 17]"
     ]
    },
    {
     "name": "stdout",
     "output_type": "stream",
     "text": [
      "+------+------------------+--------------+\n",
      "|region|avg_rating        |country       |\n",
      "+------+------------------+--------------+\n",
      "|LY    |8.399999999999999 |Libya         |\n",
      "|JO    |7.8               |Jordan        |\n",
      "|UG    |7.55              |Uganda        |\n",
      "|MM    |7.5               |Myanmar       |\n",
      "|NP    |7.451515151515151 |Nepal         |\n",
      "|SD    |7.449999999999999 |Sudan         |\n",
      "|CSXX  |7.35              |Czech Republic|\n",
      "|PS    |7.290909090909091 |Palestine     |\n",
      "|DDDE  |7.1808219178082195|Germany       |\n",
      "|BT    |7.1571428571428575|Bhutan        |\n",
      "+------+------------------+--------------+\n",
      "\n"
     ]
    },
    {
     "name": "stderr",
     "output_type": "stream",
     "text": [
      "                                                                                "
     ]
    }
   ],
   "source": [
    "expanded_regions.show(N, truncate=False)"
   ]
  },
  {
   "cell_type": "markdown",
   "id": "f7b5a256-df9f-4d8a-95c8-b0cd498083ac",
   "metadata": {
    "jp-MarkdownHeadingCollapsed": true
   },
   "source": [
    "### Query 2: Які фільми отримали найкращу оцінку від користувачів у кожному десятилітті?"
   ]
  },
  {
   "cell_type": "markdown",
   "id": "d3c25aae-2364-487c-bac9-2531acfa8951",
   "metadata": {},
   "source": [
    "Які фільми отримали найбільшу кількість голосів користувачів (за рейтингом або кількістю відгуків) у кожному десятилітті?\n",
    "   - Таблиці: title.basics, title.ratings\n",
    "   - Операції: join, order by, filter, window"
   ]
  },
  {
   "cell_type": "code",
   "execution_count": 184,
   "id": "e2d8710f-04cd-496b-a24c-13baf32acd27",
   "metadata": {},
   "outputs": [],
   "source": [
    "from pyspark.sql.functions import col, floor, desc, row_number\n",
    "from pyspark.sql.window import Window"
   ]
  },
  {
   "cell_type": "code",
   "execution_count": 189,
   "id": "3c8ef1a0-0208-4f06-be9e-89173cba0e26",
   "metadata": {},
   "outputs": [],
   "source": [
    "movies = title_basics.filter(col(\"titleType\") == \"movie\") \\\n",
    "    .withColumn(\"startYear\", substring(\"startYear\", 1, 4).cast(\"int\")) \\\n",
    "    .filter(col(\"startYear\").isNotNull()) \\\n",
    "    .join(title_ratings, on=\"tconst\", how=\"inner\")\n",
    "\n",
    "movies_with_decade = movies.withColumn(\"decade\", (floor(col(\"startYear\") / 10) * 10).cast(\"int\"))"
   ]
  },
  {
   "cell_type": "code",
   "execution_count": 192,
   "id": "9b206c9e-3685-4e9f-9cd4-f424f54eb162",
   "metadata": {},
   "outputs": [
    {
     "name": "stderr",
     "output_type": "stream",
     "text": [
      "[Stage 1526:========>                                               (1 + 6) / 7]"
     ]
    },
    {
     "name": "stdout",
     "output_type": "stream",
     "text": [
      "+---------------------------+------+---------+-------------+--------+\n",
      "|primaryTitle               |decade|startYear|averageRating|numVotes|\n",
      "+---------------------------+------+---------+-------------+--------+\n",
      "|Miss Jerry                 |1890  |1894     |5.4          |223     |\n",
      "|België                     |1900  |1909     |7.4          |28      |\n",
      "|Powder                     |1910  |1916     |9.0          |16      |\n",
      "|Chhatrapati Sambhaji       |1920  |1924     |9.3          |18      |\n",
      "|Dhrubo                     |1930  |1934     |9.6          |6       |\n",
      "|The College                |1940  |1943     |9.9          |65      |\n",
      "|Greenland                  |1950  |1952     |9.4          |5       |\n",
      "|Pinagbuklod ng langit      |1960  |1969     |9.5          |10      |\n",
      "|Against Reason and by Force|1970  |1974     |9.6          |5       |\n",
      "|Csonka Bereg               |1980  |1989     |9.8          |6       |\n",
      "|Juventud en drogas         |1990  |1996     |9.8          |8       |\n",
      "|Kot ptic                   |2000  |2006     |9.9          |16      |\n",
      "|Pipe Dreams                |2010  |2019     |9.9          |8       |\n",
      "|Branded by Fire            |2020  |2021     |9.9          |9       |\n",
      "+---------------------------+------+---------+-------------+--------+\n",
      "\n"
     ]
    },
    {
     "name": "stderr",
     "output_type": "stream",
     "text": [
      "                                                                                "
     ]
    }
   ],
   "source": [
    "window_spec = Window.partitionBy(\"decade\").orderBy(desc(\"averageRating\"), desc(\"numVotes\"))\n",
    "\n",
    "top_movies_per_decade = movies_with_decade.withColumn(\"rank\", row_number().over(window_spec)) \\\n",
    "    .filter(col(\"rank\") == 1) \\\n",
    "    .select(\"primaryTitle\", \"decade\", \"startYear\", \"averageRating\", \"numVotes\")\n",
    "\n",
    "top_movies_per_decade.orderBy(\"decade\").show(truncate=False)"
   ]
  },
  {
   "cell_type": "code",
   "execution_count": 193,
   "id": "5ba74cf6-9eec-4162-a13c-8209b1e0b0a5",
   "metadata": {},
   "outputs": [
    {
     "name": "stderr",
     "output_type": "stream",
     "text": [
      "[Stage 1535:================================================>       (6 + 1) / 7]"
     ]
    },
    {
     "name": "stdout",
     "output_type": "stream",
     "text": [
      "+-------------------------------+------+---------+-------------+--------+\n",
      "|primaryTitle                   |decade|startYear|averageRating|numVotes|\n",
      "+-------------------------------+------+---------+-------------+--------+\n",
      "|Jeffries-Sharkey Contest       |1890  |1899     |3.8          |81      |\n",
      "|The Story of the Kelly Gang    |1900  |1906     |6.0          |980     |\n",
      "|Back to God's Country          |1910  |1919     |6.2          |993     |\n",
      "|Lights of New York             |1920  |1928     |5.7          |999     |\n",
      "|Mayerling                      |1930  |1936     |7.0          |996     |\n",
      "|Kiss of Death                  |1940  |1947     |7.4          |9998    |\n",
      "|The Conquest of Everest        |1950  |1953     |7.3          |998     |\n",
      "|Vodka, Mr. Palmu               |1960  |1969     |5.9          |999     |\n",
      "|The Hanging Woman              |1970  |1973     |5.7          |998     |\n",
      "|Bad Timing: A Sensual Obsession|1980  |1980     |6.9          |9994    |\n",
      "|Foxfire                        |1990  |1996     |6.1          |9991    |\n",
      "|The Girl Who Played with Fire  |2000  |2009     |7.1          |99935   |\n",
      "|The Smurfs                     |2010  |2011     |5.4          |99974   |\n",
      "|The Old Way                    |2020  |2023     |5.5          |9993    |\n",
      "+-------------------------------+------+---------+-------------+--------+\n",
      "\n"
     ]
    },
    {
     "name": "stderr",
     "output_type": "stream",
     "text": [
      "                                                                                "
     ]
    }
   ],
   "source": [
    "window_spec = Window.partitionBy(\"decade\").orderBy(desc(\"numVotes\"), desc(\"averageRating\"))\n",
    "\n",
    "top_movies_per_decade_2 = movies_with_decade.withColumn(\"rank\", row_number().over(window_spec)) \\\n",
    "    .filter(col(\"rank\") == 1) \\\n",
    "    .select(\"primaryTitle\", \"decade\", \"startYear\", \"averageRating\", \"numVotes\")\n",
    "\n",
    "top_movies_per_decade_2.orderBy(\"decade\").show(truncate=False)"
   ]
  },
  {
   "cell_type": "markdown",
   "id": "c9a8124a-98f8-449d-b5ff-b8a6d873e92e",
   "metadata": {
    "jp-MarkdownHeadingCollapsed": true
   },
   "source": [
    "### Query 3: Які режисери мають найвищу середню оцінку серед фільмів, випущених у різних жанрах? (+ відфільтрувати за мінімальною кількістю знятих фільмів (n=15))"
   ]
  },
  {
   "cell_type": "markdown",
   "id": "33b581e0-f26a-4b8b-83ec-529f8063a908",
   "metadata": {},
   "source": [
    "Які режисери мають найвищу середню оцінку серед фільмів, випущених у різних жанрах?\n",
    "   (можливо ще відфільтрувати за мінімальною кількістю знятих фільмів (n=15))\n",
    "   - Таблиці: title.crew, title.ratings, title.basics, name.basics\n",
    "   - Операції: join, group by, filter, window, order by"
   ]
  },
  {
   "cell_type": "code",
   "execution_count": 34,
   "id": "6d2a2526-7e05-4c1c-ae98-46f9f82ba487",
   "metadata": {},
   "outputs": [],
   "source": [
    "from pyspark.sql.functions import col, explode, split, avg, count, row_number\n",
    "from pyspark.sql.window import Window"
   ]
  },
  {
   "cell_type": "code",
   "execution_count": 18,
   "id": "9f11242f-942d-4845-922d-57b3628eae07",
   "metadata": {},
   "outputs": [],
   "source": [
    "movies = title_basics.filter((col(\"titleType\") == \"movie\"))"
   ]
  },
  {
   "cell_type": "code",
   "execution_count": 20,
   "id": "b62050f5-9d1d-4ad9-9faa-c553076270d5",
   "metadata": {},
   "outputs": [],
   "source": [
    "movies_with_ratings = movies.join(title_ratings, on=\"tconst\")\n",
    "\n",
    "movies_with_directors = movies_with_ratings.join(title_crew.select(\"tconst\", \"directors\"), on=\"tconst\")"
   ]
  },
  {
   "cell_type": "code",
   "execution_count": 35,
   "id": "54d99ccf-bdec-45dc-9c4f-b27a87966284",
   "metadata": {},
   "outputs": [],
   "source": [
    "movies_exploded = movies_with_directors \\\n",
    "    .withColumn(\"director\", explode(split(col(\"directors\"), \",\"))) \\\n",
    "    .withColumn(\"genre\", explode(split(col(\"genres\"), \",\"))) \\\n",
    "    .filter(col(\"genre\").isNotNull())\n",
    "\n",
    "director_genre_stats = movies_exploded.groupBy(\"director\", \"genre\") \\\n",
    "    .agg(\n",
    "        avg(col(\"averageRating\")).alias(\"avg_rating\"),\n",
    "        count(\"*\").alias(\"movie_count\")\n",
    "    ) \\\n",
    "    .filter(col(\"movie_count\") >= 15)\n",
    "\n",
    "director_genre_named = director_genre_stats.join(\n",
    "    name_basics.select(\"nconst\", \"primaryName\"),\n",
    "    director_genre_stats.director == name_basics.nconst,\n",
    "    \"left\"\n",
    ")\n",
    "\n",
    "genre_window = Window.partitionBy(\"genre\").orderBy(col(\"avg_rating\").desc())\n",
    "ranked = director_genre_named.withColumn(\"rank\", row_number().over(genre_window))\n",
    "\n",
    "top_directors_unique_genres = ranked.filter(col(\"rank\") == 1) \\\n",
    "    .select(\"primaryName\", \"genre\", \"avg_rating\", \"movie_count\") \\\n",
    "    .orderBy(col(\"avg_rating\").desc())"
   ]
  },
  {
   "cell_type": "code",
   "execution_count": 37,
   "id": "b889e5fa-6628-4a3e-9c7f-b6864b02f94d",
   "metadata": {},
   "outputs": [
    {
     "name": "stderr",
     "output_type": "stream",
     "text": [
      "[Stage 157:===================================================>   (16 + 1) / 17]"
     ]
    },
    {
     "name": "stdout",
     "output_type": "stream",
     "text": [
      "+-------------------------+-----------+------------------+-----------+\n",
      "|primaryName              |genre      |avg_rating        |movie_count|\n",
      "+-------------------------+-----------+------------------+-----------+\n",
      "|Sibtain Fazli            |Drama      |9.066666666666666 |15         |\n",
      "|Sergey A.                |Documentary|8.945454545454545 |22         |\n",
      "|Alonso O. Lara           |Crime      |8.725             |16         |\n",
      "|Mariano Alvarez          |Action     |8.388235294117647 |17         |\n",
      "|Claudio Costa            |Biography  |8.305263157894737 |19         |\n",
      "|Claudio Costa            |History    |8.105             |20         |\n",
      "|P. Ramlee                |Comedy     |7.983333333333334 |18         |\n",
      "|Paul Dugdale             |Music      |7.927272727272728 |22         |\n",
      "|K. Viswanath             |Musical    |7.773684210526315 |19         |\n",
      "|William Higgins          |Adult      |7.75              |24         |\n",
      "|Chuck Jones              |Animation  |7.48              |15         |\n",
      "|William Wyler            |Romance    |7.390000000000001 |20         |\n",
      "|Alfred Hitchcock         |Mystery    |7.366666666666667 |27         |\n",
      "|Steven Spielberg         |Adventure  |7.2562500000000005|16         |\n",
      "|Fritz Lang               |Film-Noir  |7.129411764705882 |17         |\n",
      "|Sergey A.                |Horror     |7.011363636363638 |44         |\n",
      "|Sergey A.                |Thriller   |6.9944444444444445|18         |\n",
      "|Anthony Giordano         |Sport      |6.875000000000001 |16         |\n",
      "|Babubhai Mistry          |Fantasy    |6.875             |16         |\n",
      "|Henry Hathaway           |Western    |6.6               |15         |\n",
      "|Gilberto Martínez Solares|Family     |6.468750000000001 |16         |\n",
      "|Raoul Walsh              |War        |5.925000000000001 |16         |\n",
      "|Ishirô Honda             |Sci-Fi     |5.824324324324325 |37         |\n",
      "+-------------------------+-----------+------------------+-----------+\n",
      "\n"
     ]
    },
    {
     "name": "stderr",
     "output_type": "stream",
     "text": [
      "                                                                                "
     ]
    }
   ],
   "source": [
    "top_directors_unique_genres.show(25, truncate=False)"
   ]
  },
  {
   "cell_type": "markdown",
   "id": "e94ca3a7-3bd6-4490-b042-b778b7ffefa0",
   "metadata": {
    "jp-MarkdownHeadingCollapsed": true
   },
   "source": [
    "### Query 4: Як змінювалося середня оцінка для усіх фільмів для режисерів (топ-N за кількістю фільмів або за найвищим середнім рейтингом) протягом кожних 5-ти років їхньої кар'єри (порівняно з їхньою загальною середньою оцінкою за всю кар'єру)?"
   ]
  },
  {
   "cell_type": "markdown",
   "id": "76dc96ee-7c6b-4c91-902f-d48248dba124",
   "metadata": {},
   "source": [
    "Як змінювалося середня оцінка для усіх фільмів для режисерів (топ-N за кількістю фільмів або за найвищим середнім рейтингом) протягом кожних 5-ти років їхньої кар'єри (порівняно з їхньою загальною середньою оцінкою за всю кар'єру)? +\n",
    "   * Взяти середній рейтинг першого фільму (рейтинг на початку кар'єри) та загальний рейтинг (середній рейтинг режисера за всю кар'єру). Також рахувати середній рейтинг фільмів, знятих кожні 5 років протягом усієї кар'єри режисера\n",
    "   - Таблиці: title.crew, title.basics, title.ratings\n",
    "   - Операції: join, group by, window, filters, order by"
   ]
  },
  {
   "cell_type": "code",
   "execution_count": 154,
   "id": "535896a7-aa65-4632-bdfa-bcf7da5b6002",
   "metadata": {},
   "outputs": [],
   "source": [
    "import os\n",
    "from pyspark.sql import SparkSession\n",
    "from pyspark.sql import functions as F\n",
    "from pyspark.sql.functions import (\n",
    "    col, substring, avg, count, floor, split, explode, min, max, lit, first, last, format_number, when, lag)\n",
    "from pyspark.sql.window import Window"
   ]
  },
  {
   "cell_type": "code",
   "execution_count": 2,
   "id": "3bcf85ed-7479-4a0a-ad41-4bf126c756f3",
   "metadata": {},
   "outputs": [
    {
     "name": "stderr",
     "output_type": "stream",
     "text": [
      "Using Spark's default log4j profile: org/apache/spark/log4j-defaults.properties\n",
      "Setting default log level to \"WARN\".\n",
      "To adjust logging level use sc.setLogLevel(newLevel). For SparkR, use setLogLevel(newLevel).\n",
      "25/04/06 21:06:08 WARN NativeCodeLoader: Unable to load native-hadoop library for your platform... using builtin-java classes where applicable\n"
     ]
    }
   ],
   "source": [
    "spark = (SparkSession.builder.appName(\"Directors productivity analysis\")\n",
    "         .config(\"spark.executor.memory\", \"4g\")\n",
    "         .config(\"spark.driver.memory\", \"4g\")\n",
    "         .getOrCreate())\n",
    "\n",
    "# data_dir = \"../data\"\n",
    "# title_crew_path = os.path.abspath(f\"{data_dir}/title.crew.cleaned.tsv\")\n",
    "# title_basics_path = os.path.abspath(f\"{data_dir}/title.basics.cleaned.tsv\")\n",
    "# title_ratings_path = os.path.abspath(f\"{data_dir}/title.ratings.cleaned.tsv\")\n",
    "\n",
    "# title_crew = spark.read.csv(title_crew_path, header=True, sep=\"\\t\")\n",
    "# title_basics = spark.read.csv(title_basics_path, header=True, sep=\"\\t\")\n",
    "# title_ratings = spark.read.csv(title_ratings_path, header=True, sep=\"\\t\")"
   ]
  },
  {
   "cell_type": "code",
   "execution_count": 148,
   "id": "b17e8555-4c6a-474e-8446-f354852ce84d",
   "metadata": {},
   "outputs": [],
   "source": [
    "movies = (title_basics\n",
    "          .filter(col(\"titleType\") == \"movie\")\n",
    "          .withColumn(\"startYear\", substring(\"startYear\", 1, 4).cast(\"int\"))\n",
    "          .select(\"tconst\", \"startYear\"))\n",
    "\n",
    "movies_with_directors = title_crew.select(\"tconst\", \"directors\")\n",
    "ratings = title_ratings.select(\"tconst\", \"averageRating\")\n",
    "\n",
    "director_movies = (movies_with_directors\n",
    "                   .withColumn(\"director_nconst\", explode(split(col(\"directors\"), \",\")))\n",
    "                   .join(name_basics, name_basics.nconst == col(\"director_nconst\"))\n",
    "                   .select(\"tconst\", \"director_nconst\", \"primaryName\"))\n",
    "\n",
    "director_movies = director_movies.join(movies, \"tconst\")\n",
    "director_movies = director_movies.join(ratings, \"tconst\")\n",
    "\n",
    "top_n_directors = (director_movies\n",
    "                   .groupBy(\"primaryName\")\n",
    "                   .agg(count(\"tconst\").alias(\"film_count\"))\n",
    "                   .orderBy(col(\"film_count\").desc())\n",
    "                   .limit(10))\n",
    "\n",
    "director_movies = director_movies.join(top_n_directors, director_movies.primaryName == top_n_directors.primaryName).drop(top_n_directors.primaryName)"
   ]
  },
  {
   "cell_type": "code",
   "execution_count": 149,
   "id": "ef44074d-d8c4-4237-8efa-aa898ec9da90",
   "metadata": {},
   "outputs": [
    {
     "name": "stderr",
     "output_type": "stream",
     "text": [
      "                                                                                "
     ]
    },
    {
     "name": "stdout",
     "output_type": "stream",
     "text": [
      "+---------+---------------+---------+-------------+--------------+----------+\n",
      "|   tconst|director_nconst|startYear|averageRating|   primaryName|film_count|\n",
      "+---------+---------------+---------+-------------+--------------+----------+\n",
      "|tt0007910|      nm0002031|     1918|          6.5|Michael Curtiz|       156|\n",
      "|tt0009322|      nm0002031|     1919|          4.0|Michael Curtiz|       156|\n",
      "|tt0009622|      nm0002031|     1918|          4.3|Michael Curtiz|       156|\n",
      "+---------+---------------+---------+-------------+--------------+----------+\n",
      "only showing top 3 rows\n",
      "\n"
     ]
    }
   ],
   "source": [
    "director_movies.show(3)"
   ]
  },
  {
   "cell_type": "code",
   "execution_count": 150,
   "id": "a48dfa82-b36d-4f7d-b2cb-d4a6c1feb70c",
   "metadata": {},
   "outputs": [
    {
     "name": "stderr",
     "output_type": "stream",
     "text": [
      "[Stage 661:===================================>                   (11 + 6) / 17]"
     ]
    },
    {
     "name": "stdout",
     "output_type": "stream",
     "text": [
      "+--------------+---------+---------------+---------+-------------+----------+---------+--------+\n",
      "|   primaryName|   tconst|director_nconst|startYear|averageRating|film_count|firstYear|lastYear|\n",
      "+--------------+---------+---------------+---------+-------------+----------+---------+--------+\n",
      "|Michael Curtiz|tt0007910|      nm0002031|     1918|          6.5|       156|     1913|    1961|\n",
      "|Michael Curtiz|tt0009322|      nm0002031|     1919|          4.0|       156|     1913|    1961|\n",
      "|Michael Curtiz|tt0009622|      nm0002031|     1918|          4.3|       156|     1913|    1961|\n",
      "|Michael Curtiz|tt0011011|      nm0002031|     1920|          4.6|       156|     1913|    1961|\n",
      "|Michael Curtiz|tt0014171|      nm0002031|     1923|          4.6|       156|     1913|    1961|\n",
      "|Michael Curtiz|tt0019917|      nm0002031|     1929|          4.9|       156|     1913|    1961|\n",
      "|Michael Curtiz|tt0026418|      nm0002031|     1935|          6.0|       156|     1913|    1961|\n",
      "|Michael Curtiz|tt0026632|      nm0002031|     1935|          6.2|       156|     1913|    1961|\n",
      "|Michael Curtiz|tt0028310|      nm0002031|     1937|          6.3|       156|     1913|    1961|\n",
      "|Michael Curtiz|tt0046949|      nm0002031|     1954|          6.5|       156|     1913|    1961|\n",
      "+--------------+---------+---------------+---------+-------------+----------+---------+--------+\n",
      "only showing top 10 rows\n",
      "\n"
     ]
    },
    {
     "name": "stderr",
     "output_type": "stream",
     "text": [
      "                                                                                "
     ]
    }
   ],
   "source": [
    "first_last_years = (director_movies\n",
    "                    .groupBy(\"primaryName\")\n",
    "                    .agg(min(\"startYear\").alias(\"firstYear\"), max(\"startYear\").alias(\"lastYear\")))\n",
    "\n",
    "director_movies = director_movies.join(first_last_years, \"primaryName\")\n",
    "director_movies.show(10)"
   ]
  },
  {
   "cell_type": "code",
   "execution_count": 151,
   "id": "c26426d4-c1b1-4856-9538-2b45ef8916c9",
   "metadata": {},
   "outputs": [],
   "source": [
    "# career_window = Window.partitionBy(\"director\")\n",
    "# director_movies = (director_movies\n",
    "#                    .withColumn(\"averageRating\", avg(\"averageRating\").over(career_window).cast(\"double\")))\n",
    "#\n",
    "# ratings_summary = (director_movies\n",
    "#                    .select(\"director\",\n",
    "#                            format_number(col(\"firstFilmRating\"), 2).alias(\"firstFilmRating\"),\n",
    "#                            format_number(col(\"lastFilmRating\"), 2).alias(\"lastFilmRating\"))\n",
    "#                            # format_number(col(\"averageRating\"), 2).alias(\"averageRating\"))\n",
    "#                    .dropDuplicates([\"director\"]))\n",
    "# ratings_summary.show(10)"
   ]
  },
  {
   "cell_type": "code",
   "execution_count": 156,
   "id": "b3cbf949-86b8-4760-bb81-819ba2d41f7f",
   "metadata": {},
   "outputs": [
    {
     "name": "stderr",
     "output_type": "stream",
     "text": [
      "                                                                                "
     ]
    }
   ],
   "source": [
    "def round_to_5_years(year_col):\n",
    "    # return col(year_col)\n",
    "    return floor(col(year_col) / 5) * 5\n",
    "\n",
    "director_movies = director_movies.withColumn(\"careerPeriod\", round_to_5_years(\"startYear\"))\n",
    "periodic_avg_ratings = (director_movies\n",
    "                        .groupBy(\"primaryName\", \"careerPeriod\")\n",
    "                        .agg(avg(\"averageRating\").alias(\"periodicAvgRating\")))\n",
    "\n",
    "min_window = director_movies.agg(min(\"careerPeriod\")).collect()[0][0]\n",
    "max_window = director_movies.agg(max(\"careerPeriod\")).collect()[0][0]\n",
    "\n",
    "five_years = list(range(min_window, max_window + 5, 5))\n",
    "five_years_df = spark.createDataFrame([(d,) for d in five_years], [\"careerPeriod\"])\n",
    "\n",
    "full_director_five_years = (top_n_directors\n",
    "                            .crossJoin(five_years_df)\n",
    "                            .join(periodic_avg_ratings, [\"primaryName\", \"careerPeriod\"], \"left\"))\n",
    "\n",
    "director_movies_pivoted = (full_director_five_years\n",
    "                           .groupBy(\"primaryName\", \"film_count\")\n",
    "                           .pivot(\"careerPeriod\", five_years)\n",
    "                           .agg(avg(\"periodicAvgRating\"))\n",
    "                           .na.fill(\"-\"))\n",
    "\n",
    "for year in range(min_window, max_window + 5, 5):\n",
    "    col_name = f\"{year}\"\n",
    "    formatted_col = f\"{year}_{(year - (year // 100) * 100) + 4}\"\n",
    "    director_movies_pivoted = (\n",
    "        director_movies_pivoted\n",
    "        .withColumnRenamed(col_name, formatted_col)\n",
    "        .withColumn(formatted_col, format_number(col(formatted_col), 2))\n",
    "        .withColumn(formatted_col, when(col(formatted_col).isNotNull(), col(formatted_col)).otherwise(lit(\"-\"))))\n",
    "\n",
    "director_movies_pivoted = director_movies_pivoted.na.fill(\"-\")\n",
    "\n",
    "year_columns = director_movies_pivoted.columns[2:]\n",
    "long_df = director_movies_pivoted.select(\n",
    "    'primaryName',\n",
    "    F.explode(F.array(\n",
    "        *[F.struct(F.lit(year).alias(\"year\"), F.col(year).alias(\"rating\")) for year in year_columns])).alias(\n",
    "        \"year_rating\")\n",
    ").select(\n",
    "    'year_rating.year',\n",
    "    'primaryName',\n",
    "    'year_rating.rating'\n",
    ")\n",
    "\n",
    "pivoted_df = long_df.groupBy('year').pivot('primaryName').agg(F.first('rating'))"
   ]
  },
  {
   "cell_type": "code",
   "execution_count": 158,
   "id": "9437cb5e-a18d-4821-ba74-aca7387159d3",
   "metadata": {},
   "outputs": [
    {
     "name": "stderr",
     "output_type": "stream",
     "text": [
      "                                                                                "
     ]
    },
    {
     "name": "stdout",
     "output_type": "stream",
     "text": [
      "+-------+-------------------------+----------+------------+---------------+-----------+--------------+--------------+--------------+------------+----------------+\n",
      "|   year|Gilberto Martínez Solares|Godfrey Ho|Jesús Franco|Lesley Selander|Lew Landers|Michael Curtiz|Osman F. Seden|Richard Thorpe|Sam Newfield|William Beaudine|\n",
      "+-------+-------------------------+----------+------------+---------------+-----------+--------------+--------------+--------------+------------+----------------+\n",
      "|1910_14|                        -|         -|           -|              -|          -|          4.07|             -|             -|           -|               -|\n",
      "|1915_19|                        -|         -|           -|              -|          -|          4.32|             -|             -|           -|               -|\n",
      "|1920_24|                        -|         -|           -|              -|          -|          4.98|             -|          4.38|           -|            7.00|\n",
      "+-------+-------------------------+----------+------------+---------------+-----------+--------------+--------------+--------------+------------+----------------+\n",
      "only showing top 3 rows\n",
      "\n"
     ]
    }
   ],
   "source": [
    "pivoted_df.show(3)"
   ]
  },
  {
   "cell_type": "code",
   "execution_count": 160,
   "id": "96ef2f7e-1972-4576-bb3d-2f665a19bf92",
   "metadata": {},
   "outputs": [
    {
     "name": "stdout",
     "output_type": "stream",
     "text": [
      "['primaryName', 'film_count', '1910_14', '1915_19', '1920_24', '1925_29', '1930_34', '1935_39', '1940_44', '1945_49', '1950_54', '1955_59', '1960_64', '1965_69', '1970_74', '1975_79', '1980_84', '1985_89', '1990_94', '1995_99', '2000_4', '2005_9', '2010_14']\n"
     ]
    }
   ],
   "source": [
    "print(director_movies_pivoted.columns)"
   ]
  },
  {
   "cell_type": "code",
   "execution_count": 161,
   "id": "81d764f7-b55e-488a-bf68-7eefb5e5496d",
   "metadata": {},
   "outputs": [
    {
     "name": "stdout",
     "output_type": "stream",
     "text": [
      "['year', 'Gilberto Martínez Solares', 'Godfrey Ho', 'Jesús Franco', 'Lesley Selander', 'Lew Landers', 'Michael Curtiz', 'Osman F. Seden', 'Richard Thorpe', 'Sam Newfield', 'William Beaudine']\n"
     ]
    }
   ],
   "source": [
    "print(pivoted_df.columns)"
   ]
  },
  {
   "cell_type": "code",
   "execution_count": 164,
   "id": "6d7f3d45-a7f6-4b8a-a06e-c3e06d853c5e",
   "metadata": {},
   "outputs": [],
   "source": [
    "pivoted_df_cleaned = pivoted_df\n",
    "for col_name in pivoted_df.columns:\n",
    "    cleaned_name = col_name.replace(\" \", \"_\").replace(\".\", \"\")\n",
    "    pivoted_df_cleaned = pivoted_df_cleaned.withColumnRenamed(col_name, cleaned_name)\n",
    "\n",
    "result_df = pivoted_df_cleaned.select(\n",
    "    'year',\n",
    "    *[\n",
    "        F.when(\n",
    "            (F.col(director) == '-') & (F.lag(F.col(director)).over(window_spec) == '-'),\n",
    "            '-'\n",
    "        ).when(\n",
    "            (F.col(director) != '-') & (F.lag(F.col(director)).over(window_spec) == '-'),\n",
    "            F.col(director)\n",
    "        ).when(\n",
    "            (F.col(director) != '-') & (F.lag(F.col(director)).over(window_spec) != '-'),\n",
    "            F.round(F.col(director) - F.lag(F.col(director)).over(window_spec), 2)\n",
    "        ).otherwise(F.col(director)).alias(director)\n",
    "        for director in pivoted_df_cleaned.columns[1:]\n",
    "    ]\n",
    ")"
   ]
  },
  {
   "cell_type": "code",
   "execution_count": 170,
   "id": "470f40e4-6f05-4ff4-bdf3-14f475414e25",
   "metadata": {},
   "outputs": [
    {
     "name": "stderr",
     "output_type": "stream",
     "text": [
      "                                                                                "
     ]
    },
    {
     "name": "stdout",
     "output_type": "stream",
     "text": [
      "+-------+----------------+----------+------------+---------------+-----------+--------------+-------------+--------------+------------+----------------+\n",
      "|year   |Gilberto_Mart...|Godfrey_Ho|Jesús_Franco|Lesley_Selander|Lew_Landers|Michael_Curtiz|Osman_F_Seden|Richard_Thorpe|Sam_Newfield|William_Beaudine|\n",
      "+-------+----------------+----------+------------+---------------+-----------+--------------+-------------+--------------+------------+----------------+\n",
      "|1910_14|-               |-         |-           |-              |-          |4.07          |-            |-             |-           |-               |\n",
      "|1915_19|-               |-         |-           |-              |-          |0.25          |-            |-             |-           |-               |\n",
      "|1920_24|-               |-         |-           |-              |-          |0.66          |-            |4.38          |-           |7.00            |\n",
      "|1925_29|-               |-         |-           |-              |-          |0.2           |-            |1.13          |-           |-0.37           |\n",
      "|1930_34|-               |-         |-           |-              |6.77       |0.87          |-            |-0.25         |5.46        |-0.26           |\n",
      "|1935_39|5.30            |-         |-           |6.32           |-0.85      |0.67          |-            |1.15          |0.19        |-0.04           |\n",
      "|1940_44|1.15            |-         |-           |0.03           |-0.04      |0.03          |-            |-0.08         |-0.04       |-0.9            |\n",
      "|1945_49|0.31            |-         |-           |-0.24          |-0.03      |0.12          |-            |-0.17         |0.17        |0.59            |\n",
      "|1950_54|0.48            |-         |-           |-0.21          |-0.31      |-0.14         |-            |0.2           |-0.75       |0.0             |\n",
      "|1955_59|-0.55           |-         |5.70        |-0.09          |-0.14      |-0.26         |5.96         |-0.62         |0.57        |-0.2            |\n",
      "|1960_64|-0.68           |-         |0.13        |-              |-1.1       |-0.27         |-0.11        |0.07          |-           |-0.02           |\n",
      "|1965_69|0.15            |-         |-0.89       |5.46           |-          |-             |0.0          |0.56          |-           |-1.07           |\n",
      "|1970_74|-0.33           |4.80      |0.08        |-              |-          |-             |-0.46        |-             |-           |0.37            |\n",
      "|1975_79|0.11            |1.2       |-0.35       |-              |-          |-             |0.73         |-             |-           |0.2             |\n",
      "|1980_84|-0.33           |-0.86     |0.11        |-              |-          |-             |-1.44        |-             |-           |-               |\n",
      "|1985_89|0.17            |-0.89     |0.35        |-              |-          |-             |0.36         |-             |-           |-               |\n",
      "|1990_94|-0.75           |0.06      |-0.3        |-              |-          |-             |-            |-             |-           |-               |\n",
      "|1995_99|1.32            |0.84      |-1.33       |-              |-          |-             |-            |-             |-           |-               |\n",
      "|2000_4 |-               |-0.95     |-0.4        |-              |-          |-             |-            |-             |-           |-               |\n",
      "|2005_9 |-               |-         |2.68        |-              |-          |-             |-            |-             |-           |-               |\n",
      "|2010_14|-               |-         |-1.8        |-              |-          |-             |-            |-             |-           |-               |\n",
      "+-------+----------------+----------+------------+---------------+-----------+--------------+-------------+--------------+------------+----------------+\n",
      "\n"
     ]
    }
   ],
   "source": [
    "pivoted_df_cleaned = result_df.withColumnRenamed(\"Gilberto_Martínez_Solares\", \"Gilberto_Mart...\")\n",
    "pivoted_df_cleaned.show(50, truncate=False)"
   ]
  },
  {
   "cell_type": "markdown",
   "id": "a5bfe854-6a8c-4879-98b5-289a3e39d782",
   "metadata": {
    "jp-MarkdownHeadingCollapsed": true
   },
   "source": [
    "### Query 5: Які жанри мають найвищий середній рейтинг (середня оцінка) та як змінювався їхній середній рейтинг протягом кожного десятиліття?"
   ]
  },
  {
   "cell_type": "markdown",
   "id": "36d018e7-a720-4f4e-b5d2-2dd0cd9c8710",
   "metadata": {},
   "source": [
    "Які жанри мають найвищий середній рейтинг (середня оцінка) та як змінювався їхній середній рейтинг протягом кожного десятиліття? +-\n",
    "   - Таблиці: title.ratings, title.basics\n",
    "   - Операції: join, group by, order by"
   ]
  },
  {
   "cell_type": "code",
   "execution_count": 126,
   "id": "90d10107-4c0d-4102-a51c-9eba40b354b0",
   "metadata": {},
   "outputs": [],
   "source": [
    "from pyspark.sql.functions import col, explode, split, avg, count, floor, substring, when, lit"
   ]
  },
  {
   "cell_type": "code",
   "execution_count": 123,
   "id": "89c57631-c354-4082-a5f1-75fece7f8a96",
   "metadata": {},
   "outputs": [],
   "source": [
    "title_basics_trimmed = title_basics.withColumn(\"tconst\", trim(col(\"tconst\")))\n",
    "title_ratings_trimmed = title_ratings.withColumn(\"tconst\", trim(col(\"tconst\")))\n",
    "\n",
    "movies = title_basics_trimmed.filter(col(\"titleType\") == \"movie\")\\\n",
    "          .withColumn(\"startYear\", substring(\"startYear\", 1, 4).cast(\"int\"))\n",
    "joined_df = movies.join(title_ratings_trimmed, on=\"tconst\", how=\"inner\")"
   ]
  },
  {
   "cell_type": "code",
   "execution_count": 124,
   "id": "bfa2d547-3273-44ac-bfce-135becb4fd91",
   "metadata": {},
   "outputs": [],
   "source": [
    "joined_df = joined_df \\\n",
    "    .withColumn(\"genre\", explode(split(col(\"genres\"), \",\"))) \\\n",
    "    .withColumn(\"startYear\", when(col(\"startYear\").isNotNull(), col(\"startYear\").cast(\"int\"))) \\\n",
    "    .withColumn(\"decade\", floor(col(\"startYear\") / 10) * 10)"
   ]
  },
  {
   "cell_type": "code",
   "execution_count": 129,
   "id": "f53ded40-04e5-411a-8b64-6c4b29ff5bcf",
   "metadata": {},
   "outputs": [
    {
     "name": "stderr",
     "output_type": "stream",
     "text": [
      "[Stage 547:========>                                                (1 + 6) / 7]"
     ]
    },
    {
     "name": "stdout",
     "output_type": "stream",
     "text": [
      "+-----------+----+----+----+----+----+----+----+----+----+----+----+----+----+----+\n",
      "|genre      |1890|1900|1910|1920|1930|1940|1950|1960|1970|1980|1990|2000|2010|2020|\n",
      "+-----------+----+----+----+----+----+----+----+----+----+----+----+----+----+----+\n",
      "|Action     |-   |4.90|5.85|5.80|5.84|6.03|6.11|6.01|5.87|5.58|5.54|5.56|5.73|5.90|\n",
      "|Adult      |-   |-   |-   |-   |-   |-   |-   |5.56|5.19|5.69|6.18|5.79|6.14|6.52|\n",
      "|Adventure  |-   |4.60|5.48|5.48|5.80|5.92|5.87|5.80|5.77|5.68|5.80|5.76|6.04|6.02|\n",
      "|Animation  |-   |-   |6.00|6.03|6.34|6.35|6.56|6.51|6.48|6.60|6.46|6.24|6.23|6.41|\n",
      "|Biography  |-   |6.15|5.94|6.29|6.37|6.46|6.51|6.63|6.63|6.68|6.88|6.95|7.09|6.90|\n",
      "|Comedy     |-   |3.97|6.06|6.14|6.15|6.16|6.03|5.92|5.64|5.74|5.86|5.85|5.86|6.02|\n",
      "|Crime      |-   |-   |6.09|5.90|6.06|6.20|6.16|6.04|5.86|5.79|5.84|5.91|5.98|6.13|\n",
      "|Documentary|3.90|4.72|6.26|6.49|6.38|6.39|6.58|6.73|6.93|7.19|7.17|7.27|7.22|7.27|\n",
      "|Drama      |-   |4.94|6.01|6.15|6.14|6.27|6.32|6.23|6.13|6.07|6.16|6.20|6.25|6.40|\n",
      "|Family     |-   |5.50|5.66|6.47|6.30|6.46|6.47|6.36|6.36|6.23|5.93|5.93|6.22|6.14|\n",
      "|Fantasy    |-   |4.55|5.83|6.48|6.30|6.45|6.41|6.01|5.94|5.88|5.77|5.69|5.70|5.85|\n",
      "|Film-Noir  |-   |-   |-   |7.03|6.40|6.53|6.40|-   |-   |-   |-   |-   |-   |-   |\n",
      "|Game-Show  |-   |-   |-   |-   |-   |7.40|6.80|-   |7.40|-   |5.90|-   |5.85|7.50|\n",
      "|History    |-   |4.93|6.01|6.28|6.24|6.31|6.36|6.55|6.62|6.68|6.76|6.85|6.97|6.81|\n",
      "|Horror     |-   |5.90|5.52|5.97|5.88|5.86|5.50|5.43|5.27|5.12|5.09|4.87|4.82|5.00|\n",
      "|Music      |-   |3.85|3.75|5.84|6.02|6.10|6.13|6.18|6.50|6.38|6.76|6.91|7.05|7.08|\n",
      "|Musical    |-   |3.80|4.57|6.05|6.16|6.23|6.06|6.07|6.10|5.91|6.09|6.02|6.40|6.70|\n",
      "|Mystery    |-   |-   |6.19|5.94|6.06|6.21|6.28|6.12|5.98|5.82|5.77|5.78|5.66|5.78|\n",
      "|News       |4.15|4.30|5.70|6.40|6.15|-   |7.10|7.18|7.30|-   |-   |7.23|7.24|7.50|\n",
      "|Reality-TV |-   |-   |-   |-   |-   |-   |-   |-   |7.35|6.60|6.00|7.08|6.63|6.26|\n",
      "+-----------+----+----+----+----+----+----+----+----+----+----+----+----+----+----+\n",
      "only showing top 20 rows\n",
      "\n"
     ]
    },
    {
     "name": "stderr",
     "output_type": "stream",
     "text": [
      "                                                                                "
     ]
    }
   ],
   "source": [
    "genre_by_decade = joined_df.groupBy(\"genre\", \"decade\") \\\n",
    "    .agg(avg(\"averageRating\").alias(\"avg_rating\"))\n",
    "\n",
    "decade_values = genre_by_decade.select(\"decade\").distinct().orderBy(\"decade\") \\\n",
    "    .rdd.flatMap(lambda x: x).collect()\n",
    "\n",
    "genre_pivoted = genre_by_decade.groupBy(\"genre\") \\\n",
    "    .pivot(\"decade\", decade_values) \\\n",
    "    .agg(avg(\"avg_rating\")) \\\n",
    "    .orderBy(\"genre\")\n",
    "\n",
    "formatted_df = genre_pivoted\n",
    "for decade in decade_values:\n",
    "    decade_str = str(decade)\n",
    "    if decade_str in formatted_df.columns:\n",
    "        formatted_df = formatted_df.withColumn(\n",
    "            decade_str,\n",
    "            when(col(decade_str).isNull(), lit(\"-\"))\n",
    "            .otherwise(format_number(col(decade_str), 2))\n",
    "            .cast(\"string\")\n",
    "        )\n",
    "columns = formatted_df.columns\n",
    "formatted_df = formatted_df.drop(columns[1])\n",
    "\n",
    "formatted_df.show(truncate=False)"
   ]
  },
  {
   "cell_type": "markdown",
   "id": "ff36275c-7762-460f-b496-1a0d0adc9e83",
   "metadata": {
    "jp-MarkdownHeadingCollapsed": true
   },
   "source": [
    "### Query 6: Які актори найчастіше з'являються у найнерейтинговіших фільмах (із середньою оцінкою нижче 5.0), але які при цьому входять до топ-N фільмів за кількістю відгуків?"
   ]
  },
  {
   "cell_type": "markdown",
   "id": "3b9c80a1-f1fd-40f6-b8d0-3bfdc92cb7c9",
   "metadata": {},
   "source": [
    "Які актори найчастіше з’являються у найнерейтинговіших фільмах (за середньою оцінкою)? \n",
    "Які актори найчастіше з'являються у найнерейтинговіших фільмах (із середньою оцінкою нижче 5.0), але які при цьому входять до топ-N фільмів за кількістю відгуків?\n",
    "   - Таблиці: title.ratings, title.principals, title.basics, name.basics\n",
    "   - Операції: join, group by, filter, order by"
   ]
  },
  {
   "cell_type": "code",
   "execution_count": 174,
   "id": "c55f38eb-8e0e-404f-8b4e-b56eaaa70a6d",
   "metadata": {},
   "outputs": [],
   "source": [
    "movies = title_basics.filter(col(\"titleType\") == \"movie\")\n",
    "\n",
    "low_rated_movies = movies.join(title_ratings, on=\"tconst\") \\\n",
    "                         .filter(col(\"averageRating\") < 5.0)"
   ]
  },
  {
   "cell_type": "code",
   "execution_count": 181,
   "id": "836939c8-1855-420c-b544-a74d9fc251d1",
   "metadata": {},
   "outputs": [],
   "source": [
    "N = 500\n",
    "top_n_low_rated = low_rated_movies.orderBy(col(\"numVotes\").desc()).limit(N)"
   ]
  },
  {
   "cell_type": "code",
   "execution_count": 182,
   "id": "9602e566-7466-4245-86db-07ab2dd64358",
   "metadata": {},
   "outputs": [],
   "source": [
    "actors = title_principals.filter(col(\"category\").isin(\"actor\", \"actress\"))\n",
    "\n",
    "actors_in_top_n_bad_movies = top_n_low_rated.join(actors, on=\"tconst\")\n",
    "actors_with_names = actors_in_top_n_bad_movies.join(name_basics, on=\"nconst\")\n",
    "\n",
    "actor_counts = actors_with_names.groupBy(\"nconst\", \"primaryName\") \\\n",
    "                                .count() \\\n",
    "                                .orderBy(desc(\"count\"))"
   ]
  },
  {
   "cell_type": "code",
   "execution_count": 183,
   "id": "d06ebe99-6c2a-4d8d-9413-a9c0a62ba263",
   "metadata": {},
   "outputs": [
    {
     "name": "stderr",
     "output_type": "stream",
     "text": [
      "                                                                                "
     ]
    },
    {
     "name": "stdout",
     "output_type": "stream",
     "text": [
      "+---------+------------------+-----+\n",
      "|nconst   |primaryName       |count|\n",
      "+---------+------------------+-----+\n",
      "|nm0364490|Brad Harris       |4    |\n",
      "|nm0353624|Dan Haggerty      |4    |\n",
      "|nm0434580|Michael Kagan     |3    |\n",
      "|nm0184392|Martin Kove       |3    |\n",
      "|nm0637508|Zachi Noy         |3    |\n",
      "|nm0596701|Paul Naschy       |3    |\n",
      "|nm0441955|Yftach Katzur     |3    |\n",
      "|nm0039068|John Ashley       |3    |\n",
      "|nm0001142|Uschi Digard      |3    |\n",
      "|nm0006763|Jackie Shroff     |3    |\n",
      "|nm0505323|Johny Lever       |3    |\n",
      "|nm0868692|José Torres       |3    |\n",
      "|nm0930611|Freeman Williams  |3    |\n",
      "|nm1102326|Gino Turini       |3    |\n",
      "|nm0595110|Colin Mochrie     |3    |\n",
      "|nm0823155|Don Stark         |2    |\n",
      "|nm0370827|Ron Haydock       |2    |\n",
      "|nm0205791|Ivano Davoli      |2    |\n",
      "|nm0740067|Maurice Ronet     |2    |\n",
      "|nm0021251|Alexander Allerson|2    |\n",
      "+---------+------------------+-----+\n",
      "only showing top 20 rows\n",
      "\n"
     ]
    }
   ],
   "source": [
    "pivoted_df_cleaned = result_df.withColumnRenamed(\"count\", \"Films with low rating but top number of votes\")\n",
    "actor_counts.show(20, truncate=False)"
   ]
  }
 ],
 "metadata": {
  "kernelspec": {
   "display_name": "Python 3 (ipykernel)",
   "language": "python",
   "name": "python3"
  },
  "language_info": {
   "codemirror_mode": {
    "name": "ipython",
    "version": 3
   },
   "file_extension": ".py",
   "mimetype": "text/x-python",
   "name": "python",
   "nbconvert_exporter": "python",
   "pygments_lexer": "ipython3",
   "version": "3.10.2"
  }
 },
 "nbformat": 4,
 "nbformat_minor": 5
}
