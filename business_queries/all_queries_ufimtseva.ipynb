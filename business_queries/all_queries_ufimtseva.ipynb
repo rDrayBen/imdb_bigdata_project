{
 "cells": [
  {
   "metadata": {},
   "cell_type": "markdown",
   "source": [
    "#### Як змінювався середній рейтинг фільмів в залежності від мови за останні 5 років порівняно з середнім рейтингом цих фільмів за весь час?\n",
    "\n"
   ],
   "id": "cd04363e7e2aeceb"
  },
  {
   "metadata": {
    "ExecuteTime": {
     "end_time": "2025-04-15T10:20:37.829617Z",
     "start_time": "2025-04-15T10:20:35.857754Z"
    }
   },
   "cell_type": "code",
   "source": [
    "from data_preparation.title_principals_extract_transform import \\\n",
    "    title_principals_extract_transform\n",
    "from data_preparation.name_basics_extract_transform import \\\n",
    "    name_basics_extract_transform\n",
    "from data_preparation.title_akas_extract_transform import \\\n",
    "    title_akas_extract_transform\n",
    "from data_preparation.title_ratings_extract_transform import \\\n",
    "    title_ratings_extract_transform\n",
    "from data_preparation.title_basics_extract_transform import \\\n",
    "    title_basics_extract_transform\n",
    "from business_queries.query_ufimtseva import get_titles_by_region, \\\n",
    "    compute_language_rating_trends, get_top_rated_alternative_titles, \\\n",
    "    actors_in_high_rated_movies, movies_quartiles_by_region, \\\n",
    "    translations_by_region\n",
    "from pyspark.sql import SparkSession\n",
    "\n",
    "name_basics_path = \"../data/name.basics.tsv\"\n",
    "title_akas_path = \"../data/title.akas.tsv\"\n",
    "title_basics_path = \"../data/title.basics.tsv\"\n",
    "title_crew_path = \"../data/title.crew.tsv\"\n",
    "title_episode_path = \"../data/title.episode.tsv\"\n",
    "title_principals_path = \"../data/title.principals.tsv\"\n",
    "title_ratings_path = \"../data/title.ratings.tsv\"\n",
    "\n",
    "spark = SparkSession.builder \\\n",
    "        .appName(\"IMDB Data Analysis\") \\\n",
    "        .config(\"spark.driver.memory\", \"12g\") \\\n",
    "        .getOrCreate()\n",
    "name_basics_df = name_basics_extract_transform(spark, name_basics_path)\n",
    "title_akas_df = title_akas_extract_transform(spark, title_akas_path)\n",
    "title_basics_df = title_basics_extract_transform(spark, title_basics_path)\n",
    "title_principals_df = title_principals_extract_transform(spark, title_principals_path)\n",
    "title_ratings_df = title_ratings_extract_transform(spark, title_ratings_path)\n"
   ],
   "id": "4ba34a83b9ee6d68",
   "outputs": [],
   "execution_count": 2
  },
  {
   "metadata": {
    "collapsed": true,
    "ExecuteTime": {
     "end_time": "2025-04-15T10:28:01.064070Z",
     "start_time": "2025-04-15T10:24:15.260869Z"
    }
   },
   "cell_type": "code",
   "source": [
    "\n",
    "language_rating_trends_df = compute_language_rating_trends(\n",
    "    title_basics_df,\n",
    "    title_ratings_df,\n",
    "    title_akas_df\n",
    ")\n",
    "language_rating_trends_df.show(truncate=False, n=10)"
   ],
   "id": "initial_id",
   "outputs": [
    {
     "name": "stderr",
     "output_type": "stream",
     "text": [
      "                                                                                \r"
     ]
    },
    {
     "name": "stdout",
     "output_type": "stream",
     "text": [
      "+--------+-----------------------+-------------------+---------------------+\n",
      "|language|Avg_Rating_Last_5_Years|Avg_Rating_All_Time|Rating_Difference    |\n",
      "+--------+-----------------------+-------------------+---------------------+\n",
      "|en      |6.388755585450938      |6.41024701072111   |-0.021491425270172115|\n",
      "|ro      |7.300000190734863      |6.260869549668354  |1.0391306410665093   |\n",
      "|uz      |4.400000095367432      |6.738235270275789  |-2.338235174908357   |\n",
      "|ur      |6.555999965667724      |6.613888874981138  |-0.05788890931341406 |\n",
      "|pl      |4.6000001430511475     |5.850000023841858  |-1.2499998807907104  |\n",
      "|jsl     |6.400000095367432      |6.400000095367432  |0.0                  |\n",
      "|yi      |5.3                    |6.408510634239684  |-1.1085106342396838  |\n",
      "|sk      |6.719999980926514      |6.919924103557724  |-0.1999241226312103  |\n",
      "|hy      |6.5                    |6.057142862251827  |0.4428571377481729   |\n",
      "|kk      |7.539999961853027      |6.6698630346010805 |0.8701369272519468   |\n",
      "+--------+-----------------------+-------------------+---------------------+\n",
      "only showing top 10 rows\n",
      "\n"
     ]
    }
   ],
   "execution_count": 4
  },
  {
   "metadata": {},
   "cell_type": "markdown",
   "source": "#### Які локалізовані (альтернативні) назви фільмів і телевізійних шоу за останні 5 років отримали найвищі оцінки, і як вони ранжуються в кожному регіоні за середнім рейтингом?",
   "id": "1b659a4b11921474"
  },
  {
   "metadata": {
    "ExecuteTime": {
     "end_time": "2025-04-14T19:49:48.943623Z",
     "start_time": "2025-04-14T19:46:04.996645Z"
    }
   },
   "cell_type": "code",
   "source": [
    "alternative_titles = get_top_rated_alternative_titles(title_akas_df, title_ratings_df, title_basics_df)\n",
    "alternative_titles.show(truncate=False, n=20)"
   ],
   "id": "93993d2d2d476ee",
   "outputs": [
    {
     "name": "stderr",
     "output_type": "stream",
     "text": [
      "[Stage 29:===================================================>      (8 + 1) / 9]\r"
     ]
    },
    {
     "name": "stdout",
     "output_type": "stream",
     "text": [
      "+----------------------------------------+------+-------------+--------------+\n",
      "|title                                   |region|averageRating|rank_by_rating|\n",
      "+----------------------------------------+------+-------------+--------------+\n",
      "|The Oath of Cyriac                      |AD    |9.5          |1             |\n",
      "|Tirites                                 |AD    |8.8          |2             |\n",
      "|Mr. Hand Solo                           |AD    |7.0          |3             |\n",
      "|Quiet                                   |AD    |7.0          |3             |\n",
      "|Under the Ice                           |AD    |6.6          |5             |\n",
      "|Frialdad (Coldness)                     |AD    |5.7          |6             |\n",
      "|Dhoora - Always Together                |AE    |10.0         |1             |\n",
      "|Marasim - Beyond Borders                |AE    |10.0         |1             |\n",
      "|Bear: Part 1                            |AE    |9.9          |3             |\n",
      "|Wild Abu Dhabi: The Turtles of Al Dhafra|AE    |9.9          |3             |\n",
      "|Abu Dhabi Success Story                 |AE    |9.8          |5             |\n",
      "|Aparan                                  |AE    |9.8          |5             |\n",
      "|Calm Noise                              |AE    |9.8          |5             |\n",
      "|Magaladhigaram                          |AE    |9.8          |5             |\n",
      "|A Bittersweet Christmas                 |AE    |9.8          |5             |\n",
      "|Adventures in the Island of Ireland     |AE    |9.8          |5             |\n",
      "|OnlyHuman                               |AE    |9.8          |5             |\n",
      "|UAE National Day 51                     |AE    |9.7          |12            |\n",
      "|Overdue Serendipity                     |AE    |9.6          |13            |\n",
      "|Sage                                    |AE    |9.5          |14            |\n",
      "+----------------------------------------+------+-------------+--------------+\n",
      "only showing top 20 rows\n",
      "\n"
     ]
    },
    {
     "name": "stderr",
     "output_type": "stream",
     "text": [
      "                                                                                \r"
     ]
    }
   ],
   "execution_count": 9
  },
  {
   "metadata": {},
   "cell_type": "markdown",
   "source": "#### Які актори найчастіше асоціюються з фільмами з високим рейтингами, і як варіюється їхня участь залежно від регіону?",
   "id": "89b0c3816271e6e0"
  },
  {
   "metadata": {
    "ExecuteTime": {
     "end_time": "2025-04-14T19:55:18.709248Z",
     "start_time": "2025-04-14T19:52:03.408056Z"
    }
   },
   "cell_type": "code",
   "source": [
    "actors_in_high_rated_movies_df = actors_in_high_rated_movies(title_akas_df, title_ratings_df, title_principals_df, name_basics_df)\n",
    "actors_in_high_rated_movies_df.show(truncate=False, n=20)"
   ],
   "id": "f1b0c1ec044db09c",
   "outputs": [
    {
     "name": "stderr",
     "output_type": "stream",
     "text": [
      "[Stage 50:>                                                         (0 + 8) / 9]\r"
     ]
    },
    {
     "name": "stdout",
     "output_type": "stream",
     "text": [
      "+--------------------+------+-----------+\n",
      "|actor_name          |region|appearances|\n",
      "+--------------------+------+-----------+\n",
      "|Dee Bradley Baker   |US    |1995       |\n",
      "|Faye Peters         |DE    |1410       |\n",
      "|Faye Peters         |IT    |1410       |\n",
      "|Faye Peters         |PT    |1410       |\n",
      "|Faye Peters         |FR    |1409       |\n",
      "|Faye Peters         |JP    |1409       |\n",
      "|Faye Peters         |IN    |1409       |\n",
      "|Faye Peters         |ES    |1409       |\n",
      "|Dan Green           |JP    |1327       |\n",
      "|Colleen Clinkenbeard|JP    |1090       |\n",
      "|Fred Rogers         |US    |1070       |\n",
      "|Grey Griffin        |US    |1052       |\n",
      "|Frank Welker        |US    |944        |\n",
      "|Tom Kenny           |US    |943        |\n",
      "|Genevieve Howard    |FR    |938        |\n",
      "|Genevieve Howard    |IT    |938        |\n",
      "|Genevieve Howard    |JP    |938        |\n",
      "|Genevieve Howard    |IN    |938        |\n",
      "|Genevieve Howard    |ES    |938        |\n",
      "|Genevieve Howard    |DE    |938        |\n",
      "+--------------------+------+-----------+\n",
      "only showing top 20 rows\n",
      "\n"
     ]
    },
    {
     "name": "stderr",
     "output_type": "stream",
     "text": [
      "                                                                                \r"
     ]
    }
   ],
   "execution_count": 10
  },
  {
   "metadata": {},
   "cell_type": "markdown",
   "source": "#### У яких регіонах за останні 5 років було випущено найбільше оригінальних творів, і чи є зв’язок між їх кількістю та середніми оцінками?",
   "id": "aae934207826c9b8"
  },
  {
   "metadata": {
    "ExecuteTime": {
     "end_time": "2025-04-14T20:02:30.962641Z",
     "start_time": "2025-04-14T20:00:06.166066Z"
    }
   },
   "cell_type": "code",
   "source": [
    "titles_by_region_df = get_titles_by_region(title_akas_df, title_basics_df, title_ratings_df)\n",
    "titles_by_region_df.show(truncate=False, n=20)"
   ],
   "id": "b20db011d405018d",
   "outputs": [
    {
     "name": "stderr",
     "output_type": "stream",
     "text": [
      "[Stage 57:===================================================>      (8 + 1) / 9]\r"
     ]
    },
    {
     "name": "stdout",
     "output_type": "stream",
     "text": [
      "+------+-------------------+------------------+\n",
      "|region|num_original_titles|avg_rating        |\n",
      "+------+-------------------+------------------+\n",
      "|IN    |857337             |6.998960083706314 |\n",
      "|DE    |848267             |6.94235402394119  |\n",
      "|FR    |830366             |7.088119805516488 |\n",
      "|JP    |829302             |7.113833878305049 |\n",
      "|ES    |820510             |7.124436371773924 |\n",
      "|IT    |818101             |7.149352735232591 |\n",
      "|PT    |797434             |7.380931231334436 |\n",
      "|US    |269623             |6.700586325644089 |\n",
      "|GB    |89920              |6.450516264214483 |\n",
      "|CA    |76062              |6.4207843163579525|\n",
      "|AU    |45419              |6.362385292588854 |\n",
      "|XWW   |29990              |6.599783394187919 |\n",
      "|PH    |24115              |6.1725880716792   |\n",
      "|RU    |21816              |6.2763588144539595|\n",
      "|BR    |21147              |6.394928866825501 |\n",
      "|MX    |20328              |6.45109818535718  |\n",
      "|PL    |18235              |6.25512916352547  |\n",
      "|CN    |14700              |6.674720656755703 |\n",
      "|NL    |14430              |6.451370378998509 |\n",
      "|SG    |13039              |6.215177026786279 |\n",
      "+------+-------------------+------------------+\n",
      "only showing top 20 rows\n",
      "\n"
     ]
    },
    {
     "name": "stderr",
     "output_type": "stream",
     "text": [
      "                                                                                \r"
     ]
    }
   ],
   "execution_count": 11
  },
  {
   "metadata": {},
   "cell_type": "markdown",
   "source": "#### Які фільми мають найвищі середні рейтинги в кожному регіоні, якщо розподілити їх за квартилями?",
   "id": "6f6d803b0fd1f1c6"
  },
  {
   "metadata": {
    "ExecuteTime": {
     "end_time": "2025-04-14T20:08:53.952032Z",
     "start_time": "2025-04-14T20:06:12.123261Z"
    }
   },
   "cell_type": "code",
   "source": [
    "movies_quartiles_by_region_df = movies_quartiles_by_region(title_akas_df, title_basics_df, title_ratings_df)\n",
    "movies_quartiles_by_region_df.show(truncate=False, n=20)"
   ],
   "id": "cd4371a3e97599fa",
   "outputs": [
    {
     "name": "stderr",
     "output_type": "stream",
     "text": [
      "[Stage 69:==============================================>          (9 + 2) / 11]\r"
     ]
    },
    {
     "name": "stdout",
     "output_type": "stream",
     "text": [
      "+---------------------------------------------------------------------------------------------------------------------------------------------------------+------+-------------+---------------+\n",
      "|primaryTitle                                                                                                                                             |region|averageRating|rating_quartile|\n",
      "+---------------------------------------------------------------------------------------------------------------------------------------------------------+------+-------------+---------------+\n",
      "|The Oath of Cyriac                                                                                                                                       |AD    |9.5          |1              |\n",
      "|Tirites                                                                                                                                                  |AD    |8.8          |1              |\n",
      "|Impacto                                                                                                                                                  |AD    |8.1          |1              |\n",
      "|Mr. Hand Solo                                                                                                                                            |AD    |7.0          |1              |\n",
      "|Quiet                                                                                                                                                    |AD    |7.0          |2              |\n",
      "|Vesania                                                                                                                                                  |AD    |7.0          |2              |\n",
      "|Under the Ice                                                                                                                                            |AD    |6.6          |2              |\n",
      "|73'                                                                                                                                                      |AD    |6.1          |3              |\n",
      "|Le Blizzard                                                                                                                                              |AD    |5.9          |3              |\n",
      "|Frialdad (Coldness)                                                                                                                                      |AD    |5.7          |3              |\n",
      "|12 punts                                                                                                                                                 |AD    |5.0          |4              |\n",
      "|Nick                                                                                                                                                     |AD    |4.7          |4              |\n",
      "|Don't Take the Name of God in Vain                                                                                                                       |AD    |4.4          |4              |\n",
      "|Manana                                                                                                                                                   |AM    |10.0         |1              |\n",
      "|Meronq(ours)-Marco Khan                                                                                                                                  |AM    |9.8          |1              |\n",
      "|Tatev Monastery (Discover Armenia)                                                                                                                       |AM    |9.8          |1              |\n",
      "|AGBU - Rich Life Experience and Enduring Devotion                                                                                                        |AM    |9.7          |1              |\n",
      "|Heritage art concept project (third row) Vahagn Davtyan, Nahapet Quchak, Hamo Sahyan, Nerses Shnorhali, Razmik Davoyan, Hovhannes Grigoryan, Aram Pachyan|AM    |9.7          |1              |\n",
      "|Zulali                                                                                                                                                   |AM    |9.7          |1              |\n",
      "|Vano Siradeghyan.Take Your Hand Back from The Pain                                                                                                       |AM    |9.7          |1              |\n",
      "+---------------------------------------------------------------------------------------------------------------------------------------------------------+------+-------------+---------------+\n",
      "only showing top 20 rows\n",
      "\n"
     ]
    },
    {
     "name": "stderr",
     "output_type": "stream",
     "text": [
      "                                                                                \r"
     ]
    }
   ],
   "execution_count": 12
  },
  {
   "metadata": {},
   "cell_type": "markdown",
   "source": "#### У яких регіонах фільми мають найбільше перекладених назв?",
   "id": "52f1fcf90df0fc8e"
  },
  {
   "metadata": {
    "ExecuteTime": {
     "end_time": "2025-04-14T20:13:13.743142Z",
     "start_time": "2025-04-14T20:09:59.987592Z"
    }
   },
   "cell_type": "code",
   "source": [
    "translations_by_region_df = translations_by_region(title_akas_df, title_basics_df)\n",
    "translations_by_region_df.show(truncate=False, n=20)"
   ],
   "id": "73de841d38ac3e5c",
   "outputs": [
    {
     "name": "stderr",
     "output_type": "stream",
     "text": [
      "[Stage 83:>                                                         (0 + 8) / 9]\r"
     ]
    },
    {
     "name": "stdout",
     "output_type": "stream",
     "text": [
      "+-------------+------+----------------+\n",
      "|originalTitle|region|num_translations|\n",
      "+-------------+------+----------------+\n",
      "|Episode #1.1 |FR    |50405           |\n",
      "|Episode #1.1 |JP    |50390           |\n",
      "|Episode #1.1 |IT    |50389           |\n",
      "|Episode #1.1 |ES    |50389           |\n",
      "|Episode #1.1 |PT    |50389           |\n",
      "|Episode #1.1 |DE    |50389           |\n",
      "|Episode #1.1 |IN    |50389           |\n",
      "|Episode #1.2 |FR    |45784           |\n",
      "|Episode #1.2 |PT    |45763           |\n",
      "|Episode #1.2 |JP    |45763           |\n",
      "|Episode #1.2 |IT    |45763           |\n",
      "|Episode #1.2 |DE    |45763           |\n",
      "|Episode #1.2 |IN    |45763           |\n",
      "|Episode #1.2 |ES    |45763           |\n",
      "|Episode #1.3 |FR    |43288           |\n",
      "|Episode #1.3 |ES    |43269           |\n",
      "|Episode #1.3 |JP    |43268           |\n",
      "|Episode #1.3 |IT    |43268           |\n",
      "|Episode #1.3 |DE    |43268           |\n",
      "|Episode #1.3 |IN    |43268           |\n",
      "+-------------+------+----------------+\n",
      "only showing top 20 rows\n",
      "\n"
     ]
    },
    {
     "name": "stderr",
     "output_type": "stream",
     "text": [
      "                                                                                \r"
     ]
    }
   ],
   "execution_count": 13
  }
 ],
 "metadata": {
  "kernelspec": {
   "display_name": "Python 3",
   "language": "python",
   "name": "python3"
  },
  "language_info": {
   "codemirror_mode": {
    "name": "ipython",
    "version": 2
   },
   "file_extension": ".py",
   "mimetype": "text/x-python",
   "name": "python",
   "nbconvert_exporter": "python",
   "pygments_lexer": "ipython2",
   "version": "2.7.6"
  }
 },
 "nbformat": 4,
 "nbformat_minor": 5
}
